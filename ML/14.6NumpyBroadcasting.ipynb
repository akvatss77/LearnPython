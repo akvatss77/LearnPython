{
 "cells": [
  {
   "cell_type": "markdown",
   "metadata": {},
   "source": [
    "# Broadcasting"
   ]
  },
  {
   "cell_type": "markdown",
   "metadata": {},
   "source": [
    "**Broadcasting generally means how numpy deals with unequal sizes of array**"
   ]
  },
  {
   "cell_type": "markdown",
   "metadata": {},
   "source": [
    "**Compatibilty of two arrays**<br>\n",
    "**either the dimesnions should be same or dimension of one of them should be 1 where not matched**"
   ]
  },
  {
   "cell_type": "raw",
   "metadata": {},
   "source": [
    "Array1                  Array2           Compatible\n",
    " (3,2)                   (3,2)              Yes\n",
    " (3,3)                   (3,2)               No\n",
    " (3,3)                   (3,1)              Yes"
   ]
  },
  {
   "cell_type": "code",
   "execution_count": 1,
   "metadata": {},
   "outputs": [
    {
     "name": "stdout",
     "output_type": "stream",
     "text": [
      "[[1 2 5]\n",
      " [6 9 3]\n",
      " [5 7 1]]\n",
      "[[7 6 3]\n",
      " [7 6 4]\n",
      " [9 4 3]]\n"
     ]
    }
   ],
   "source": [
    "import numpy as np\n",
    "x = np.random.randint(1,10,(3,3))\n",
    "y = np.random.randint(1,10,(3,3))\n",
    "print(x)\n",
    "print(y)"
   ]
  },
  {
   "cell_type": "code",
   "execution_count": 2,
   "metadata": {},
   "outputs": [
    {
     "name": "stdout",
     "output_type": "stream",
     "text": [
      "[[-6 -4  2]\n",
      " [-1  3 -1]\n",
      " [-4  3 -2]]\n"
     ]
    }
   ],
   "source": [
    "print(x - y)"
   ]
  },
  {
   "cell_type": "code",
   "execution_count": 3,
   "metadata": {},
   "outputs": [
    {
     "name": "stdout",
     "output_type": "stream",
     "text": [
      "[[5 6 5]\n",
      " [9 2 7]\n",
      " [5 9 2]]\n",
      "[8 1 4]\n"
     ]
    }
   ],
   "source": [
    "import numpy as np\n",
    "x = np.random.randint(1,10,(3,3))\n",
    "y = np.random.randint(1,10,(3))\n",
    "print(x)\n",
    "print(y)"
   ]
  },
  {
   "cell_type": "code",
   "execution_count": 4,
   "metadata": {},
   "outputs": [
    {
     "name": "stdout",
     "output_type": "stream",
     "text": [
      "[[-3  5  1]\n",
      " [ 1  1  3]\n",
      " [-3  8 -2]]\n"
     ]
    }
   ],
   "source": [
    "print(x-y) ## here we didn't get any kind of error even though dimensions are different"
   ]
  },
  {
   "cell_type": "markdown",
   "metadata": {},
   "source": [
    "**so if row is 1 , it will be broadcasted to no of columns in first array else column will be broadcasted to required number of rows**"
   ]
  },
  {
   "cell_type": "code",
   "execution_count": 5,
   "metadata": {},
   "outputs": [
    {
     "name": "stdout",
     "output_type": "stream",
     "text": [
      "[[8 6 9]\n",
      " [2 9 3]]\n",
      "[[5 2]\n",
      " [1 8]\n",
      " [3 3]]\n"
     ]
    }
   ],
   "source": [
    "import numpy as np\n",
    "x = np.random.randint(1,10,(2,3))\n",
    "y = np.random.randint(1,10,(3,2))\n",
    "print(x)\n",
    "print(y)"
   ]
  },
  {
   "cell_type": "code",
   "execution_count": 6,
   "metadata": {},
   "outputs": [
    {
     "ename": "ValueError",
     "evalue": "operands could not be broadcast together with shapes (2,3) (3,2) ",
     "output_type": "error",
     "traceback": [
      "\u001b[1;31m---------------------------------------------------------------------------\u001b[0m",
      "\u001b[1;31mValueError\u001b[0m                                Traceback (most recent call last)",
      "\u001b[1;32m<ipython-input-6-d044d92cb732>\u001b[0m in \u001b[0;36m<module>\u001b[1;34m\u001b[0m\n\u001b[1;32m----> 1\u001b[1;33m \u001b[0mprint\u001b[0m\u001b[1;33m(\u001b[0m\u001b[0mx\u001b[0m \u001b[1;33m-\u001b[0m\u001b[0my\u001b[0m\u001b[1;33m)\u001b[0m\u001b[1;33m\u001b[0m\u001b[1;33m\u001b[0m\u001b[0m\n\u001b[0m",
      "\u001b[1;31mValueError\u001b[0m: operands could not be broadcast together with shapes (2,3) (3,2) "
     ]
    }
   ],
   "source": [
    "print(x -y)"
   ]
  },
  {
   "cell_type": "markdown",
   "metadata": {},
   "source": [
    "**To make above arrays compatible we can use transpose function**"
   ]
  },
  {
   "cell_type": "code",
   "execution_count": 7,
   "metadata": {},
   "outputs": [
    {
     "name": "stdout",
     "output_type": "stream",
     "text": [
      "[[3 5 6]\n",
      " [0 1 0]]\n"
     ]
    }
   ],
   "source": [
    "y = y.transpose()\n",
    "print(x-y)"
   ]
  },
  {
   "cell_type": "markdown",
   "metadata": {},
   "source": [
    "**read numpy.resize() and numpy.reshape() functions from the below links**"
   ]
  },
  {
   "cell_type": "raw",
   "metadata": {},
   "source": [
    "https://docs.scipy.org/doc/numpy/reference/generated/numpy.resize.html\n",
    "https://docs.scipy.org/doc/numpy/reference/generated/numpy.reshape.html "
   ]
  },
  {
   "cell_type": "raw",
   "metadata": {},
   "source": [
    "Killed in USA\n",
    "Send Feedback\n",
    "Given file \"terrorismData.csv\"\n",
    "It is an open-source database including information on terrorist attacks around the world from 1970 through 2017. This dataset includes systematic data on domestic as well as international terrorist incidents that have occurred during this time period\n",
    "Problem Statement :\n",
    "Find value of killed column only where country == ‘United States’?\n",
    "Print 0 in place of missing values.\n",
    "Print count of Killed as integer value.\n",
    "Output Format :\n",
    "Killed1\n",
    "Killed2\n",
    "Killed3\n",
    "Killed4\n",
    ". . .\n",
    ". . .\n",
    ". . ."
   ]
  },
  {
   "cell_type": "code",
   "execution_count": 30,
   "metadata": {},
   "outputs": [
    {
     "name": "stdout",
     "output_type": "stream",
     "text": [
      "0\n",
      "5\n",
      "0\n",
      "0\n",
      "0\n",
      "0\n",
      "0\n",
      "1\n",
      "0\n",
      "0\n",
      "1\n",
      "0\n",
      "0\n",
      "0\n",
      "0\n",
      "0\n",
      "0\n",
      "1\n",
      "0\n",
      "0\n",
      "1\n",
      "3\n",
      "0\n",
      "0\n",
      "0\n",
      "0\n",
      "0\n",
      "2\n",
      "0\n",
      "1\n",
      "2\n",
      "0\n",
      "0\n",
      "0\n",
      "0\n",
      "0\n",
      "1\n",
      "0\n",
      "0\n",
      "2\n",
      "0\n",
      "0\n",
      "0\n",
      "0\n",
      "0\n",
      "0\n",
      "1\n",
      "0\n",
      "0\n",
      "1\n",
      "1\n",
      "1\n",
      "59\n",
      "0\n",
      "0\n",
      "0\n",
      "0\n",
      "8\n",
      "0\n",
      "0\n",
      "0\n",
      "3\n",
      "0\n",
      "0\n",
      "1\n"
     ]
    }
   ],
   "source": [
    "import numpy as np\n",
    "import csv\n",
    "\n",
    "with open('Dataset/year2017.csv','r') as obj:\n",
    "    file_data = csv.DictReader(obj,skipinitialspace = True)\n",
    "    \n",
    "    killed = []\n",
    "    country = []\n",
    "    for row in file_data:\n",
    "        killed.append(row['Killed'])\n",
    "        country.append(row['Country'])\n",
    "#tconverting normal list to numpy array    \n",
    "np_killed = np.array(killed)\n",
    "np_country = np.array(country)\n",
    "\n",
    "#taking care of all the empty strings in killed\n",
    "np_killed[np_killed == ''] = 0.0\n",
    "np_killed = np.array(np_killed, dtype = float)\n",
    "np_killed = np.array(np_killed, dtype = int)\n",
    "bool_arr = np_country == 'United States'\n",
    "ans = np_killed[bool_arr]\n",
    "for i in range(ans.size):\n",
    "    print(ans[i])\n"
   ]
  },
  {
   "cell_type": "raw",
   "metadata": {},
   "source": [
    "Total Killed in USA\n",
    "Send Feedback\n",
    "Given file \"terrorismData.csv\"\n",
    "It is an open-source database including information on terrorist attacks around the world from 1970 through 2017. This dataset includes systematic data on domestic as well as international terrorist incidents that have occurred during this time period\n",
    "Problem Statement :\n",
    "Find total number of people killed from USA?\n",
    "Note: Some columns of killed are empty so replace them by 0.\n",
    "Print count of Killed as integer value.\n",
    "Output Format :\n",
    "TotalKilled"
   ]
  },
  {
   "cell_type": "code",
   "execution_count": 31,
   "metadata": {},
   "outputs": [
    {
     "name": "stdout",
     "output_type": "stream",
     "text": [
      "95\n"
     ]
    }
   ],
   "source": [
    "import numpy as np\n",
    "import csv\n",
    "\n",
    "with open('Dataset/year2017.csv','r') as obj:\n",
    "    file_data = csv.DictReader(obj,skipinitialspace = True)\n",
    "    \n",
    "    killed = []\n",
    "    country = []\n",
    "    for row in file_data:\n",
    "        killed.append(row['Killed'])\n",
    "        country.append(row['Country'])\n",
    "#tconverting normal list to numpy array    \n",
    "np_killed = np.array(killed)\n",
    "np_country = np.array(country)\n",
    "\n",
    "#taking care of all the empty strings in killed\n",
    "np_killed[np_killed == ''] = 0.0\n",
    "np_killed = np.array(np_killed, dtype = float)\n",
    "np_killed = np.array(np_killed, dtype = int)\n",
    "bool_arr = np_country == 'United States'\n",
    "ans = np_killed[bool_arr]\n",
    "print(ans.sum())"
   ]
  },
  {
   "cell_type": "raw",
   "metadata": {},
   "source": [
    "Terrorism Day\n",
    "Send Feedback\n",
    "Given file \"terrorismData.csv\"\n",
    "It is an open-source database including information on terrorist attacks around the world from 1970 through 2017. This dataset includes systematic data on domestic as well as international terrorist incidents that have occurred during this time period\n",
    "Problem Statement :\n",
    "Find the number of attack held between day 10 and day 20?(ignoring the year and month)(including both day)\n",
    "Print count of NumberOFAttack as integer value.\n",
    "Output Format :\n",
    "count\n"
   ]
  },
  {
   "cell_type": "code",
   "execution_count": 40,
   "metadata": {},
   "outputs": [
    {
     "name": "stdout",
     "output_type": "stream",
     "text": [
      "4002\n",
      "10900\n"
     ]
    }
   ],
   "source": [
    "import numpy as np\n",
    "import csv\n",
    "\n",
    "with open('Dataset/year2017.csv','r') as obj:\n",
    "    file_data = csv.DictReader(obj, skipinitialspace = True)\n",
    "    \n",
    "    days = []\n",
    "    for row in file_data:\n",
    "        days.append(row['Day'])\n",
    "    \n",
    "Day_np = np.array(days,dtype = int)\n",
    "ans = Day_np[(Day_np >= 10) & (Day_np <= 20)]\n",
    "print(ans.size)\n",
    "    "
   ]
  },
  {
   "cell_type": "raw",
   "metadata": {},
   "source": [
    "Terrorism Date\n",
    "Send Feedback\n",
    "Given file \"terrorismData.csv\"\n",
    "It is an open-source database including information on terrorist attacks around the world from 1970 through 2017. This dataset includes systematic data on domestic as well as international terrorist incidents that have occurred during this time period\n",
    "Problem Statement :\n",
    "Find the number of attack held between 1 Jan 2010 and 31 Jan 2010?(including both date).\n",
    "Note Ignore the case where day is 0\n",
    "Print count of NumberOFAttack as integer value.\n",
    "Output Format :\n",
    "count"
   ]
  },
  {
   "cell_type": "code",
   "execution_count": 57,
   "metadata": {},
   "outputs": [
    {
     "name": "stdout",
     "output_type": "stream",
     "text": [
      "879\n"
     ]
    }
   ],
   "source": [
    "import numpy as np\n",
    "import csv\n",
    "\n",
    "with open('Dataset/year2017.csv','r') as obj:\n",
    "    file_data = csv.DictReader(obj,skipinitialspace = True)\n",
    "    year = []\n",
    "    month = []\n",
    "    day = []\n",
    "    for row in file_data:\n",
    "        year.append(row['Year'])\n",
    "        month.append(row['Month'])\n",
    "        day.append(row['Day'])\n",
    "np_year = np.array(year,dtype = int)\n",
    "np_month = np.array(month,dtype = int)\n",
    "np_day = np.array(day,dtype = int)\n",
    "\n",
    "ind_day = np_day != 0\n",
    "np_year = np_year[ind_day]\n",
    "np_month = np_month[ind_day]\n",
    "np_day = np_day[ind_day]\n",
    "\n",
    "ind_month = np_month == 1\n",
    "np_year = np_year[ind_month]\n",
    "np_month = np_month[ind_month]\n",
    "np_day = np_day[ind_month]\n",
    "\n",
    "ind_year = np_year == 2017\n",
    "np_month = np_month[ind_year]\n",
    "np_day = np_day[ind_year]\n",
    "np_year = np_year[ind_year]\n",
    "\n",
    "#ind_month = np_month \n",
    "print(np_month.size)\n",
    "\n"
   ]
  },
  {
   "cell_type": "raw",
   "metadata": {},
   "source": [
    "Terror Casualty Attack\n",
    "Send Feedback\n",
    "Given file \"terrorismData.csv\"\n",
    "It is an open-source database including information on terrorist attacks around the world from 1970 through 2017. This dataset includes systematic data on domestic as well as international terrorist incidents that have occurred during this time period\n",
    "Problem Statement :\n",
    "As we knew the Kargil ( in Jammu and Kashmir) War that took place between May 1999 and July 1999 (3 Months) ,so there was a huge conflict in Kashmir Valley during this period.\n",
    "In this dataset, there is no information regarding the war between the two countries to find out the casualty during the war.\n",
    "So find out the attack in this period in which maximum casualties happened.\n",
    "Print the count of casualties (as integer), city in which that attack happened and name of attack group.\n",
    "Note : Casualty = Killed + Wounded.Fill the empty value in killed or wounded feature to 0.\n",
    "Output Format :\n",
    "Casualty City TerroristGroup"
   ]
  },
  {
   "cell_type": "code",
   "execution_count": 89,
   "metadata": {},
   "outputs": [
    {
     "name": "stdout",
     "output_type": "stream",
     "text": [
      "22 Kargil District Separatists\n"
     ]
    }
   ],
   "source": [
    "import numpy as np\n",
    "import csv\n",
    "\n",
    "with open('Dataset/terrorismData.csv','r',encoding=\"utf8\") as obj:\n",
    "    file_data = csv.DictReader(obj,skipinitialspace = True)\n",
    "    \n",
    "    killed = []\n",
    "    wounded = []\n",
    "    month = []\n",
    "    city = []\n",
    "    group=[]\n",
    "    for row in file_data:\n",
    "        if row['Country'] == 'India' and row['Year'] == '1999' and row['State'] == 'Jammu and Kashmir':\n",
    "            killed.append(row['Killed'])\n",
    "            wounded.append(row['Wounded'])\n",
    "            month.append(row['Month'])\n",
    "            city.append(row['City'])\n",
    "            #print(row)\n",
    "            group.append(row['Group'])\n",
    "            \n",
    "np_killed = np.array(killed)\n",
    "np_wounded = np.array(wounded)\n",
    "np_month = np.array(month,dtype = int)\n",
    "np_city = np.array(city)\n",
    "np_group = np.array(group)\n",
    "\n",
    "np_killed[np_killed == ''] = '0.0'\n",
    "np_wounded[np_wounded == ''] = '0.0'\n",
    "\n",
    "np_killed = np.array(np_killed,dtype= float)\n",
    "np_wounded = np.array(np_wounded,dtype = float)\n",
    "\n",
    "np_casuality = np_killed + np_wounded\n",
    "\n",
    "ind_mo = (np_month <= 7 ) & (np_month >= 5)\n",
    "ind_mo\n",
    "\n",
    "np_casuality = np_casuality[ind_mo]\n",
    "np_city = np_city[ind_mo]\n",
    "np_group = np_group[ind_mo]\n",
    "\n",
    "k = np_casuality.argmax()\n",
    "print(int(np_casuality[k]),np_city[k],np_group[k])\n",
    "\n"
   ]
  },
  {
   "cell_type": "raw",
   "metadata": {},
   "source": [
    "Terror Casualty Red\n",
    "Send Feedback\n",
    "Given file \"terrorismData.csv\"\n",
    "It is an open-source database including information on terrorist attacks around the world from 1970 through 2017. This dataset includes systematic data on domestic as well as international terrorist incidents that have occurred during this time period\n",
    "Problem Statement :\n",
    "Find the casualty in the Red Corridor States ? Mainly Red corridor states include Jharkhand, Odisha, Andhra Pradesh, and Chhattisgarh.\n",
    "Note: Casualty=Killed +Wounded\n",
    "Print count of Casualty as integer value.\n",
    "Output Format :\n",
    "Count"
   ]
  },
  {
   "cell_type": "code",
   "execution_count": 107,
   "metadata": {},
   "outputs": [
    {
     "name": "stdout",
     "output_type": "stream",
     "text": [
      "5628\n"
     ]
    }
   ],
   "source": [
    "import numpy as np\n",
    "import csv\n",
    "\n",
    "with open('Dataset/terrorismData.csv','r',encoding='utf8') as obj:\n",
    "    file_data = csv.DictReader(obj,skipinitialspace = True)\n",
    "    \n",
    "    state = []\n",
    "    killed = []\n",
    "    wounded = []                           \n",
    "                               \n",
    "    for row in file_data :\n",
    "        if row['Country'] == 'India' :\n",
    "            state.append(row['State'])\n",
    "            killed.append(row['Killed'])\n",
    "            wounded.append(row['Wounded'])\n",
    "            \n",
    "np_state = np.array(state)\n",
    "np_killed = np.array(killed)\n",
    "np_wounded = np.array(wounded)\n",
    "\n",
    "\n",
    "\n",
    "ind_st = (np_state == 'Jharkhand') | (np_state == 'Odisha') | (np_state == 'Andhra Pradesh') | (np_state == 'Chhattisgarh')\n",
    "np_killed = np_killed[ind_st] \n",
    "np_wounded = np_wounded[ind_st]\n",
    "\n",
    "np_killed[np_killed == ''] = '0.0'\n",
    "np_wounded[np_wounded == ''] = '0.0'\n",
    "\n",
    "np_killed = np.array(np_killed,dtype = 'float')\n",
    "np_wounded = np.array(np_wounded,dtype = 'float')\n",
    "\n",
    "casuality = np_killed + np_wounded\n",
    "\n",
    "print(int(casuality.sum()))\n",
    "                               "
   ]
  },
  {
   "cell_type": "raw",
   "metadata": {},
   "source": [
    "Terror City Casualty\n",
    "Send Feedback\n",
    "Given file \"terrorismData.csv\"\n",
    "It is an open-source database including information on terrorist attacks around the world from 1970 through 2017. This dataset includes systematic data on domestic as well as international terrorist incidents that have occurred during this time period\n",
    "Problem Statement :\n",
    "Find top 5 Indian Cities which has most number of casualties ?\n",
    "Print top 5 cities along with total casualties in that city. Print count of Casualty as integer value.\n",
    "Note: Ignoring the City which is Unknown.\n",
    "Casualty = Killed + Wounded.\n",
    "Output Format :\n",
    "city_1 casualty_1\n",
    "city_2 casualty_2\n",
    "city_3 casualty_3\n",
    "city_4 casualty_4\n",
    "city_5 casualty_5"
   ]
  },
  {
   "cell_type": "code",
   "execution_count": 125,
   "metadata": {},
   "outputs": [
    {
     "name": "stdout",
     "output_type": "stream",
     "text": [
      "3134\n",
      "Srinagar 3134\n",
      "New Delhi 2095\n",
      "Mumbai 2016\n",
      "Jammu 1119\n",
      "Guwahati 822\n"
     ]
    }
   ],
   "source": [
    "import numpy as np\n",
    "import csv\n",
    "\n",
    "with open('Dataset/terrorismData.csv','r',encoding='utf8') as obj:\n",
    "    file_data = csv.DictReader(obj,skipinitialspace = True)\n",
    "    \n",
    "    city = []\n",
    "    killed = []\n",
    "    wounded = []                           \n",
    "                               \n",
    "    for row in file_data :\n",
    "        if row['Country'] == 'India' :\n",
    "            city.append(row['City'])\n",
    "            killed.append(row['Killed'])\n",
    "            wounded.append(row['Wounded'])\n",
    "            \n",
    "np_city = np.array(city)\n",
    "np_killed = np.array(killed)\n",
    "np_wounded = np.array(wounded)\n",
    "\n",
    "ind_city = np_city != 'Unknown'\n",
    "np_city = np_city[ind_city]\n",
    "np_killed = np_killed[ind_city]\n",
    "np_wounded = np_wounded[ind_city]\n",
    "\n",
    "city_casualty = {}\n",
    "np_killed[np_killed == ''] = '0.0'\n",
    "np_wounded[np_wounded == ''] = '0.0'\n",
    "\n",
    "np_killed = np.array(np_killed,dtype = 'float')\n",
    "np_wounded = np.array(np_wounded,dtype = 'float')\n",
    "\n",
    "casuality = np_killed + np_wounded\n",
    "\n",
    "\n",
    "for i in range(np_city.size):\n",
    "    city_casualty[np_city[i]] = casuality[i] + city_casualty.get(np_city[i],0.0)\n",
    "    \n",
    "    \n",
    "city_l = []\n",
    "cas_l = []\n",
    "for j in city_casualty:\n",
    "    city_l.append(j)\n",
    "    cas_l.append(int(city_casualty[j]))\n",
    "\n",
    "np_cityl = np.array(city_l)\n",
    "np_casl = np.array(cas_l)\n",
    "\n",
    "\n",
    "\n",
    "ind_sort = np_casl.argsort()[::-1]\n",
    "np_cityl = np_cityl[ind_sort]\n",
    "np_casl = np_casl[ind_sort]\n",
    "\n",
    "\n",
    "\n",
    "for k in range(5):\n",
    "    print(np_cityl[k],np_casl[k])\n",
    "\n",
    "    \n"
   ]
  },
  {
   "cell_type": "raw",
   "metadata": {},
   "source": [
    "Terrorism FrequentDay\n",
    "Send Feedback\n",
    "Given file \"terrorismData.csv\"\n",
    "It is an open-source database including information on terrorist attacks around the world from 1970 through 2017. This dataset includes systematic data on domestic as well as international terrorist incidents that have occurred during this time period\n",
    "Problem Statement :\n",
    "Find the most frequent day of attack in a terrorismDataset ?\n",
    "Note: Here np.unique can be used.\n",
    "Print count of frequent day and number of attack as Integer value.\n",
    "Output Format :\n",
    "Day NumberOFAttack"
   ]
  },
  {
   "cell_type": "code",
   "execution_count": 1,
   "metadata": {},
   "outputs": [
    {
     "name": "stdout",
     "output_type": "stream",
     "text": [
      "15 6500\n"
     ]
    }
   ],
   "source": [
    "import numpy as np\n",
    "import csv\n",
    "\n",
    "with open('Dataset/terrorismData.csv','r',encoding='utf8') as obj:\n",
    "    data_file = csv.DictReader(obj,skipinitialspace = True)\n",
    "    \n",
    "    day = []\n",
    "    for row in data_file :\n",
    "        day.append(row['Day'])\n",
    "        \n",
    "a,b = np.unique(day,return_counts = True)\n",
    "\n",
    "k = b.argmax()\n",
    "print(a[k],b[k])"
   ]
  }
 ],
 "metadata": {
  "kernelspec": {
   "display_name": "Python 3",
   "language": "python",
   "name": "python3"
  },
  "language_info": {
   "codemirror_mode": {
    "name": "ipython",
    "version": 3
   },
   "file_extension": ".py",
   "mimetype": "text/x-python",
   "name": "python",
   "nbconvert_exporter": "python",
   "pygments_lexer": "ipython3",
   "version": "3.7.4"
  }
 },
 "nbformat": 4,
 "nbformat_minor": 2
}
