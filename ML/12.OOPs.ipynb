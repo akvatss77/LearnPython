{
 "cells": [
  {
   "cell_type": "markdown",
   "metadata": {},
   "source": [
    "## OOPS - Object Oriented Programming"
   ]
  },
  {
   "cell_type": "markdown",
   "metadata": {},
   "source": [
    "**Main focus will be objects rather than function**<br>\n",
    "**What are objects -- any real world entity can be termed as object [ living or non - living]**<br>\n",
    "**Every objects have some characteristics & behaviour : eg pen,laptop,table,camera,chair,student,dancer**\n",
    "**Example pen has properties like : height,color,width,weight,type**\n",
    "**there will also be behaviours like writing,refilling : these are basically functions of object pen**\n",
    "**In IT objects have properties which is basically data and their behaviours are basically function**\n"
   ]
  },
  {
   "cell_type": "markdown",
   "metadata": {},
   "source": [
    "## Class vs Object\n",
    "<br> **Class is blueprint which defines the structure of the object**<br>\n",
    "**Class is not holding any memory, it just defining the properties and functions a object of that class will possess**\n",
    "<br> **the specific instance of a class is termed as object**"
   ]
  },
  {
   "cell_type": "raw",
   "metadata": {},
   "source": [
    "Real world entity\n",
    "Send Feedback\n",
    "Which Of The Following Represents A Distinctly Identifiable Entity In The Real World ?\n",
    "Options\n",
    "\n",
    "A class\n",
    "\n",
    "An object\n",
    "\n",
    "A method\n",
    "\n",
    "A data field\n",
    "\n",
    "Answer:\n",
    "An object\n",
    "\n",
    "\n"
   ]
  },
  {
   "cell_type": "raw",
   "metadata": {},
   "source": [
    "Class is ?\n",
    "Send Feedback\n",
    "In Python, a class is ___________ for a concrete object.\n",
    "Options\n",
    "\n",
    "a nuisance\n",
    "\n",
    "a blueprint\n",
    "\n",
    "an instance\n",
    "\n",
    "a distraction\n",
    "\n",
    "Answer:\n",
    "a blueprint\n"
   ]
  },
  {
   "cell_type": "code",
   "execution_count": 2,
   "metadata": {},
   "outputs": [
    {
     "name": "stdout",
     "output_type": "stream",
     "text": [
      "<class 'int'>\n",
      "<class 'list'>\n"
     ]
    }
   ],
   "source": [
    "a = 10\n",
    "print(type(a)) \n",
    "b = [2,3,4]\n",
    "print(type(b))"
   ]
  },
  {
   "cell_type": "markdown",
   "metadata": {},
   "source": [
    "**So we can see that a is an instance of class int and b is instance of class list**<br>\n",
    "**Which means list and int are classes**"
   ]
  },
  {
   "cell_type": "markdown",
   "metadata": {},
   "source": [
    "## Defining a class"
   ]
  },
  {
   "cell_type": "code",
   "execution_count": 4,
   "metadata": {},
   "outputs": [
    {
     "ename": "SyntaxError",
     "evalue": "unexpected EOF while parsing (<ipython-input-4-c4a4e856f999>, line 1)",
     "output_type": "error",
     "traceback": [
      "\u001b[1;36m  File \u001b[1;32m\"<ipython-input-4-c4a4e856f999>\"\u001b[1;36m, line \u001b[1;32m1\u001b[0m\n\u001b[1;33m    class student :\u001b[0m\n\u001b[1;37m                   ^\u001b[0m\n\u001b[1;31mSyntaxError\u001b[0m\u001b[1;31m:\u001b[0m unexpected EOF while parsing\n"
     ]
    }
   ],
   "source": [
    "class student :"
   ]
  },
  {
   "cell_type": "markdown",
   "metadata": {},
   "source": [
    "**You can't define an empty class**"
   ]
  },
  {
   "cell_type": "code",
   "execution_count": 6,
   "metadata": {},
   "outputs": [],
   "source": [
    "class student:\n",
    "    pass #placeholder to allow defining a empty class"
   ]
  },
  {
   "cell_type": "markdown",
   "metadata": {},
   "source": [
    "## Defining an object of the class"
   ]
  },
  {
   "cell_type": "markdown",
   "metadata": {},
   "source": [
    "**obj_name = class_name()**"
   ]
  },
  {
   "cell_type": "code",
   "execution_count": 9,
   "metadata": {},
   "outputs": [
    {
     "name": "stdout",
     "output_type": "stream",
     "text": [
      "<class '__main__.student'>\n"
     ]
    }
   ],
   "source": [
    "s1 = student()\n",
    "s2 = student()\n",
    "s3 = student()\n",
    "#here we see three different instance of the student class\n",
    "print(type(s3))"
   ]
  },
  {
   "cell_type": "markdown",
   "metadata": {},
   "source": [
    "# Attributes "
   ]
  },
  {
   "cell_type": "markdown",
   "metadata": {},
   "source": [
    "## 1. Instance attribute"
   ]
  },
  {
   "cell_type": "markdown",
   "metadata": {},
   "source": [
    "**object attributes which are bound to the specific object**<br>\n",
    "**For eg in case of students name,age and roll number would be instance attributes as they differ for each object**<br>"
   ]
  },
  {
   "cell_type": "markdown",
   "metadata": {},
   "source": [
    "## 2. Class attributes"
   ]
  },
  {
   "cell_type": "markdown",
   "metadata": {},
   "source": [
    "**Class attributes are the common attributes shared by all the instances/objects of that particular class**<br>\n",
    "**Some examples are : Class teacher name,total students**"
   ]
  },
  {
   "cell_type": "raw",
   "metadata": {},
   "source": [
    "Operator\n",
    "Send Feedback\n",
    "Which operator in python is used to access properties and methods of an object?\n",
    "Options\n",
    "\n",
    "/\n",
    "\n",
    "->\n",
    "\n",
    ". \n",
    "\n",
    "None of the above\n",
    "\n",
    "Answer : ."
   ]
  },
  {
   "cell_type": "markdown",
   "metadata": {},
   "source": [
    "**In python unlike cpp and java we don't need to have same instance variables for all the objects , each of them can have different attributes**<br>\n",
    "**In python we can define the instance variables on the fly , unlike the java and cpp**"
   ]
  },
  {
   "cell_type": "code",
   "execution_count": 31,
   "metadata": {},
   "outputs": [],
   "source": [
    "s1.name = \"Rohit\"\n",
    "s1.age = 21\n",
    "\n",
    "s2.rollno = 122\n",
    "\n",
    "s3.age = 25\n"
   ]
  },
  {
   "cell_type": "markdown",
   "metadata": {},
   "source": [
    "**In python we have an inbuilt dictionary which stores the attribute values for that object**"
   ]
  },
  {
   "cell_type": "raw",
   "metadata": {},
   "source": [
    "object_name.__dict__"
   ]
  },
  {
   "cell_type": "code",
   "execution_count": 14,
   "metadata": {},
   "outputs": [
    {
     "name": "stdout",
     "output_type": "stream",
     "text": [
      "{'name': 'Rohit', 'age': 21}\n",
      "{'rollno': 122}\n",
      "{'age': 25}\n"
     ]
    }
   ],
   "source": [
    "print(s1.__dict__)\n",
    "print(s2.__dict__)\n",
    "print(s3.__dict__)"
   ]
  },
  {
   "cell_type": "code",
   "execution_count": 16,
   "metadata": {},
   "outputs": [
    {
     "name": "stdout",
     "output_type": "stream",
     "text": [
      "{}\n"
     ]
    }
   ],
   "source": [
    "s4 = student()\n",
    "print(s4.__dict__) ##it shud be empty"
   ]
  },
  {
   "cell_type": "code",
   "execution_count": 18,
   "metadata": {},
   "outputs": [
    {
     "name": "stdout",
     "output_type": "stream",
     "text": [
      "Rohit\n"
     ]
    },
    {
     "ename": "AttributeError",
     "evalue": "'student' object has no attribute 'name'",
     "output_type": "error",
     "traceback": [
      "\u001b[1;31m---------------------------------------------------------------------------\u001b[0m",
      "\u001b[1;31mAttributeError\u001b[0m                            Traceback (most recent call last)",
      "\u001b[1;32m<ipython-input-18-8e74f525dfc1>\u001b[0m in \u001b[0;36m<module>\u001b[1;34m\u001b[0m\n\u001b[0;32m      1\u001b[0m \u001b[0mprint\u001b[0m\u001b[1;33m(\u001b[0m\u001b[0ms1\u001b[0m\u001b[1;33m.\u001b[0m\u001b[0mname\u001b[0m\u001b[1;33m)\u001b[0m\u001b[1;33m\u001b[0m\u001b[1;33m\u001b[0m\u001b[0m\n\u001b[1;32m----> 2\u001b[1;33m \u001b[0mprint\u001b[0m\u001b[1;33m(\u001b[0m\u001b[0ms2\u001b[0m\u001b[1;33m.\u001b[0m\u001b[0mname\u001b[0m\u001b[1;33m)\u001b[0m \u001b[1;31m## This will give error as we haven't defined the attribute name for object s2\u001b[0m\u001b[1;33m\u001b[0m\u001b[1;33m\u001b[0m\u001b[0m\n\u001b[0m",
      "\u001b[1;31mAttributeError\u001b[0m: 'student' object has no attribute 'name'"
     ]
    }
   ],
   "source": [
    "print(s1.name)\n",
    "print(s2.name) ## This will give error as we haven't defined the attribute name for object s2"
   ]
  },
  {
   "cell_type": "markdown",
   "metadata": {},
   "source": [
    "## function hasattr"
   ]
  },
  {
   "cell_type": "markdown",
   "metadata": {},
   "source": [
    "**This function checks whether the object has defined the attribute with name give in second arg**"
   ]
  },
  {
   "cell_type": "code",
   "execution_count": 20,
   "metadata": {},
   "outputs": [
    {
     "data": {
      "text/plain": [
       "True"
      ]
     },
     "execution_count": 20,
     "metadata": {},
     "output_type": "execute_result"
    }
   ],
   "source": [
    "hasattr(s1,'name')"
   ]
  },
  {
   "cell_type": "code",
   "execution_count": 21,
   "metadata": {},
   "outputs": [
    {
     "data": {
      "text/plain": [
       "False"
      ]
     },
     "execution_count": 21,
     "metadata": {},
     "output_type": "execute_result"
    }
   ],
   "source": [
    "hasattr(s2,'name')"
   ]
  },
  {
   "cell_type": "markdown",
   "metadata": {},
   "source": [
    "## Function getattr"
   ]
  },
  {
   "cell_type": "raw",
   "metadata": {},
   "source": [
    "getattr(obj_nm,attr,def_value)"
   ]
  },
  {
   "cell_type": "code",
   "execution_count": 24,
   "metadata": {},
   "outputs": [
    {
     "name": "stdout",
     "output_type": "stream",
     "text": [
      "Rohit\n"
     ]
    }
   ],
   "source": [
    "print(getattr(s1,'name'))"
   ]
  },
  {
   "cell_type": "code",
   "execution_count": 26,
   "metadata": {},
   "outputs": [
    {
     "ename": "AttributeError",
     "evalue": "'student' object has no attribute 'name'",
     "output_type": "error",
     "traceback": [
      "\u001b[1;31m---------------------------------------------------------------------------\u001b[0m",
      "\u001b[1;31mAttributeError\u001b[0m                            Traceback (most recent call last)",
      "\u001b[1;32m<ipython-input-26-a42a24635ac0>\u001b[0m in \u001b[0;36m<module>\u001b[1;34m\u001b[0m\n\u001b[1;32m----> 1\u001b[1;33m \u001b[0mprint\u001b[0m\u001b[1;33m(\u001b[0m\u001b[0mgetattr\u001b[0m\u001b[1;33m(\u001b[0m\u001b[0ms2\u001b[0m\u001b[1;33m,\u001b[0m\u001b[1;34m'name'\u001b[0m\u001b[1;33m)\u001b[0m\u001b[1;33m)\u001b[0m \u001b[1;31m##this will throw error\u001b[0m\u001b[1;33m\u001b[0m\u001b[1;33m\u001b[0m\u001b[0m\n\u001b[0m",
      "\u001b[1;31mAttributeError\u001b[0m: 'student' object has no attribute 'name'"
     ]
    }
   ],
   "source": [
    "print(getattr(s2,'name')) ##this will throw error"
   ]
  },
  {
   "cell_type": "markdown",
   "metadata": {},
   "source": [
    "**To avoid above error we can put default value**"
   ]
  },
  {
   "cell_type": "code",
   "execution_count": 28,
   "metadata": {},
   "outputs": [
    {
     "name": "stdout",
     "output_type": "stream",
     "text": [
      "unknown\n"
     ]
    }
   ],
   "source": [
    "print(getattr(s2,'name','unknown'))"
   ]
  },
  {
   "cell_type": "markdown",
   "metadata": {},
   "source": [
    "## Function delattr"
   ]
  },
  {
   "cell_type": "raw",
   "metadata": {},
   "source": [
    "delattr(obj_name,attr)"
   ]
  },
  {
   "cell_type": "code",
   "execution_count": 32,
   "metadata": {},
   "outputs": [
    {
     "name": "stdout",
     "output_type": "stream",
     "text": [
      "{'age': 21, 'name': 'Rohit'}\n",
      "{'age': 21}\n"
     ]
    }
   ],
   "source": [
    "print(s1.__dict__)\n",
    "delattr(s1,'name')\n",
    "print(s1.__dict__)"
   ]
  },
  {
   "cell_type": "markdown",
   "metadata": {},
   "source": [
    "## Function setattr"
   ]
  },
  {
   "cell_type": "raw",
   "metadata": {},
   "source": [
    "setattr(obj_nm,attr,val)"
   ]
  },
  {
   "cell_type": "code",
   "execution_count": 33,
   "metadata": {},
   "outputs": [
    {
     "name": "stdout",
     "output_type": "stream",
     "text": [
      "{'age': 21, 'name': 'rohit'}\n"
     ]
    }
   ],
   "source": [
    "setattr(s1,'name','rohit')\n",
    "print(s1.__dict__)"
   ]
  },
  {
   "cell_type": "raw",
   "metadata": {},
   "source": [
    "Instance Attribute\n",
    "Send Feedback\n",
    "Find the output of following code:\n",
    "Code\n",
    "class sampleclass:\n",
    "    pass\n",
    "s1=sampleclass()\n",
    "setattr(s1,'age', 23 )\n",
    "setattr(s1, 'name', 'John Doe' )\n",
    "s1.gender ='male'\n",
    "print(s1.__dict__)"
   ]
  },
  {
   "cell_type": "raw",
   "metadata": {},
   "source": [
    "Options\n",
    "\n",
    "{'age': 23, 'name': 'John Doe'}\n",
    "\n",
    "{'age': 23, 'name': 'John Doe', 'gender': 'male'}\n",
    "\n",
    "Error\n",
    "\n",
    "None OF Above"
   ]
  },
  {
   "cell_type": "raw",
   "metadata": {},
   "source": [
    "{'age': 23, 'name': 'John Doe', 'gender': 'male'}"
   ]
  },
  {
   "cell_type": "markdown",
   "metadata": {},
   "source": [
    "## defining class attribute"
   ]
  },
  {
   "cell_type": "code",
   "execution_count": 35,
   "metadata": {},
   "outputs": [
    {
     "name": "stdout",
     "output_type": "stream",
     "text": [
      "{'__module__': '__main__', '__dict__': <attribute '__dict__' of 'student' objects>, '__weakref__': <attribute '__weakref__' of 'student' objects>, '__doc__': None, 'totalstudents': 50}\n"
     ]
    }
   ],
   "source": [
    "student.totalstudents = 50 #defining the class attribute\n",
    "print(student.__dict__)##there will be some default attributes along with the defined attribute"
   ]
  },
  {
   "cell_type": "markdown",
   "metadata": {},
   "source": [
    "**Other way of defining the class attribute is to define them inside the class**"
   ]
  },
  {
   "cell_type": "code",
   "execution_count": 49,
   "metadata": {},
   "outputs": [],
   "source": [
    "class student :\n",
    "    totalstudents = 50  # any variable inside the class is class variable\n",
    "    teachername = \"sushant\""
   ]
  },
  {
   "cell_type": "code",
   "execution_count": 40,
   "metadata": {},
   "outputs": [
    {
     "name": "stdout",
     "output_type": "stream",
     "text": [
      "{'__module__': '__main__', 'totalstudents': 50, 'teachername': 'sushant', '__dict__': <attribute '__dict__' of 'student' objects>, '__weakref__': <attribute '__weakref__' of 'student' objects>, '__doc__': None}\n"
     ]
    }
   ],
   "source": [
    "print(student.__dict__)"
   ]
  },
  {
   "cell_type": "code",
   "execution_count": 50,
   "metadata": {},
   "outputs": [
    {
     "name": "stdout",
     "output_type": "stream",
     "text": [
      "{}\n",
      "{}\n"
     ]
    }
   ],
   "source": [
    "o1 = student()\n",
    "o2 = student()\n",
    "print(o1.__dict__)\n",
    "print(o2.__dict__)"
   ]
  },
  {
   "cell_type": "markdown",
   "metadata": {},
   "source": [
    "**Can we access the class variables using the instance objects : yes**"
   ]
  },
  {
   "cell_type": "code",
   "execution_count": 45,
   "metadata": {},
   "outputs": [
    {
     "data": {
      "text/plain": [
       "50"
      ]
     },
     "execution_count": 45,
     "metadata": {},
     "output_type": "execute_result"
    }
   ],
   "source": [
    "getattr(o1,'totalstudents')   ##Successfull fetch the class var using object instance"
   ]
  },
  {
   "cell_type": "code",
   "execution_count": 52,
   "metadata": {},
   "outputs": [
    {
     "data": {
      "text/plain": [
       "'sushant'"
      ]
     },
     "execution_count": 52,
     "metadata": {},
     "output_type": "execute_result"
    }
   ],
   "source": [
    "o2.teachername"
   ]
  },
  {
   "cell_type": "code",
   "execution_count": 53,
   "metadata": {},
   "outputs": [
    {
     "name": "stdout",
     "output_type": "stream",
     "text": [
      "{}\n",
      "{}\n"
     ]
    }
   ],
   "source": [
    "#These will still be empty\n",
    "print(o1.__dict__)\n",
    "print(o2.__dict__)"
   ]
  },
  {
   "cell_type": "code",
   "execution_count": 55,
   "metadata": {},
   "outputs": [
    {
     "name": "stdout",
     "output_type": "stream",
     "text": [
      "50\n",
      "45\n",
      "50\n"
     ]
    }
   ],
   "source": [
    "o1.totalstudents = 45 # here it creates local instance variable \n",
    "print(student.totalstudents)\n",
    "print(o1.totalstudents)  \n",
    "print(o2.totalstudents)"
   ]
  },
  {
   "cell_type": "code",
   "execution_count": 57,
   "metadata": {},
   "outputs": [
    {
     "name": "stdout",
     "output_type": "stream",
     "text": [
      "{'totalstudents': 45}\n",
      "{}\n",
      "{'__module__': '__main__', 'totalstudents': 50, 'teachername': 'sushant', '__dict__': <attribute '__dict__' of 'student' objects>, '__weakref__': <attribute '__weakref__' of 'student' objects>, '__doc__': None}\n"
     ]
    }
   ],
   "source": [
    "print(o1.__dict__)\n",
    "print(o2.__dict__)\n",
    "print(student.__dict__)"
   ]
  },
  {
   "cell_type": "markdown",
   "metadata": {},
   "source": [
    "**This means if we try to set a variable with same name using object then it won't update the class var but will create new var for object**"
   ]
  },
  {
   "cell_type": "raw",
   "metadata": {},
   "source": [
    "Predict The Output\n",
    "Send Feedback\n",
    "What will be the output of following code?\n",
    "class Student:\n",
    "     name = “Rohan”\n",
    "     age = 16\n",
    "s1 = Student()\n",
    "s2 = Student()\n",
    "print(s1.name,end=” “)\n",
    "print(s2.name,end=” “)"
   ]
  },
  {
   "cell_type": "raw",
   "metadata": {},
   "source": [
    "Options\n",
    "\n",
    "None None\n",
    "\n",
    "Rohan Rohan\n",
    "\n",
    "Rohan None\n",
    "\n",
    "None of the above"
   ]
  },
  {
   "cell_type": "raw",
   "metadata": {},
   "source": [
    "Rohan Rohan"
   ]
  },
  {
   "cell_type": "raw",
   "metadata": {},
   "source": [
    "Predict The Output\n",
    "Send Feedback\n",
    "What will be the output of following code?\n",
    "class Student:\n",
    "    pp = 50\n",
    "\n",
    "s1 = Student()\n",
    "s1.pp= 58\n",
    "s2 = Student()\n",
    "s2.pp = 60\n",
    "print(s1.pp)\n"
   ]
  },
  {
   "cell_type": "raw",
   "metadata": {},
   "source": [
    "Options\n",
    "\n",
    "50\n",
    "\n",
    "58 \n",
    "\n",
    "60\n",
    "\n",
    "None of the above"
   ]
  },
  {
   "cell_type": "markdown",
   "metadata": {},
   "source": [
    "58"
   ]
  },
  {
   "cell_type": "markdown",
   "metadata": {},
   "source": [
    "# Methods "
   ]
  },
  {
   "cell_type": "markdown",
   "metadata": {},
   "source": [
    "**instance methods**<br>**class methods**<br>**static methods**"
   ]
  },
  {
   "cell_type": "markdown",
   "metadata": {},
   "source": [
    "**Instance methods: methods which are owned by objects**<br>\n",
    "**Example of instance method is updatename**<br>\n",
    "**Example of class method is updateteachername**"
   ]
  },
  {
   "cell_type": "markdown",
   "metadata": {},
   "source": [
    "**Writing the methods**"
   ]
  },
  {
   "cell_type": "code",
   "execution_count": 58,
   "metadata": {},
   "outputs": [],
   "source": [
    "class student :\n",
    "    totalstudents = 50  # any variable inside the class is class variable\n",
    "    teachername = \"sushant\"\n",
    "    \n",
    "    def printHello():\n",
    "        print(\"Hello\")\n",
    "k1 = student()\n",
    "k2 = student()\n"
   ]
  },
  {
   "cell_type": "code",
   "execution_count": 60,
   "metadata": {},
   "outputs": [
    {
     "ename": "TypeError",
     "evalue": "printHello() takes 0 positional arguments but 1 was given",
     "output_type": "error",
     "traceback": [
      "\u001b[1;31m---------------------------------------------------------------------------\u001b[0m",
      "\u001b[1;31mTypeError\u001b[0m                                 Traceback (most recent call last)",
      "\u001b[1;32m<ipython-input-60-476137109101>\u001b[0m in \u001b[0;36m<module>\u001b[1;34m\u001b[0m\n\u001b[1;32m----> 1\u001b[1;33m \u001b[0mk1\u001b[0m\u001b[1;33m.\u001b[0m\u001b[0mprintHello\u001b[0m\u001b[1;33m(\u001b[0m\u001b[1;33m)\u001b[0m\u001b[1;33m\u001b[0m\u001b[1;33m\u001b[0m\u001b[0m\n\u001b[0m",
      "\u001b[1;31mTypeError\u001b[0m: printHello() takes 0 positional arguments but 1 was given"
     ]
    }
   ],
   "source": [
    "k1.printHello()\n"
   ]
  },
  {
   "cell_type": "markdown",
   "metadata": {},
   "source": [
    "**If we read the error printHello() takes 0 positional arguments but 1 was given: this means we are passing some argument to the printhello function but how**<br>\n",
    "**k1.printHello() is interpreted as student.printHello(k1) and this is done implicitly**"
   ]
  },
  {
   "cell_type": "markdown",
   "metadata": {},
   "source": [
    "## Self keyword - refrence to the current object"
   ]
  },
  {
   "cell_type": "code",
   "execution_count": 61,
   "metadata": {},
   "outputs": [],
   "source": [
    "class student :\n",
    "    totalstudents = 50  # any variable inside the class is class variable\n",
    "    teachername = \"sushant\"\n",
    "    \n",
    "    def printHello(self):\n",
    "        print(\"Hello\")\n",
    "k1 = student()\n",
    "\n"
   ]
  },
  {
   "cell_type": "code",
   "execution_count": 63,
   "metadata": {},
   "outputs": [
    {
     "name": "stdout",
     "output_type": "stream",
     "text": [
      "Hello\n"
     ]
    }
   ],
   "source": [
    "k1.printHello()"
   ]
  },
  {
   "cell_type": "markdown",
   "metadata": {},
   "source": [
    "**There should be atleast one argument defined when you define a function inside class**"
   ]
  },
  {
   "cell_type": "code",
   "execution_count": 67,
   "metadata": {},
   "outputs": [],
   "source": [
    "class student :\n",
    "    totalstudents = 50  # any variable inside the class is class variable\n",
    "    teachername = \"sushant\"\n",
    "    \n",
    "    def printHello(self):\n",
    "        print(\"Hello\")\n",
    "    def printy(self,str):\n",
    "        print(str)\n",
    "\n",
    "k2 = student()\n"
   ]
  },
  {
   "cell_type": "code",
   "execution_count": 70,
   "metadata": {},
   "outputs": [
    {
     "name": "stdout",
     "output_type": "stream",
     "text": [
      "yo\n"
     ]
    }
   ],
   "source": [
    "k2.printy(\"yo\")"
   ]
  },
  {
   "cell_type": "markdown",
   "metadata": {},
   "source": [
    "**Under class when you are defining a instance method y, first argument must be self**"
   ]
  },
  {
   "cell_type": "markdown",
   "metadata": {},
   "source": [
    "**Now lets try to call the function using class**"
   ]
  },
  {
   "cell_type": "code",
   "execution_count": 72,
   "metadata": {},
   "outputs": [
    {
     "ename": "TypeError",
     "evalue": "printy() missing 1 required positional argument: 'str'",
     "output_type": "error",
     "traceback": [
      "\u001b[1;31m---------------------------------------------------------------------------\u001b[0m",
      "\u001b[1;31mTypeError\u001b[0m                                 Traceback (most recent call last)",
      "\u001b[1;32m<ipython-input-72-392cd5683b31>\u001b[0m in \u001b[0;36m<module>\u001b[1;34m\u001b[0m\n\u001b[1;32m----> 1\u001b[1;33m \u001b[0mstudent\u001b[0m\u001b[1;33m.\u001b[0m\u001b[0mprinty\u001b[0m\u001b[1;33m(\u001b[0m\u001b[1;34m\"hi\"\u001b[0m\u001b[1;33m)\u001b[0m\u001b[1;33m\u001b[0m\u001b[1;33m\u001b[0m\u001b[0m\n\u001b[0m",
      "\u001b[1;31mTypeError\u001b[0m: printy() missing 1 required positional argument: 'str'"
     ]
    }
   ],
   "source": [
    "student.printy(\"hi\")"
   ]
  },
  {
   "cell_type": "markdown",
   "metadata": {},
   "source": [
    "**We are getting the above error because we are not passing the reference to our object**"
   ]
  },
  {
   "cell_type": "code",
   "execution_count": 74,
   "metadata": {},
   "outputs": [
    {
     "name": "stdout",
     "output_type": "stream",
     "text": [
      "hi\n"
     ]
    }
   ],
   "source": [
    "student.printy(k2,\"hi\") ## here we have passed the k2 as reference "
   ]
  },
  {
   "cell_type": "markdown",
   "metadata": {},
   "source": [
    "**Lets define a function in class which access instance variables**"
   ]
  },
  {
   "cell_type": "code",
   "execution_count": 80,
   "metadata": {},
   "outputs": [],
   "source": [
    "class student :\n",
    "    totalstudents = 50  # any variable inside the class is class variable\n",
    "    teachername = \"sushant\"\n",
    "    \n",
    "    def printHello(self):\n",
    "        print(\"Hello\")\n",
    "    def printy(self,str):\n",
    "        print(str)\n",
    "    def printName(self):\n",
    "        print(name)\n",
    "\n",
    "k2 = student()"
   ]
  },
  {
   "cell_type": "code",
   "execution_count": 81,
   "metadata": {},
   "outputs": [],
   "source": [
    "k2.name = \"rajat\""
   ]
  },
  {
   "cell_type": "code",
   "execution_count": 79,
   "metadata": {},
   "outputs": [
    {
     "ename": "NameError",
     "evalue": "name 'name' is not defined",
     "output_type": "error",
     "traceback": [
      "\u001b[1;31m---------------------------------------------------------------------------\u001b[0m",
      "\u001b[1;31mNameError\u001b[0m                                 Traceback (most recent call last)",
      "\u001b[1;32m<ipython-input-79-261b0f429144>\u001b[0m in \u001b[0;36m<module>\u001b[1;34m\u001b[0m\n\u001b[1;32m----> 1\u001b[1;33m \u001b[0mstudent\u001b[0m\u001b[1;33m.\u001b[0m\u001b[0mprintName\u001b[0m\u001b[1;33m(\u001b[0m\u001b[0mk2\u001b[0m\u001b[1;33m)\u001b[0m\u001b[1;33m\u001b[0m\u001b[1;33m\u001b[0m\u001b[0m\n\u001b[0m",
      "\u001b[1;32m<ipython-input-75-0c623bc43dcc>\u001b[0m in \u001b[0;36mprintName\u001b[1;34m(self)\u001b[0m\n\u001b[0;32m      8\u001b[0m         \u001b[0mprint\u001b[0m\u001b[1;33m(\u001b[0m\u001b[0mstr\u001b[0m\u001b[1;33m)\u001b[0m\u001b[1;33m\u001b[0m\u001b[1;33m\u001b[0m\u001b[0m\n\u001b[0;32m      9\u001b[0m     \u001b[1;32mdef\u001b[0m \u001b[0mprintName\u001b[0m\u001b[1;33m(\u001b[0m\u001b[0mself\u001b[0m\u001b[1;33m)\u001b[0m\u001b[1;33m:\u001b[0m\u001b[1;33m\u001b[0m\u001b[1;33m\u001b[0m\u001b[0m\n\u001b[1;32m---> 10\u001b[1;33m         \u001b[0mprint\u001b[0m\u001b[1;33m(\u001b[0m\u001b[0mname\u001b[0m\u001b[1;33m)\u001b[0m\u001b[1;33m\u001b[0m\u001b[1;33m\u001b[0m\u001b[0m\n\u001b[0m\u001b[0;32m     11\u001b[0m \u001b[1;33m\u001b[0m\u001b[0m\n\u001b[0;32m     12\u001b[0m \u001b[0mk2\u001b[0m \u001b[1;33m=\u001b[0m \u001b[0mstudent\u001b[0m\u001b[1;33m(\u001b[0m\u001b[1;33m)\u001b[0m\u001b[1;33m\u001b[0m\u001b[1;33m\u001b[0m\u001b[0m\n",
      "\u001b[1;31mNameError\u001b[0m: name 'name' is not defined"
     ]
    }
   ],
   "source": [
    "student.printName(k2)"
   ]
  },
  {
   "cell_type": "markdown",
   "metadata": {},
   "source": [
    "**Here the interprter is not able to identify the name variable as instance variable, it is looking for the class var**"
   ]
  },
  {
   "cell_type": "code",
   "execution_count": 83,
   "metadata": {},
   "outputs": [],
   "source": [
    "class student :\n",
    "    totalstudents = 50  # any variable inside the class is class variable\n",
    "    teachername = \"sushant\"\n",
    "    \n",
    "    def printHello(self):\n",
    "        print(\"Hello\")\n",
    "    def printy(self,str):\n",
    "        print(str)\n",
    "    def printName(self):\n",
    "        print(self.name)\n",
    "\n",
    "k2 = student()"
   ]
  },
  {
   "cell_type": "markdown",
   "metadata": {},
   "source": [
    "**Now to reference to instance variable we need to point it explicitly using self keyword**"
   ]
  },
  {
   "cell_type": "code",
   "execution_count": 85,
   "metadata": {},
   "outputs": [
    {
     "name": "stdout",
     "output_type": "stream",
     "text": [
      "rajat\n"
     ]
    }
   ],
   "source": [
    "k2.name = \"rajat\"\n",
    "student.printName(k2)\n"
   ]
  },
  {
   "cell_type": "code",
   "execution_count": 88,
   "metadata": {},
   "outputs": [],
   "source": [
    "class student :\n",
    "    totalstudents = 50  # any variable inside the class is class variable\n",
    "    teachername = \"sushant\"\n",
    "    \n",
    "    def printHello(self):\n",
    "        print(\"Hello\")\n",
    "    def printy(self,str):\n",
    "        print(str)\n",
    "    def printName(self):\n",
    "        name = \"ankit\"\n",
    "        print(self.name)\n",
    "\n",
    "k2 = student()\n",
    "k2.name = \"rajat\"\n"
   ]
  },
  {
   "cell_type": "code",
   "execution_count": 90,
   "metadata": {},
   "outputs": [
    {
     "name": "stdout",
     "output_type": "stream",
     "text": [
      "rajat\n"
     ]
    }
   ],
   "source": [
    "student.printName(k2)  #it will still print Rajat because we name var is local var to class"
   ]
  },
  {
   "cell_type": "code",
   "execution_count": 92,
   "metadata": {},
   "outputs": [
    {
     "name": "stdout",
     "output_type": "stream",
     "text": [
      "rajat\n",
      "ankit\n"
     ]
    }
   ],
   "source": [
    "class student :\n",
    "    totalstudents = 50  # any variable inside the class is class variable\n",
    "    teachername = \"sushant\"\n",
    "    \n",
    "    def printHello(self):\n",
    "        print(\"Hello\")\n",
    "    def printy(self,str):\n",
    "        print(str)\n",
    "    def printName(self):\n",
    "        name = \"ankit\"\n",
    "        print(self.name)\n",
    "        print(name)\n",
    "\n",
    "k2 = student()\n",
    "k2.name = \"rajat\"\n",
    "student.printName(k2)"
   ]
  },
  {
   "cell_type": "markdown",
   "metadata": {},
   "source": [
    "## Adding the name to object using the instance function"
   ]
  },
  {
   "cell_type": "code",
   "execution_count": 102,
   "metadata": {},
   "outputs": [
    {
     "name": "stdout",
     "output_type": "stream",
     "text": [
      "{}\n",
      "{'name': 'Ankita'}\n"
     ]
    },
    {
     "ename": "AttributeError",
     "evalue": "'student' object has no attribute 'name'",
     "output_type": "error",
     "traceback": [
      "\u001b[1;31m---------------------------------------------------------------------------\u001b[0m",
      "\u001b[1;31mAttributeError\u001b[0m                            Traceback (most recent call last)",
      "\u001b[1;32m<ipython-input-102-19a33d362f7d>\u001b[0m in \u001b[0;36m<module>\u001b[1;34m\u001b[0m\n\u001b[0;32m     21\u001b[0m \u001b[0mprint\u001b[0m\u001b[1;33m(\u001b[0m\u001b[0mk2\u001b[0m\u001b[1;33m.\u001b[0m\u001b[0m__dict__\u001b[0m\u001b[1;33m)\u001b[0m\u001b[1;33m\u001b[0m\u001b[1;33m\u001b[0m\u001b[0m\n\u001b[0;32m     22\u001b[0m \u001b[1;33m\u001b[0m\u001b[0m\n\u001b[1;32m---> 23\u001b[1;33m \u001b[0mk3\u001b[0m\u001b[1;33m.\u001b[0m\u001b[0mprintName\u001b[0m\u001b[1;33m(\u001b[0m\u001b[1;33m)\u001b[0m \u001b[1;31m## This is throwing error because we have not defined attribute name for k3\u001b[0m\u001b[1;33m\u001b[0m\u001b[1;33m\u001b[0m\u001b[0m\n\u001b[0m",
      "\u001b[1;32m<ipython-input-102-19a33d362f7d>\u001b[0m in \u001b[0;36mprintName\u001b[1;34m(self)\u001b[0m\n\u001b[0;32m      9\u001b[0m     \u001b[1;32mdef\u001b[0m \u001b[0mprintName\u001b[0m\u001b[1;33m(\u001b[0m\u001b[0mself\u001b[0m\u001b[1;33m)\u001b[0m\u001b[1;33m:\u001b[0m\u001b[1;33m\u001b[0m\u001b[1;33m\u001b[0m\u001b[0m\n\u001b[0;32m     10\u001b[0m         \u001b[0mname\u001b[0m \u001b[1;33m=\u001b[0m \u001b[1;34m\"ankit\"\u001b[0m\u001b[1;33m\u001b[0m\u001b[1;33m\u001b[0m\u001b[0m\n\u001b[1;32m---> 11\u001b[1;33m         \u001b[0mprint\u001b[0m\u001b[1;33m(\u001b[0m\u001b[0mself\u001b[0m\u001b[1;33m.\u001b[0m\u001b[0mname\u001b[0m\u001b[1;33m)\u001b[0m\u001b[1;33m\u001b[0m\u001b[1;33m\u001b[0m\u001b[0m\n\u001b[0m\u001b[0;32m     12\u001b[0m         \u001b[0mprint\u001b[0m\u001b[1;33m(\u001b[0m\u001b[0mname\u001b[0m\u001b[1;33m)\u001b[0m\u001b[1;33m\u001b[0m\u001b[1;33m\u001b[0m\u001b[0m\n\u001b[0;32m     13\u001b[0m     \u001b[1;32mdef\u001b[0m \u001b[0maddName\u001b[0m\u001b[1;33m(\u001b[0m\u001b[0mself\u001b[0m\u001b[1;33m,\u001b[0m\u001b[0mname\u001b[0m\u001b[1;33m)\u001b[0m\u001b[1;33m:\u001b[0m\u001b[1;33m\u001b[0m\u001b[1;33m\u001b[0m\u001b[0m\n",
      "\u001b[1;31mAttributeError\u001b[0m: 'student' object has no attribute 'name'"
     ]
    }
   ],
   "source": [
    "class student :\n",
    "    totalstudents = 50  # any variable inside the class is class variable\n",
    "    teachername = \"sushant\"\n",
    "    \n",
    "    def printHello(self):\n",
    "        print(\"Hello\")\n",
    "    def printy(self,str):\n",
    "        print(str)\n",
    "    def printName(self):\n",
    "        name = \"ankit\"\n",
    "        print(self.name)\n",
    "        print(name)\n",
    "    def addName(self,name):\n",
    "        self.name = name\n",
    "\n",
    "k2 = student()\n",
    "k3 = student()\n",
    "\n",
    "print(k2.__dict__)\n",
    "k2.addName(\"Ankita\")\n",
    "print(k2.__dict__)\n",
    "\n",
    "k3.printName() ## This is throwing error because we have not defined attribute name for k3"
   ]
  },
  {
   "cell_type": "markdown",
   "metadata": {},
   "source": [
    "**Trying to access class variable inside the instance function**"
   ]
  },
  {
   "cell_type": "code",
   "execution_count": 107,
   "metadata": {},
   "outputs": [
    {
     "ename": "NameError",
     "evalue": "name 'teachername' is not defined",
     "output_type": "error",
     "traceback": [
      "\u001b[1;31m---------------------------------------------------------------------------\u001b[0m",
      "\u001b[1;31mNameError\u001b[0m                                 Traceback (most recent call last)",
      "\u001b[1;32m<ipython-input-107-011e4f542e3a>\u001b[0m in \u001b[0;36m<module>\u001b[1;34m\u001b[0m\n\u001b[0;32m     19\u001b[0m \u001b[0mk3\u001b[0m \u001b[1;33m=\u001b[0m \u001b[0mstudent\u001b[0m\u001b[1;33m(\u001b[0m\u001b[1;33m)\u001b[0m\u001b[1;33m\u001b[0m\u001b[1;33m\u001b[0m\u001b[0m\n\u001b[0;32m     20\u001b[0m \u001b[1;33m\u001b[0m\u001b[0m\n\u001b[1;32m---> 21\u001b[1;33m \u001b[0mk3\u001b[0m\u001b[1;33m.\u001b[0m\u001b[0mtest\u001b[0m\u001b[1;33m(\u001b[0m\u001b[1;33m)\u001b[0m\u001b[1;33m\u001b[0m\u001b[1;33m\u001b[0m\u001b[0m\n\u001b[0m",
      "\u001b[1;32m<ipython-input-107-011e4f542e3a>\u001b[0m in \u001b[0;36mtest\u001b[1;34m(self)\u001b[0m\n\u001b[0;32m     14\u001b[0m         \u001b[0mself\u001b[0m\u001b[1;33m.\u001b[0m\u001b[0mname\u001b[0m \u001b[1;33m=\u001b[0m \u001b[0mname\u001b[0m\u001b[1;33m\u001b[0m\u001b[1;33m\u001b[0m\u001b[0m\n\u001b[0;32m     15\u001b[0m     \u001b[1;32mdef\u001b[0m \u001b[0mtest\u001b[0m\u001b[1;33m(\u001b[0m\u001b[0mself\u001b[0m\u001b[1;33m)\u001b[0m\u001b[1;33m:\u001b[0m\u001b[1;33m\u001b[0m\u001b[1;33m\u001b[0m\u001b[0m\n\u001b[1;32m---> 16\u001b[1;33m         \u001b[0mprint\u001b[0m\u001b[1;33m(\u001b[0m\u001b[0mteachername\u001b[0m\u001b[1;33m)\u001b[0m\u001b[1;33m\u001b[0m\u001b[1;33m\u001b[0m\u001b[0m\n\u001b[0m\u001b[0;32m     17\u001b[0m \u001b[1;33m\u001b[0m\u001b[0m\n\u001b[0;32m     18\u001b[0m \u001b[0mk2\u001b[0m \u001b[1;33m=\u001b[0m \u001b[0mstudent\u001b[0m\u001b[1;33m(\u001b[0m\u001b[1;33m)\u001b[0m\u001b[1;33m\u001b[0m\u001b[1;33m\u001b[0m\u001b[0m\n",
      "\u001b[1;31mNameError\u001b[0m: name 'teachername' is not defined"
     ]
    }
   ],
   "source": [
    "class student :\n",
    "    totalstudents = 50  # any variable inside the class is class variable\n",
    "    teachername = \"sushant\"\n",
    "    \n",
    "    def printHello(self):\n",
    "        print(\"Hello\")\n",
    "    def printy(self,str):\n",
    "        print(str)\n",
    "    def printName(self):\n",
    "        name = \"ankit\"\n",
    "        print(self.name)\n",
    "        print(name)\n",
    "    def addName(self,name):\n",
    "        self.name = name\n",
    "    def test(self):\n",
    "        print(teachername) \n",
    "\n",
    "k2 = student()\n",
    "k3 = student()\n",
    "\n",
    "k3.test()"
   ]
  },
  {
   "cell_type": "markdown",
   "metadata": {},
   "source": [
    "**Whenever we define any variable and we don't refernce it as class or object var , it will be defined as local var**<br> **So to access the class variable we need to reference it using the class name : see in below code**"
   ]
  },
  {
   "cell_type": "code",
   "execution_count": 109,
   "metadata": {},
   "outputs": [
    {
     "name": "stdout",
     "output_type": "stream",
     "text": [
      "sushant\n"
     ]
    }
   ],
   "source": [
    "class student :\n",
    "    totalstudents = 50  # any variable inside the class is class variable\n",
    "    teachername = \"sushant\"\n",
    "    \n",
    "    def printHello(self):\n",
    "        print(\"Hello\")\n",
    "    def printy(self,str):\n",
    "        print(str)\n",
    "    def printName(self):\n",
    "        name = \"ankit\"\n",
    "        print(self.name)\n",
    "        print(name)\n",
    "    def addName(self,name):\n",
    "        self.name = name\n",
    "    def test(self):\n",
    "        print(student.teachername) \n",
    "\n",
    "k2 = student()\n",
    "k3 = student()\n",
    "\n",
    "\n",
    "k3.test()"
   ]
  },
  {
   "cell_type": "markdown",
   "metadata": {},
   "source": [
    "**We can also create the new class variable inside the instance function and update  them as well**"
   ]
  },
  {
   "cell_type": "code",
   "execution_count": 111,
   "metadata": {},
   "outputs": [
    {
     "name": "stdout",
     "output_type": "stream",
     "text": [
      "kotiyal\n",
      "{'__module__': '__main__', 'totalstudents': 50, 'teachername': 'kotiyal', 'printHello': <function student.printHello at 0x0000023E0407C678>, 'printy': <function student.printy at 0x0000023E0407C318>, 'printName': <function student.printName at 0x0000023E0407C8B8>, 'addName': <function student.addName at 0x0000023E0407C798>, 'test': <function student.test at 0x0000023E0407C558>, '__dict__': <attribute '__dict__' of 'student' objects>, '__weakref__': <attribute '__weakref__' of 'student' objects>, '__doc__': None, 'new_var': 26}\n"
     ]
    }
   ],
   "source": [
    "class student :\n",
    "    totalstudents = 50  # any variable inside the class is class variable\n",
    "    teachername = \"sushant\"\n",
    "    \n",
    "    def printHello(self):\n",
    "        print(\"Hello\")\n",
    "    def printy(self,str):\n",
    "        print(str)\n",
    "    def printName(self):\n",
    "        name = \"ankit\"\n",
    "        print(self.name)\n",
    "        print(name)\n",
    "    def addName(self,name):\n",
    "        self.name = name\n",
    "    def test(self):\n",
    "        student.teachername = 'kotiyal'\n",
    "        print(student.teachername) \n",
    "        student.new_var = 26\n",
    "\n",
    "k2 = student()\n",
    "k3 = student()\n",
    "\n",
    "\n",
    "k3.test()\n",
    "\n",
    "print(student.__dict__)"
   ]
  },
  {
   "cell_type": "raw",
   "metadata": {},
   "source": [
    "OOPS Class Attribute\n",
    "Send Feedback\n",
    "Find the output of following code:\n",
    "Code\n",
    "class sampleclass: \n",
    "    count = 0     \n",
    "    def increase(self): \n",
    "        sampleclass.count += 1\n",
    "s1 = sampleclass() \n",
    "s1.increase()         \n",
    "print (s1.count,end=\" \") \n",
    "s2 = sampleclass() \n",
    "s2.increase() \n",
    "print (s2.count,end=\" \") \n",
    "print (sampleclass.count,end=\" \") "
   ]
  },
  {
   "cell_type": "raw",
   "metadata": {},
   "source": [
    "Options\n",
    "\n",
    "1 1 1\n",
    "\n",
    "1 2 1\n",
    "\n",
    "1 2 2\n",
    "\n",
    "1 1 2"
   ]
  },
  {
   "cell_type": "raw",
   "metadata": {},
   "source": [
    "Answer : 122"
   ]
  },
  {
   "cell_type": "markdown",
   "metadata": {},
   "source": [
    "# Constructor"
   ]
  },
  {
   "cell_type": "markdown",
   "metadata": {},
   "source": [
    "**Constructor is a special instance function which initializes the values of instance variables**<br>\n",
    "**Whenever we define a new object , constructor is called implicitly**<br>\n",
    "**Constructor is by default present in each class without us needing to explicitly create it**"
   ]
  },
  {
   "cell_type": "markdown",
   "metadata": {},
   "source": [
    "**def __init__(self):**<br>\n",
    "this is the default constructor which is created in every class , it will act as instance method only"
   ]
  },
  {
   "cell_type": "code",
   "execution_count": 113,
   "metadata": {},
   "outputs": [
    {
     "name": "stdout",
     "output_type": "stream",
     "text": [
      "Constructor is called\n",
      "Constructor is called\n"
     ]
    }
   ],
   "source": [
    "class student :\n",
    "    totalstudents = 50  # any variable inside the class is class variable\n",
    "    teachername = \"sushant\"\n",
    "    \n",
    "    def __init__(self):\n",
    "        print(\"Constructor is called\")\n",
    "    \n",
    "    def printHello(self):\n",
    "        print(\"Hello\")\n",
    "    def printy(self,str):\n",
    "        print(str)\n",
    "    def printName(self):\n",
    "        name = \"ankit\"\n",
    "        print(self.name)\n",
    "        print(name)\n",
    "    def addName(self,name):\n",
    "        self.name = name\n",
    "    def test(self):\n",
    "        student.teachername = 'kotiyal'\n",
    "        print(student.teachername) \n",
    "        student.new_var = 26\n",
    "\n",
    "k2 = student()\n",
    "k3 = student()"
   ]
  },
  {
   "cell_type": "markdown",
   "metadata": {},
   "source": [
    "**When we tried to access the object variable which was not initialized we got error**<br>\n",
    "**To save us from there we can write our own constructor to intialize variables for all the instances**"
   ]
  },
  {
   "cell_type": "code",
   "execution_count": 114,
   "metadata": {},
   "outputs": [],
   "source": [
    "class student :\n",
    "    totalstudents = 50  # any variable inside the class is class variable\n",
    "    teachername = \"sushant\"\n",
    "    \n",
    "    def __init__(self):\n",
    "        self.name = \"Adi\"\n",
    "        self.age = 20\n",
    "        self.rollnumber = 1\n",
    "    \n",
    "    def printHello(self):\n",
    "        print(\"Hello\")\n",
    "    def printy(self,str):\n",
    "        print(str)\n",
    "    def printName(self):\n",
    "        name = \"ankit\"\n",
    "        print(self.name)\n",
    "        print(name)\n",
    "    def addName(self,name):\n",
    "        self.name = name\n",
    "    def test(self):\n",
    "        student.teachername = 'kotiyal'\n",
    "        print(student.teachername) \n",
    "        student.new_var = 26\n",
    "\n",
    "k2 = student()\n",
    "k3 = student()"
   ]
  },
  {
   "cell_type": "code",
   "execution_count": 118,
   "metadata": {},
   "outputs": [
    {
     "data": {
      "text/plain": [
       "20"
      ]
     },
     "execution_count": 118,
     "metadata": {},
     "output_type": "execute_result"
    }
   ],
   "source": [
    "k3.age"
   ]
  },
  {
   "cell_type": "code",
   "execution_count": 119,
   "metadata": {},
   "outputs": [
    {
     "name": "stdout",
     "output_type": "stream",
     "text": [
      "{'name': 'Adi', 'age': 20, 'rollnumber': 1}\n",
      "{'name': 'Adi', 'age': 20, 'rollnumber': 1}\n"
     ]
    }
   ],
   "source": [
    "print(k2.__dict__)\n",
    "print(k3.__dict__)"
   ]
  },
  {
   "cell_type": "markdown",
   "metadata": {},
   "source": [
    "**We can see above that both have same values so to avoid that we can take argumnets in constructor**"
   ]
  },
  {
   "cell_type": "code",
   "execution_count": 120,
   "metadata": {},
   "outputs": [],
   "source": [
    "class student :\n",
    "    totalstudents = 50  # any variable inside the class is class variable\n",
    "    teachername = \"sushant\"\n",
    "    \n",
    "    def __init__(self,name,age,rn):\n",
    "        self.name = name\n",
    "        self.age = age\n",
    "        self.rollnumber = rn\n",
    "    \n",
    "    def printHello(self):\n",
    "        print(\"Hello\")\n",
    "    def printy(self,str):\n",
    "        print(str)\n",
    "    def printName(self):\n",
    "        name = \"ankit\"\n",
    "        print(self.name)\n",
    "        print(name)\n",
    "    def addName(self,name):\n",
    "        self.name = name\n",
    "    def test(self):\n",
    "        student.teachername = 'kotiyal'\n",
    "        print(student.teachername) \n",
    "        student.new_var = 26\n",
    "\n",
    "k2 = student(\"ankit\",20,101)\n",
    "k3 = student(\"pawan\",22,56)"
   ]
  },
  {
   "cell_type": "code",
   "execution_count": 122,
   "metadata": {},
   "outputs": [
    {
     "name": "stdout",
     "output_type": "stream",
     "text": [
      "{'name': 'ankit', 'age': 20, 'rollnumber': 101}\n",
      "{'name': 'pawan', 'age': 22, 'rollnumber': 56}\n"
     ]
    }
   ],
   "source": [
    "print(k2.__dict__)\n",
    "print(k3.__dict__)"
   ]
  },
  {
   "cell_type": "markdown",
   "metadata": {},
   "source": [
    "**We can also use default arguments in constructor**"
   ]
  },
  {
   "cell_type": "code",
   "execution_count": 123,
   "metadata": {},
   "outputs": [],
   "source": [
    "class student :\n",
    "    totalstudents = 50  # any variable inside the class is class variable\n",
    "    teachername = \"sushant\"\n",
    "    \n",
    "    def __init__(self,name,age,rn=102):\n",
    "        self.name = name\n",
    "        self.age = age\n",
    "        self.rollnumber = rn\n",
    "    \n",
    "    def printHello(self):\n",
    "        print(\"Hello\")\n",
    "    def printy(self,str):\n",
    "        print(str)\n",
    "    def printName(self):\n",
    "        name = \"ankit\"\n",
    "        print(self.name)\n",
    "        print(name)\n",
    "    def addName(self,name):\n",
    "        self.name = name\n",
    "    def test(self):\n",
    "        student.teachername = 'kotiyal'\n",
    "        print(student.teachername) \n",
    "        student.new_var = 26\n",
    "\n",
    "k2 = student(\"ankit\",20,101)\n",
    "k3 = student(\"pawan\",22,56)\n",
    "k4 = student(\"rahul\",22)"
   ]
  },
  {
   "cell_type": "code",
   "execution_count": 125,
   "metadata": {},
   "outputs": [
    {
     "name": "stdout",
     "output_type": "stream",
     "text": [
      "{'name': 'ankit', 'age': 20, 'rollnumber': 101}\n",
      "{'name': 'pawan', 'age': 22, 'rollnumber': 56}\n",
      "{'name': 'rahul', 'age': 22, 'rollnumber': 102}\n"
     ]
    }
   ],
   "source": [
    "print(k2.__dict__)\n",
    "print(k3.__dict__)\n",
    "print(k4.__dict__)"
   ]
  },
  {
   "cell_type": "markdown",
   "metadata": {},
   "source": [
    "**Unlike CPP and Java, Python doesn't allow constructor overloading** <br>\n",
    "**Reason is python allows to pass variable number of arguments**"
   ]
  },
  {
   "cell_type": "raw",
   "metadata": {},
   "source": [
    "OOPS Inbuit\n",
    "Send Feedback\n",
    "Find the output of following code:\n",
    "Code\n",
    "class change:\n",
    "     def __init__(self, x, y, z):\n",
    "          self.a = x + y + z\n",
    "x = change(1,2,3)\n",
    "y = getattr(x, 'a')\n",
    "setattr(x, 'a', y+1)\n",
    "print(x.a)"
   ]
  },
  {
   "cell_type": "raw",
   "metadata": {},
   "source": [
    "Options\n",
    "\n",
    "6\n",
    "\n",
    "8\n",
    "\n",
    "7\n",
    "\n",
    "5"
   ]
  },
  {
   "cell_type": "raw",
   "metadata": {},
   "source": [
    "Answer : 7"
   ]
  },
  {
   "cell_type": "markdown",
   "metadata": {},
   "source": [
    "Predict The output\n",
    "Send Feedback\n",
    "What will be the output of following code?\n",
    "class Student:\n",
    "\n",
    "    def __init__(self,name,age):\n",
    "        self.name = “Rohan”\n",
    "        self.age = 20\n",
    "\n",
    "    def print_student_details():\n",
    "        print(self.name, end= “ “)\n",
    "        print(self.age)\n",
    "\n",
    "\n",
    "s = Student()\n",
    "s.print_student_details()\n"
   ]
  },
  {
   "cell_type": "markdown",
   "metadata": {},
   "source": [
    "Options\n",
    "\n",
    "Rohan 20\n",
    "\n",
    "Error\n",
    "\n",
    "Rohan\n",
    "\n",
    "None of the above"
   ]
  },
  {
   "cell_type": "markdown",
   "metadata": {},
   "source": [
    "Error"
   ]
  },
  {
   "cell_type": "markdown",
   "metadata": {},
   "source": [
    "Predict The Output\n",
    "Send Feedback\n",
    "What will be the output of following code?\n",
    "class Student:\n",
    "    def __init__(self,name,age):\n",
    "        self.name = “Rohan”\n",
    "        self.age = 20\n",
    "\n",
    "    def print_student_details():\n",
    "        print(self.name, end= “ “)\n",
    "        print(self.age)\n",
    "s = Student(“Parikh”,25)\n",
    "s.print_student_details()"
   ]
  },
  {
   "cell_type": "markdown",
   "metadata": {},
   "source": [
    "Options\n",
    "\n",
    "Parikh 25\n",
    "\n",
    "Rohan 20\n",
    "\n",
    "Parikh 20\n",
    "\n",
    "Error"
   ]
  },
  {
   "cell_type": "code",
   "execution_count": 129,
   "metadata": {},
   "outputs": [
    {
     "ename": "TypeError",
     "evalue": "print_student_details() takes 0 positional arguments but 1 was given",
     "output_type": "error",
     "traceback": [
      "\u001b[1;31m---------------------------------------------------------------------------\u001b[0m",
      "\u001b[1;31mTypeError\u001b[0m                                 Traceback (most recent call last)",
      "\u001b[1;32m<ipython-input-129-4d9dad1dc37e>\u001b[0m in \u001b[0;36m<module>\u001b[1;34m\u001b[0m\n\u001b[0;32m      8\u001b[0m         \u001b[0mprint\u001b[0m\u001b[1;33m(\u001b[0m\u001b[0mself\u001b[0m\u001b[1;33m.\u001b[0m\u001b[0mage\u001b[0m\u001b[1;33m)\u001b[0m\u001b[1;33m\u001b[0m\u001b[1;33m\u001b[0m\u001b[0m\n\u001b[0;32m      9\u001b[0m \u001b[0ms\u001b[0m \u001b[1;33m=\u001b[0m \u001b[0mStudent\u001b[0m\u001b[1;33m(\u001b[0m\u001b[1;34m\"Parikh\"\u001b[0m\u001b[1;33m,\u001b[0m\u001b[1;36m25\u001b[0m\u001b[1;33m)\u001b[0m\u001b[1;33m\u001b[0m\u001b[1;33m\u001b[0m\u001b[0m\n\u001b[1;32m---> 10\u001b[1;33m \u001b[0ms\u001b[0m\u001b[1;33m.\u001b[0m\u001b[0mprint_student_details\u001b[0m\u001b[1;33m(\u001b[0m\u001b[1;33m)\u001b[0m\u001b[1;33m\u001b[0m\u001b[1;33m\u001b[0m\u001b[0m\n\u001b[0m",
      "\u001b[1;31mTypeError\u001b[0m: print_student_details() takes 0 positional arguments but 1 was given"
     ]
    }
   ],
   "source": [
    "class Student:\n",
    "    def __init__(self,name,age):\n",
    "        self.name = \"Rohan\"\n",
    "        self.age = 20\n",
    "\n",
    "    def print_student_details():\n",
    "        print(self.name, end= \" \")\n",
    "        print(self.age)\n",
    "s = Student(\"Parikh\",25)\n",
    "s.print_student_details()"
   ]
  },
  {
   "cell_type": "markdown",
   "metadata": {},
   "source": [
    "# Access Modifiers"
   ]
  },
  {
   "cell_type": "markdown",
   "metadata": {},
   "source": [
    "**PublicLCan be access anywhere**<br>**Private: Can be accessed only inside the class**<br>\n",
    "**Protected: Can be used only inside the class or subclass**<br>\n",
    "**Every attribute and method is by default public**<br>\n",
    "**To make anything private you need to add __before name**<br>\n",
    "**To make anything protected we need to add single underscore before**"
   ]
  },
  {
   "cell_type": "markdown",
   "metadata": {},
   "source": [
    "**lets make name attribute as private**"
   ]
  },
  {
   "cell_type": "code",
   "execution_count": 133,
   "metadata": {},
   "outputs": [],
   "source": [
    "class student :\n",
    "    totalstudents = 50  # any variable inside the class is class variable\n",
    "    teachername = \"sushant\"\n",
    "    \n",
    "    def __init__(self,name,age,rn=102):\n",
    "        self.__name = name\n",
    "        self.age = age\n",
    "        self.rollnumber = rn\n",
    "    \n",
    "    def printHello(self):\n",
    "        print(\"Hello\")\n",
    "    def printy(self,str):\n",
    "        print(str)\n",
    "    def printName(self):\n",
    "        name = \"ankit\"\n",
    "        print(self.name)\n",
    "        print(name)\n",
    "    def addName(self,name):\n",
    "        self.__name = name\n",
    "    def test(self):\n",
    "        student.teachername = 'kotiyal'\n",
    "        print(student.teachername) \n",
    "        student.new_var = 26\n",
    "\n"
   ]
  },
  {
   "cell_type": "code",
   "execution_count": 134,
   "metadata": {},
   "outputs": [
    {
     "name": "stdout",
     "output_type": "stream",
     "text": [
      "101 20\n"
     ]
    }
   ],
   "source": [
    "k4 = student(\"ankit\",20,101)\n",
    "print(k4.rollnumber,k4.age)"
   ]
  },
  {
   "cell_type": "code",
   "execution_count": 136,
   "metadata": {},
   "outputs": [
    {
     "ename": "AttributeError",
     "evalue": "'student' object has no attribute 'name'",
     "output_type": "error",
     "traceback": [
      "\u001b[1;31m---------------------------------------------------------------------------\u001b[0m",
      "\u001b[1;31mAttributeError\u001b[0m                            Traceback (most recent call last)",
      "\u001b[1;32m<ipython-input-136-16be5285496a>\u001b[0m in \u001b[0;36m<module>\u001b[1;34m\u001b[0m\n\u001b[1;32m----> 1\u001b[1;33m \u001b[0mprint\u001b[0m\u001b[1;33m(\u001b[0m\u001b[0mk4\u001b[0m\u001b[1;33m.\u001b[0m\u001b[0mname\u001b[0m\u001b[1;33m)\u001b[0m \u001b[1;31m## this will give error as name is private\u001b[0m\u001b[1;33m\u001b[0m\u001b[1;33m\u001b[0m\u001b[0m\n\u001b[0m",
      "\u001b[1;31mAttributeError\u001b[0m: 'student' object has no attribute 'name'"
     ]
    }
   ],
   "source": [
    "print(k4.name) ## this will give error as name is private "
   ]
  },
  {
   "cell_type": "markdown",
   "metadata": {},
   "source": [
    "**Make things private has two use cases**<br>\n",
    "**abstraction**\n",
    "<br>**Security**"
   ]
  },
  {
   "cell_type": "markdown",
   "metadata": {},
   "source": [
    "**In Abstraction we are hiding irrelevant details**<br>\n",
    "**But how can we access the private properties of class from outside : through public properties**<br>\n",
    "**Lets write a class function accessing the private properties of Class**"
   ]
  },
  {
   "cell_type": "code",
   "execution_count": 149,
   "metadata": {},
   "outputs": [
    {
     "name": "stdout",
     "output_type": "stream",
     "text": [
      "ravan 16 89\n"
     ]
    }
   ],
   "source": [
    "class student :\n",
    "    totalstudents = 50  # any variable inside the class is class variable\n",
    "    teachername = \"sushant\"\n",
    "    \n",
    "    def __init__(self,name,age,rn=102):\n",
    "        self.__name = name\n",
    "        self.age = age\n",
    "        self.rollnumber = rn\n",
    "        \n",
    "    def getName(self):\n",
    "        return self.__name\n",
    "k1 = student(\"ravan\",16,89)\n",
    "\n",
    "print(k1.getName(),k1.age,k1.rollnumber)"
   ]
  },
  {
   "cell_type": "markdown",
   "metadata": {},
   "source": [
    "**Similar to set function , we can also create set function to update**"
   ]
  },
  {
   "cell_type": "code",
   "execution_count": 153,
   "metadata": {},
   "outputs": [
    {
     "name": "stdout",
     "output_type": "stream",
     "text": [
      "chantu 18 49\n",
      "{'_student__name': 'chantu', 'age': 18, 'rollnumber': 49}\n",
      "Ravi\n"
     ]
    }
   ],
   "source": [
    "class student :\n",
    "    totalstudents = 50  # any variable inside the class is class variable\n",
    "    teachername = \"sushant\"\n",
    "    \n",
    "    def __init__(self,name,age,rn=102):\n",
    "        self.__name = name\n",
    "        self.age = age\n",
    "        self.rollnumber = rn\n",
    "        \n",
    "    def getName(self):\n",
    "        return self.__name\n",
    "    def setName(self,name):\n",
    "        self.__name = name\n",
    "    \n",
    "k2 = student(\"chantu\",18,49)\n",
    "\n",
    "print(k2.getName(),k2.age,k2.rollnumber)\n",
    "print(k2.__dict__)\n",
    "k2.setName(\"Ravi\")\n",
    "print(k2.getName())"
   ]
  },
  {
   "cell_type": "markdown",
   "metadata": {},
   "source": [
    "**Making attributes private and accessing them directly : how does it help , we can make these public methods to put a restraint on access**<br>\n",
    "**For example we can put password for updating the attribute, only people who knows the password can update the vars**"
   ]
  },
  {
   "cell_type": "code",
   "execution_count": 158,
   "metadata": {},
   "outputs": [
    {
     "name": "stdout",
     "output_type": "stream",
     "text": [
      "chantu 18 49\n",
      "{'_student__name': 'chantu', 'age': 18, 'rollnumber': 49}\n",
      "Ravi\n"
     ]
    }
   ],
   "source": [
    "class student :\n",
    "    totalstudents = 50  # any variable inside the class is class variable\n",
    "    teachername = \"sushant\"\n",
    "    \n",
    "    def __init__(self,name,age,rn=102):\n",
    "        self.__name = name\n",
    "        self.age = age\n",
    "        self.rollnumber = rn\n",
    "        \n",
    "    def getName(self):\n",
    "        return self.__name\n",
    "    def setName(self,name,password):\n",
    "        if password == 1234:\n",
    "            self.__name = name\n",
    "    \n",
    "k2 = student(\"chantu\",18,49)\n",
    "\n",
    "print(k2.getName(),k2.age,k2.rollnumber)\n",
    "print(k2.__dict__)\n",
    "k2.setName(\"Ravi\",1234)\n",
    "print(k2.getName())"
   ]
  },
  {
   "cell_type": "raw",
   "metadata": {},
   "source": [
    "There is nothing private for developers in python , as python is developer friendly\n",
    "when we define var as private , python does name mangling  -> __name == _class__name\n",
    "so if we want we can access private variable outside class:\n"
   ]
  },
  {
   "cell_type": "code",
   "execution_count": 159,
   "metadata": {},
   "outputs": [
    {
     "name": "stdout",
     "output_type": "stream",
     "text": [
      "ravan\n"
     ]
    }
   ],
   "source": [
    "print(k1._student__name)"
   ]
  },
  {
   "cell_type": "raw",
   "metadata": {},
   "source": [
    "OOPS Modifier\n",
    "Send Feedback\n",
    "Analyze the following code:\n",
    "class A:\n",
    "     def __init__(self):\n",
    "         self.x = 1\n",
    "         self.__y = 1\n",
    "     def getY(self):\n",
    "         return self.__y\n",
    "a = A()\n",
    "a.__y = 45\n",
    "print(a.getX())\n"
   ]
  },
  {
   "cell_type": "markdown",
   "metadata": {},
   "source": [
    "Options\n",
    "\n",
    "The program has an error because x is private and cannot be access outside of the class.\n",
    "\n",
    "The program has an error because y is private and cannot be access outside of the class.\n",
    "\n",
    "The program has an error because you cannot name a variable using __y.\n",
    "\n",
    "The program runs fine and prints 1."
   ]
  },
  {
   "cell_type": "raw",
   "metadata": {},
   "source": [
    "Answer:\n",
    "The program has an error because y is private and cannot be access outside of the class. "
   ]
  },
  {
   "cell_type": "markdown",
   "metadata": {},
   "source": [
    "The program has an error because y is private and cannot be access outside of the class."
   ]
  },
  {
   "cell_type": "markdown",
   "metadata": {},
   "source": [
    "Predict The Output\n",
    "Send Feedback\n",
    "What will be the output of this code?\n",
    "class Student:\n",
    "     def __init__(self,name,age):\n",
    "        self.__name = name\n",
    "        self.age = age\n",
    "    def print_student_details():\n",
    "        print(self.__name, end= “ “)\n",
    "        print(self.age)\n",
    "\n",
    "s = Student(“Rohan”,20)\n",
    "print(s.name)"
   ]
  },
  {
   "cell_type": "raw",
   "metadata": {},
   "source": [
    "Options\n",
    "\n",
    "Rohan\n",
    "\n",
    "None\n",
    "\n",
    "Error \n",
    "\n",
    "None of the above"
   ]
  },
  {
   "cell_type": "markdown",
   "metadata": {},
   "source": [
    "**Creating private class attributes and how to access it**"
   ]
  },
  {
   "cell_type": "code",
   "execution_count": 162,
   "metadata": {},
   "outputs": [
    {
     "name": "stdout",
     "output_type": "stream",
     "text": [
      "chantu\n"
     ]
    }
   ],
   "source": [
    "class student :\n",
    "    __totalstudents = 50  # any variable inside the class is class variable\n",
    "    teachername = \"sushant\"\n",
    "    \n",
    "    def __init__(self,name,age,rn=102):\n",
    "        self.__name = name\n",
    "        self.age = age\n",
    "        self.rollnumber = rn\n",
    "        \n",
    "    def getName(self):\n",
    "        return self.__name\n",
    "    def setName(self,name,password):\n",
    "        if password == 1234:\n",
    "            self.__name = name\n",
    "    \n",
    "k2 = student(\"chantu\",18,49)\n",
    "\n",
    "print(k2.getName())"
   ]
  },
  {
   "cell_type": "code",
   "execution_count": 163,
   "metadata": {},
   "outputs": [
    {
     "name": "stdout",
     "output_type": "stream",
     "text": [
      "50\n"
     ]
    }
   ],
   "source": [
    "print(student._student__totalstudents)"
   ]
  },
  {
   "cell_type": "markdown",
   "metadata": {},
   "source": [
    "**Accesing class variables using function**<br>"
   ]
  },
  {
   "cell_type": "code",
   "execution_count": 166,
   "metadata": {},
   "outputs": [
    {
     "name": "stdout",
     "output_type": "stream",
     "text": [
      "50\n",
      "50\n"
     ]
    }
   ],
   "source": [
    "class student :\n",
    "    __totalstudents = 50  # any variable inside the class is class variable\n",
    "    teachername = \"sushant\"\n",
    "    \n",
    "    def __init__(self,name,age,rn=102):\n",
    "        self.__name = name\n",
    "        self.age = age\n",
    "        self.rollnumber = rn\n",
    "        \n",
    "    def getTotalstudents(self):\n",
    "        return student.__totalstudents\n",
    "    def getName(self):\n",
    "        return self.__name\n",
    "    def setName(self,name,password):\n",
    "        if password == 1234:\n",
    "            self.__name = name\n",
    "    \n",
    "k2 = student(\"chantu\",18,49)\n",
    "\n",
    "print(k2.getTotalstudents()) #why we need object here to access the class varaible\n",
    "print(student.getTotalstudents(k2))"
   ]
  },
  {
   "cell_type": "markdown",
   "metadata": {},
   "source": [
    "**If you see above , we are using the objects to access class variable**<br>\n",
    "**We will define class methods and we will use decorators to do so: In class methods in place of self : cls will be used**"
   ]
  },
  {
   "cell_type": "code",
   "execution_count": 167,
   "metadata": {},
   "outputs": [
    {
     "name": "stdout",
     "output_type": "stream",
     "text": [
      "50\n"
     ]
    }
   ],
   "source": [
    "class student :\n",
    "    __totalstudents = 50  # any variable inside the class is class variable\n",
    "    teachername = \"sushant\"\n",
    "    \n",
    "    def __init__(self,name,age,rn=102):\n",
    "        self.__name = name\n",
    "        self.age = age\n",
    "        self.rollnumber = rn\n",
    "    @classmethod    \n",
    "    def getTotalstudents(cls):\n",
    "        return cls.__totalstudents\n",
    "    def getName(self):\n",
    "        return self.__name\n",
    "    def setName(self,name,password):\n",
    "        if password == 1234:\n",
    "            self.__name = name\n",
    "    \n",
    "print(student.getTotalstudents())\n",
    "\n"
   ]
  },
  {
   "cell_type": "markdown",
   "metadata": {},
   "source": [
    "**Class methods are used to create factory methods: read about them**"
   ]
  },
  {
   "cell_type": "markdown",
   "metadata": {},
   "source": [
    "**Static Method : read about it**"
   ]
  },
  {
   "cell_type": "code",
   "execution_count": null,
   "metadata": {},
   "outputs": [],
   "source": [
    "Predict The Output\n",
    "Send Feedback\n",
    "What will be the output of this code?\n",
    "class Student:\n",
    "    def __init__(self,name,age):\n",
    "        self.name = name\n",
    "        self.age = age\n",
    "    def print_student_details():\n",
    "        print(self.name, end= “ “)\n",
    "        print(self.age)\n",
    "\n",
    "    @staticmethod\n",
    "    def isTeen(age):\n",
    "        return age>16\n",
    "\n",
    "a = Student.isTeen(18)\n",
    "print(a)"
   ]
  },
  {
   "cell_type": "code",
   "execution_count": null,
   "metadata": {},
   "outputs": [],
   "source": [
    "Options\n",
    "\n",
    "True\n",
    "\n",
    "False\n",
    "\n",
    "Error\n",
    "\n",
    "None of the above"
   ]
  },
  {
   "cell_type": "code",
   "execution_count": 170,
   "metadata": {},
   "outputs": [
    {
     "name": "stdout",
     "output_type": "stream",
     "text": [
      "True\n"
     ]
    }
   ],
   "source": [
    "class Student:\n",
    "    def __init__(self,name,age):\n",
    "        self.name = name\n",
    "        self.age = age\n",
    "    def print_student_details():\n",
    "        print(self.name, end= \" \")\n",
    "        print(self.age)\n",
    "\n",
    "    @staticmethod\n",
    "    def isTeen(age):\n",
    "        return age>16\n",
    "\n",
    "a = Student.isTeen(18)\n",
    "print(a)"
   ]
  }
 ],
 "metadata": {
  "kernelspec": {
   "display_name": "Python 3",
   "language": "python",
   "name": "python3"
  },
  "language_info": {
   "codemirror_mode": {
    "name": "ipython",
    "version": 3
   },
   "file_extension": ".py",
   "mimetype": "text/x-python",
   "name": "python",
   "nbconvert_exporter": "python",
   "pygments_lexer": "ipython3",
   "version": "3.7.4"
  }
 },
 "nbformat": 4,
 "nbformat_minor": 2
}
