{
 "cells": [
  {
   "cell_type": "raw",
   "metadata": {},
   "source": [
    "Job Location\n",
    "Send Feedback\n",
    "Given File 'amazonjobsdataset.csv'\n",
    "It is a dataset including information on amazon job opening around the world from June 2011 to March 2018. This dataset is collected using Selenium and BeautifulSoup by scraping all of the jobs for Amazon job site.\n",
    "Problem Statement :\n",
    "Find number of job openings in Bangalore,IN and in Seattle,US?\n",
    "Print the Number of Job opening in Bangalore and Seattle as Integer value.\n",
    "Output Format :\n",
    "CountBangalore CountSeattle\n"
   ]
  },
  {
   "cell_type": "code",
   "execution_count": 25,
   "metadata": {},
   "outputs": [
    {
     "name": "stdout",
     "output_type": "stream",
     "text": [
      "66 1856\n"
     ]
    }
   ],
   "source": [
    "import csv\n",
    "\n",
    "cntBng = 0\n",
    "cntSeat = 0\n",
    "with open('Dataset/amazon_jobs_dataset.csv','r',encoding=\"utf8\") as file_obj:\n",
    "    data_file = csv.DictReader(file_obj,skipinitialspace= True)\n",
    "    \n",
    "    k = {}\n",
    "    for row in data_file:\n",
    "        key = row['location']\n",
    "        if key in k:\n",
    "            k[key] += 1\n",
    "        else:\n",
    "            k[key] = 1\n",
    "for i in k:\n",
    "    if 'Bangalore' in i :  \n",
    "        cntBng = k[i]\n",
    "    elif 'Seattle' in i:\n",
    "        cntSeat = k[i]\n",
    "print(cntBng,cntSeat)\n",
    "    \n",
    "        \n",
    "        \n",
    "    \n",
    "    \n",
    "    \n"
   ]
  },
  {
   "cell_type": "raw",
   "metadata": {},
   "source": [
    "Job Computer Vision\n",
    "Send Feedback\n",
    "Given File 'amazonjobsdataset.csv'\n",
    "It is a dataset including information on amazon job opening around the world from June 2011 to March 2018. This dataset is collected using Selenium and BeautifulSoup by scraping all of the jobs for Amazon job site.\n",
    "Problem Statement :\n",
    "What are the total number of job openings related to Computer Vision ?\n",
    "Note:For finding the job related to computer vision check the Job Title column.\n",
    "Print the count as the Integer Value\n",
    "Output Format :\n",
    "Count\n"
   ]
  },
  {
   "cell_type": "code",
   "execution_count": 31,
   "metadata": {},
   "outputs": [
    {
     "name": "stdout",
     "output_type": "stream",
     "text": [
      "14\n"
     ]
    }
   ],
   "source": [
    "import csv\n",
    "\n",
    "cnt= 0\n",
    "\n",
    "with open('Dataset/amazon_jobs_dataset.csv','r',encoding=\"utf8\") as file_obj:\n",
    "    data_file = csv.DictReader(file_obj,skipinitialspace= True)\n",
    "    \n",
    "    for row in data_file:\n",
    "        if 'Vision' in row['Title']:\n",
    "            cnt += 1\n",
    "print(cnt)\n",
    "            \n",
    "    "
   ]
  },
  {
   "cell_type": "raw",
   "metadata": {},
   "source": [
    "Job Canada\n",
    "Send Feedback\n",
    "Given File 'amazonjobsdataset.csv'\n",
    "It is a dataset including information on amazon job opening around the world from June 2011 to March 2018. This dataset is collected using Selenium and BeautifulSoup by scraping all of the jobs for Amazon job site.\n",
    "Problem Statement :\n",
    "Find the number of job openings in Canada?\n",
    "Print the count as the Integer Value\n",
    "Note: Here you should analyse the country code in location feature.( you can use dictionary for analyse part ).\n",
    "Output Format :\n",
    "Count\n"
   ]
  },
  {
   "cell_type": "code",
   "execution_count": 35,
   "metadata": {},
   "outputs": [
    {
     "name": "stdout",
     "output_type": "stream",
     "text": [
      "156\n"
     ]
    }
   ],
   "source": [
    "import csv\n",
    "cnt= 0\n",
    "\n",
    "with open('Dataset/amazon_jobs_dataset.csv','r',encoding=\"utf8\") as file_obj:\n",
    "    data_file = csv.DictReader(file_obj,skipinitialspace= True)\n",
    "    \n",
    "    for row in data_file:\n",
    "        k = row['location']\n",
    "        j = k.split(',')\n",
    "        if j[0] == 'CA':\n",
    "            cnt += 1\n",
    "print(cnt)\n",
    "            "
   ]
  },
  {
   "cell_type": "raw",
   "metadata": {},
   "source": [
    "Job Month 2018\n",
    "Send Feedback\n",
    "Given File 'amazonjobsdataset.csv'\n",
    "It is a dataset including information on amazon job opening around the world from June 2011 to March 2018. This dataset is collected using Selenium and BeautifulSoup by scraping all of the jobs for Amazon job site.\n",
    "Problem Statement :\n",
    "Find the month having most job openings in Year 2018 ?\n",
    "Print the month (Month Name i.e January, February, March) and Number of job opening as Integer Value\n",
    "Output Format :\n",
    "MonthName Count"
   ]
  },
  {
   "cell_type": "code",
   "execution_count": 59,
   "metadata": {},
   "outputs": [
    {
     "name": "stdout",
     "output_type": "stream",
     "text": [
      "January 907\n"
     ]
    }
   ],
   "source": [
    "import csv\n",
    "\n",
    "with open('Dataset/amazon_jobs_dataset.csv','r',encoding=\"utf8\") as file_obj:\n",
    "    data_file = csv.DictReader(file_obj,skipinitialspace= True)\n",
    "    r = {}\n",
    "    for row in data_file:\n",
    "        key = row['Posting_date'].split(',')[0].split(' ')[0]\n",
    "        year= row['Posting_date'].split(',')[1]\n",
    "        year = int(year)\n",
    "        if year == 2018:\n",
    "            if key in r :\n",
    "                r[key] += 1\n",
    "            else:\n",
    "                r[key] = 1\n",
    "month=''\n",
    "val = 0\n",
    "for i in r:\n",
    "    if r[i] > val :\n",
    "        month = i\n",
    "        val = r[i]\n",
    "print(month,val)\n",
    "    "
   ]
  },
  {
   "cell_type": "raw",
   "metadata": {},
   "source": [
    "Job Degree\n",
    "Send Feedback\n",
    "Given File 'amazonjobsdataset.csv'\n",
    "It is a dataset including information on amazon job opening around the world from June 2011 to March 2018. This dataset is collected using Selenium and BeautifulSoup by scraping all of the jobs for Amazon job site.\n",
    "Problem Statement :\n",
    "Find the number of job openings are present if applicant have Bachelor degree?\n",
    "Print the count as Integer value\n",
    "Note : Here we will use the BASIC QUALIFICATIONS feature to find out whether bachelor degree for Job is required or not. Keywords that can be used are 'Bachelor', 'BS' and 'BA'.\n",
    "Output Format :\n",
    "Count"
   ]
  },
  {
   "cell_type": "code",
   "execution_count": 62,
   "metadata": {},
   "outputs": [
    {
     "name": "stdout",
     "output_type": "stream",
     "text": [
      "2961\n"
     ]
    }
   ],
   "source": [
    "import csv\n",
    "cnt = 0\n",
    "with open('Dataset/amazon_jobs_dataset.csv','r',encoding=\"utf8\") as file_obj:\n",
    "    data_file = csv.DictReader(file_obj,skipinitialspace= True)\n",
    "    \n",
    "    for row in data_file:\n",
    "        val = row['BASIC QUALIFICATIONS']\n",
    "        if 'Bachelor' in val or 'BS' in val or 'BA' in val:\n",
    "            cnt += 1\n",
    "print(cnt)\n",
    "      "
   ]
  },
  {
   "cell_type": "raw",
   "metadata": {},
   "source": [
    "Job Language\n",
    "Send Feedback\n",
    "Given File 'amazonjobsdataset.csv'\n",
    "It is a dataset including information on amazon job opening around the world from June 2011 to March 2018. This dataset is collected using Selenium and BeautifulSoup by scraping all of the jobs for Amazon job site.\n",
    "Problem Statement :\n",
    "Among Java, C++ and Python, which of the language has more job openings in India for Bachelor Degree Holder?\n",
    "Print the Language(i.e Java,C++,Python) and number of job opening as integer value.\n",
    "Note : Here we will use the BASIC QUALIFICATIONS feature to find out whether bachelor degree for Job is required or not. Keywords that can be used are 'Bachelor', 'BS' and 'BA' and we will use the BASIC QUALIFICATIONS feature to find out whether Language is required for the job or not.Keywords that is used for language searching are 'Java','C++' or 'Python'.(There case should not be changed).\n",
    "Output Format :\n",
    "Language Count"
   ]
  },
  {
   "cell_type": "code",
   "execution_count": 67,
   "metadata": {},
   "outputs": [
    {
     "name": "stdout",
     "output_type": "stream",
     "text": [
      "Java 103\n"
     ]
    }
   ],
   "source": [
    "import csv\n",
    "cnt = 0\n",
    "with open('Dataset/amazon_jobs_dataset.csv','r',encoding=\"utf8\") as file_obj:\n",
    "    data_file = csv.DictReader(file_obj,skipinitialspace= True)\n",
    "    \n",
    "    r = {}\n",
    "    for row in data_file:\n",
    "        q_val = row['BASIC QUALIFICATIONS']\n",
    "        l_val = row['location'].split(',')[0]\n",
    "        bach_true = 'Bachelor' in q_val or 'BS' in q_val or 'BA' in q_val\n",
    "        if  l_val == 'IN' and bach_true :\n",
    "            if 'Java' in q_val:\n",
    "                r['Java'] = r.get('Java',0) + 1\n",
    "            if 'C++' in q_val:\n",
    "                r['C++'] = r.get('C++',0) + 1\n",
    "            if 'Python' in q_val:\n",
    "                r['Python'] = r.get('Python',0) + 1\n",
    "\n",
    "lang=''\n",
    "val = 0\n",
    "for i in r:\n",
    "    if r[i] > val :\n",
    "        lang = i\n",
    "        val = r[i]\n",
    "print(lang,val)\n",
    "\n",
    "            \n",
    "            \n"
   ]
  },
  {
   "cell_type": "raw",
   "metadata": {},
   "source": [
    "Job Java\n",
    "Send Feedback\n",
    "Given File 'amazonjobsdataset.csv'\n",
    "It is a dataset including information on amazon job opening around the world from June 2011 to March 2018. This dataset is collected using Selenium and BeautifulSoup by scraping all of the jobs for Amazon job site.\n",
    "Problem Statement :\n",
    "Find the country does Amazon need the most number of Java Developer?\n",
    "Print the Country(Country Shortcut as given in Dataset) and number of job opening as integer value\n",
    "Note :Here we will use the BASIC QUALIFICATIONS feature to find out whether Java is required for the job or not.Keyword is used is 'Java'.(Here case should not be changed).\n",
    "Output Format :\n",
    "Country Count"
   ]
  },
  {
   "cell_type": "code",
   "execution_count": 68,
   "metadata": {},
   "outputs": [
    {
     "name": "stdout",
     "output_type": "stream",
     "text": [
      "US 2009\n"
     ]
    }
   ],
   "source": [
    "import csv\n",
    "\n",
    "with open('Dataset/amazon_jobs_dataset.csv','r',encoding=\"utf8\") as file_obj:\n",
    "    data_file = csv.DictReader(file_obj,skipinitialspace= True)\n",
    "    \n",
    "    r = {}\n",
    "    for row in data_file:\n",
    "        q_val = row['BASIC QUALIFICATIONS']\n",
    "        l_val = row['location'].split(',')[0]\n",
    "        if 'Java' in q_val:\n",
    "            key = l_val\n",
    "            r[key] = r.get(key,0) + 1\n",
    "        \n",
    "\n",
    "country=''\n",
    "val = 0\n",
    "for i in r:\n",
    "    if r[i] > val :\n",
    "        country = i\n",
    "        val = r[i]\n",
    "print(country,val)"
   ]
  }
 ],
 "metadata": {
  "kernelspec": {
   "display_name": "Python 3",
   "language": "python",
   "name": "python3"
  },
  "language_info": {
   "codemirror_mode": {
    "name": "ipython",
    "version": 3
   },
   "file_extension": ".py",
   "mimetype": "text/x-python",
   "name": "python",
   "nbconvert_exporter": "python",
   "pygments_lexer": "ipython3",
   "version": "3.7.4"
  }
 },
 "nbformat": 4,
 "nbformat_minor": 2
}
