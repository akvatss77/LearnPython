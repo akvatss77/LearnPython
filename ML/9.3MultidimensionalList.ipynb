{
 "cells": [
  {
   "cell_type": "markdown",
   "metadata": {},
   "source": [
    "## There is nothing like 2 D list in python Its simply list containing different lists"
   ]
  },
  {
   "cell_type": "code",
   "execution_count": 2,
   "metadata": {},
   "outputs": [
    {
     "name": "stdout",
     "output_type": "stream",
     "text": [
      "[1, 2, 3, 4]\n",
      "[2, 5]\n",
      "3\n"
     ]
    }
   ],
   "source": [
    "a = [[1,2,3,4],[2,5]]\n",
    "\n",
    "print(a[0])\n",
    "print(a[1])\n",
    "print(a[0][2])"
   ]
  },
  {
   "cell_type": "code",
   "execution_count": 3,
   "metadata": {},
   "outputs": [
    {
     "name": "stdout",
     "output_type": "stream",
     "text": [
      "2\n"
     ]
    }
   ],
   "source": [
    "a = [[1,2,3,4],[2,5]]\n",
    "print(len(a)) # length of a will be 2 here"
   ]
  },
  {
   "cell_type": "code",
   "execution_count": 4,
   "metadata": {},
   "outputs": [
    {
     "name": "stdout",
     "output_type": "stream",
     "text": [
      "4\n"
     ]
    }
   ],
   "source": [
    "print(len(a[0])) # this will print "
   ]
  },
  {
   "cell_type": "markdown",
   "metadata": {},
   "source": [
    "## Taking input for 2 D List<br>\n"
   ]
  },
  {
   "cell_type": "raw",
   "metadata": {},
   "source": [
    "1.) m,n\n",
    "    [a,b,c..n items]\n",
    "    [a,b,c..n items]\n",
    "    [a,b,c..n items]\n",
    "    .. m times\n",
    "    \n",
    "    "
   ]
  },
  {
   "cell_type": "code",
   "execution_count": 3,
   "metadata": {},
   "outputs": [
    {
     "name": "stdout",
     "output_type": "stream",
     "text": [
      "2 4\n",
      "1 2 3 4\n",
      "5 4 6 8\n",
      "[[1, 2, 3, 4], [5, 4, 6, 8]]\n"
     ]
    }
   ],
   "source": [
    "#Taking 2D list as input by first way\n",
    "size = input().split()\n",
    "\n",
    "row = int(size[0])\n",
    "col = int(size[1])\n",
    "\n",
    "l =[]\n",
    "\n",
    "for i in range(row):\n",
    "    a = [int(i) for i in input().split()]\n",
    "    l.append(a)\n",
    "print(l)\n",
    "\n"
   ]
  },
  {
   "cell_type": "raw",
   "metadata": {},
   "source": [
    "Taking input in second way :\n",
    "m,n\n",
    "1\n",
    "2\n",
    "3\n",
    ".\n",
    ".\n",
    "n\n",
    "1\n",
    "2\n",
    "3\n",
    ".\n",
    ".\n",
    "n"
   ]
  },
  {
   "cell_type": "code",
   "execution_count": 1,
   "metadata": {},
   "outputs": [
    {
     "name": "stdout",
     "output_type": "stream",
     "text": [
      "3 4\n",
      "1\n",
      "2\n",
      "3\n",
      "4\n",
      "2\n",
      "3\n",
      "4\n",
      "5\n",
      "3\n",
      "4\n",
      "2\n",
      "4\n",
      "[[1, 2, 3, 4], [2, 3, 4, 5], [3, 4, 2, 4]]\n"
     ]
    }
   ],
   "source": [
    "size = input().split()\n",
    "m = int(size[0])\n",
    "n = int(size[1])\n",
    "\n",
    "l =[]\n",
    "\n",
    "for i in range(m):\n",
    "    a =[]\n",
    "    for k in range(n):\n",
    "        a.append(int(input()))\n",
    "    l.append(a)\n",
    "print(l)"
   ]
  },
  {
   "cell_type": "raw",
   "metadata": {},
   "source": [
    "Taking input where \n",
    "1.) m n\n",
    "2.) a b .. n times a b .. ntimes .... m times"
   ]
  },
  {
   "cell_type": "code",
   "execution_count": 3,
   "metadata": {},
   "outputs": [
    {
     "name": "stdout",
     "output_type": "stream",
     "text": [
      "3 4\n",
      "1 2 3 4 5 6 7 8 9 10 11 12\n",
      "[[1, 2, 3, 4], [5, 6, 7, 8], [9, 10, 11, 12]]\n"
     ]
    }
   ],
   "source": [
    "size = input().split()\n",
    "m = int(size[0])\n",
    "n = int(size[1])\n",
    "\n",
    "l = [int(i) for i in input().split()]\n",
    "\n",
    "a = []\n",
    "\n",
    "for i in range(m):\n",
    "    strt = n*i\n",
    "    end = n*(i + 1)\n",
    "    a.append(l[strt:end])\n",
    "print(a)\n",
    "    \n",
    "    "
   ]
  },
  {
   "cell_type": "markdown",
   "metadata": {},
   "source": [
    "## How slicing works in 2 D list\n"
   ]
  },
  {
   "cell_type": "code",
   "execution_count": 5,
   "metadata": {},
   "outputs": [
    {
     "name": "stdout",
     "output_type": "stream",
     "text": [
      "[[4, 5], [5, 3]]\n"
     ]
    }
   ],
   "source": [
    "a = [[1,2],[4,5],[5,3],[4,2]]\n",
    "print(a[1:3])"
   ]
  },
  {
   "cell_type": "markdown",
   "metadata": {},
   "source": [
    "## Creating 2 D list in the single command\n"
   ]
  },
  {
   "cell_type": "code",
   "execution_count": 20,
   "metadata": {},
   "outputs": [
    {
     "name": "stdout",
     "output_type": "stream",
     "text": [
      "[[1, 2], [1, 2], [1, 2], [1, 2], [1, 2]]\n"
     ]
    }
   ],
   "source": [
    "a = [[1,2] for i in range(5)]\n",
    "print(a)"
   ]
  },
  {
   "cell_type": "code",
   "execution_count": 15,
   "metadata": {},
   "outputs": [
    {
     "name": "stdout",
     "output_type": "stream",
     "text": [
      "[[0, 0, 0], [0, 0, 0], [0, 0, 0], [0, 0, 0], [0, 0, 0]]\n"
     ]
    }
   ],
   "source": [
    "a = [[0 for j in range(3)] for i in range(5)]\n",
    "print(a)"
   ]
  },
  {
   "cell_type": "code",
   "execution_count": 17,
   "metadata": {},
   "outputs": [
    {
     "name": "stdout",
     "output_type": "stream",
     "text": [
      "[[0, 1, 2], [0, 1, 2], [0, 1, 2], [0, 1, 2], [0, 1, 2]]\n"
     ]
    }
   ],
   "source": [
    "a = [[j for j in range(3)] for i in range(5)]\n",
    "print(a)"
   ]
  },
  {
   "cell_type": "raw",
   "metadata": {},
   "source": [
    "Return the sum of each column for the given 2 D list"
   ]
  },
  {
   "cell_type": "code",
   "execution_count": 21,
   "metadata": {},
   "outputs": [
    {
     "name": "stdout",
     "output_type": "stream",
     "text": [
      "4 2\n",
      "1 2 1 2 1 2 1 2\n",
      "4\n",
      "8\n"
     ]
    }
   ],
   "source": [
    "size = input().split()\n",
    "m = int(size[0])\n",
    "n = int(size[1])\n",
    "\n",
    "l = [int(i) for i in input().split()]\n",
    "a = []\n",
    "\n",
    "for k in range(m):\n",
    "    strt = n * k\n",
    "    end = n * (k + 1)\n",
    "    a.append(l[strt:end])\n",
    "\n",
    "if m == 0:\n",
    "    print(0)\n",
    "    exit()\n",
    "for i in range(n):\n",
    "    sum_i = 0\n",
    "    for j in range(m):\n",
    "        sum_i += a[j][i]\n",
    "    print(sum_i)\n",
    "\n",
    "\n",
    "    "
   ]
  },
  {
   "cell_type": "raw",
   "metadata": {},
   "source": [
    "points = [[1, 2], [3, 1.5], [0.5,7]]\n",
    "points.sort()\n",
    "print(points)\n",
    "\n",
    "what will be the output\n",
    "## Sort function by default sort the list by first column."
   ]
  },
  {
   "cell_type": "code",
   "execution_count": 23,
   "metadata": {},
   "outputs": [
    {
     "name": "stdout",
     "output_type": "stream",
     "text": [
      "2 3\n",
      "1 2 3 4 5 6\n",
      "[[1, 2, 3], [4, 5, 6]]\n"
     ]
    }
   ],
   "source": [
    "m, n=(int(i) for i in input().strip().split(' '))\n",
    "l=[int(i) for i in input().strip().split(' ')]\n",
    "arr = [ [ l[(j*n)+i] for i in range(n)] for j in range(m)]\n",
    "print(arr)"
   ]
  }
 ],
 "metadata": {
  "kernelspec": {
   "display_name": "Python 3",
   "language": "python",
   "name": "python3"
  },
  "language_info": {
   "codemirror_mode": {
    "name": "ipython",
    "version": 3
   },
   "file_extension": ".py",
   "mimetype": "text/x-python",
   "name": "python",
   "nbconvert_exporter": "python",
   "pygments_lexer": "ipython3",
   "version": "3.7.4"
  }
 },
 "nbformat": 4,
 "nbformat_minor": 2
}
