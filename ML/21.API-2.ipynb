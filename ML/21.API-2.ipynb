{
 "cells": [
  {
   "cell_type": "markdown",
   "metadata": {},
   "source": [
    "## HTTP authentication "
   ]
  },
  {
   "cell_type": "markdown",
   "metadata": {},
   "source": [
    "**This basically helps to identify the user of API**"
   ]
  },
  {
   "cell_type": "raw",
   "metadata": {},
   "source": [
    "import requests\n",
    "from requests.auth import HTTPBasicAuth \n",
    "requests.get('URL',auth=HTTPBasicAuth('userid','password'))\n",
    "   or\n",
    "requests.get('URL',auth=('userid','password'))"
   ]
  },
  {
   "cell_type": "code",
   "execution_count": 5,
   "metadata": {},
   "outputs": [
    {
     "name": "stdout",
     "output_type": "stream",
     "text": [
      "401\n",
      "https://api.github.com/user\n"
     ]
    }
   ],
   "source": [
    "import requests\n",
    "from requests.auth import HTTPBasicAuth \n",
    "a = requests.get('https://api.github.com/user',auth=HTTPBasicAuth('userid','password'))\n",
    "print(a.status_code)\n",
    "print(a.url)"
   ]
  },
  {
   "cell_type": "markdown",
   "metadata": {},
   "source": [
    "**If we open the URL we will get**"
   ]
  },
  {
   "cell_type": "raw",
   "metadata": {},
   "source": [
    "{\n",
    "  \"message\": \"Requires authentication\",\n",
    "  \"documentation_url\": \"https://developer.github.com/v3/users/#get-the-authenticated-user\"\n",
    "}"
   ]
  },
  {
   "cell_type": "markdown",
   "metadata": {},
   "source": [
    "**This means that authentication is mandatory**"
   ]
  },
  {
   "cell_type": "code",
   "execution_count": 7,
   "metadata": {},
   "outputs": [
    {
     "name": "stdout",
     "output_type": "stream",
     "text": [
      "200\n"
     ]
    }
   ],
   "source": [
    "a = requests.get('https://api.github.com/user',auth=('govatss@gmail.com','P@@s1234'))\n",
    "print(a.status_code)"
   ]
  },
  {
   "cell_type": "markdown",
   "metadata": {},
   "source": [
    "## Creating a new repo in git using the Api"
   ]
  },
  {
   "cell_type": "markdown",
   "metadata": {},
   "source": [
    "**First read the documentation from https://developer.github.com/v3/repos**"
   ]
  },
  {
   "cell_type": "markdown",
   "metadata": {},
   "source": [
    "**we will be using json.dumps() function to convert python datatype to json, which is opposite to json.loads() function which is used to convert json to python datatype**"
   ]
  },
  {
   "cell_type": "code",
   "execution_count": 10,
   "metadata": {},
   "outputs": [],
   "source": [
    "import json\n",
    "\n",
    "info = {'name':'new_repo','description':'Created via API Call','auto_init':'true'}\n",
    "\n",
    "a = requests.post('https://api.github.com/user/repos',auth = ('govatss@gmail.com','P@@s1234'),data = json.dumps(info))"
   ]
  },
  {
   "cell_type": "raw",
   "metadata": {},
   "source": [
    "Github License\n",
    "Send Feedback\n",
    "Fetch the license used in ‘google/go-cloud’ Github repository from Github API using basic auth i.e by passing username and password\n",
    "Print the license name.\n",
    "Note:Read the Github API documentation carefully.\n",
    "Output Format:\n",
    "license_name"
   ]
  },
  {
   "cell_type": "code",
   "execution_count": 15,
   "metadata": {},
   "outputs": [
    {
     "name": "stdout",
     "output_type": "stream",
     "text": [
      "200\n"
     ]
    }
   ],
   "source": [
    "a = requests.get('https://api.github.com/user',auth=('codingninjas123','cnninjas123'))\n",
    "print(a.status_code)\n"
   ]
  },
  {
   "cell_type": "markdown",
   "metadata": {},
   "source": [
    "## Coidng ninjas answer"
   ]
  },
  {
   "cell_type": "code",
   "execution_count": 21,
   "metadata": {},
   "outputs": [
    {
     "name": "stdout",
     "output_type": "stream",
     "text": [
      "Apache License 2.0\n"
     ]
    }
   ],
   "source": [
    "import requests\n",
    "username = 'codingninjas123'\n",
    "password = 'cnninjas123'\n",
    "a = requests.get('https://api.github.com/repos/google/go-cloud',auth=('codingninjas123','cnninjas123'))\n",
    "response = a.json()\n",
    "print(response['license']['name'])\n"
   ]
  },
  {
   "cell_type": "raw",
   "metadata": {},
   "source": [
    "All Topics\n",
    "Send Feedback\n",
    "Fetch the list of topics that are present in ‘google/clusterfuzz’ Github repository from Github API using basic auth i.e by passing username and password.\n",
    "Print the topic names\n",
    "Note:Read the Github API documentation carefully.\n",
    "Output Format:\n",
    "topic_name1\n",
    "topic_name2\n",
    ". . .\n",
    ". . .\n",
    ". . ."
   ]
  },
  {
   "cell_type": "code",
   "execution_count": 38,
   "metadata": {},
   "outputs": [
    {
     "name": "stdout",
     "output_type": "stream",
     "text": [
      "fuzzing\n",
      "security\n",
      "stability\n",
      "vulnerabilities\n"
     ]
    }
   ],
   "source": [
    "import requests\n",
    "header = {'Accept':\"application/vnd.github.mercy-preview+json\"}\n",
    "response = requests.get('https://api.github.com/repos/google/clusterfuzz/topics',auth=('govatss@gmail.com','P@@s1234'),headers=header)\n",
    "\n",
    "data = response.json()\n",
    "for i in data['names'] :\n",
    "    print(i)\n",
    "\n"
   ]
  },
  {
   "cell_type": "raw",
   "metadata": {},
   "source": [
    "Github Languages\n",
    "Send Feedback\n",
    "Fetch the list of languages used in ‘google/science-journal-ios’ Github repository from Github API using basic auth i.e by passing username and password.\n",
    "Print the language name.\n",
    "Note:Read the Github API documentation carefully.\n",
    "Output Format:\n",
    "language_name1\n",
    "language_name2\n",
    ". . .\n",
    ". . .\n",
    ". . ."
   ]
  },
  {
   "cell_type": "code",
   "execution_count": 41,
   "metadata": {},
   "outputs": [
    {
     "name": "stdout",
     "output_type": "stream",
     "text": [
      "Swift\n",
      "HTML\n",
      "Python\n",
      "Ruby\n",
      "Shell\n"
     ]
    }
   ],
   "source": [
    "import requests\n",
    "\n",
    "response = requests.get('https://api.github.com/repos/google/science-journal-ios/languages',auth=('codingninjas123','cnninjas123'))\n",
    "data = response.json()\n",
    "for i in data.keys():\n",
    "    print(i)"
   ]
  }
 ],
 "metadata": {
  "kernelspec": {
   "display_name": "Python 3",
   "language": "python",
   "name": "python3"
  },
  "language_info": {
   "codemirror_mode": {
    "name": "ipython",
    "version": 3
   },
   "file_extension": ".py",
   "mimetype": "text/x-python",
   "name": "python",
   "nbconvert_exporter": "python",
   "pygments_lexer": "ipython3",
   "version": "3.7.4"
  }
 },
 "nbformat": 4,
 "nbformat_minor": 2
}
