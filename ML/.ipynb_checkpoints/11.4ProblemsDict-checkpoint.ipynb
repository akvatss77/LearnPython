{
 "cells": [
  {
   "cell_type": "markdown",
   "metadata": {},
   "source": [
    "## Solving Assignment problems"
   ]
  },
  {
   "cell_type": "raw",
   "metadata": {},
   "source": [
    "First non repeating character\n",
    "Send Feedback\n",
    "In a given string, find the first non-repeating character .You are given a string, that can contain repeating characters. Your task is to return the first character in this string that does not repeat. i.e., occurs exactly once. The string will contain characters only from English alphabet set, i.e., ('A' - 'Z') and ('a' - 'z'). If there is no non-repeating character print the first character of string.\n",
    "Input Format :\n",
    "Line 1 : A String , as mentioned above.\n",
    "Output Format :\n",
    "First non-repeating character\n",
    "Sample Input 1 :\n",
    "aDcadhc\n",
    "Sample Output 1:\n",
    "D\n",
    "Sample Input 2 :\n",
    "gdhIgHada\n",
    "Sample Output 2 :\n",
    "h"
   ]
  },
  {
   "cell_type": "code",
   "execution_count": 3,
   "metadata": {},
   "outputs": [
    {
     "name": "stdout",
     "output_type": "stream",
     "text": [
      "ahjdh\n",
      "a\n"
     ]
    }
   ],
   "source": [
    "def nonRepeatingChar(string):\n",
    "    d={}\n",
    "    a= []\n",
    "    for s in string:\n",
    "        d[s] = d.get(s,0) + 1\n",
    "    for s in string:\n",
    "        if d[s] == 1:\n",
    "            return s\n",
    "   \n",
    "\n",
    "# Main\n",
    "string = input()\n",
    "print(nonRepeatingChar(string))"
   ]
  },
  {
   "cell_type": "code",
   "execution_count": 2,
   "metadata": {},
   "outputs": [
    {
     "ename": "ValueError",
     "evalue": "list.remove(x): x not in list",
     "output_type": "error",
     "traceback": [
      "\u001b[1;31m---------------------------------------------------------------------------\u001b[0m",
      "\u001b[1;31mValueError\u001b[0m                                Traceback (most recent call last)",
      "\u001b[1;32m<ipython-input-2-b837edfb456c>\u001b[0m in \u001b[0;36m<module>\u001b[1;34m\u001b[0m\n\u001b[0;32m      1\u001b[0m \u001b[0ma\u001b[0m \u001b[1;33m=\u001b[0m \u001b[1;33m[\u001b[0m\u001b[1;36m1\u001b[0m\u001b[1;33m,\u001b[0m\u001b[1;36m4\u001b[0m\u001b[1;33m,\u001b[0m\u001b[1;36m5\u001b[0m\u001b[1;33m,\u001b[0m\u001b[1;36m6\u001b[0m\u001b[1;33m]\u001b[0m\u001b[1;33m\u001b[0m\u001b[1;33m\u001b[0m\u001b[0m\n\u001b[0;32m      2\u001b[0m \u001b[0ma\u001b[0m\u001b[1;33m.\u001b[0m\u001b[0mremove\u001b[0m\u001b[1;33m(\u001b[0m\u001b[1;36m4\u001b[0m\u001b[1;33m)\u001b[0m\u001b[1;33m\u001b[0m\u001b[1;33m\u001b[0m\u001b[0m\n\u001b[1;32m----> 3\u001b[1;33m \u001b[0ma\u001b[0m\u001b[1;33m.\u001b[0m\u001b[0mremove\u001b[0m\u001b[1;33m(\u001b[0m\u001b[1;36m3\u001b[0m\u001b[1;33m)\u001b[0m\u001b[1;33m\u001b[0m\u001b[1;33m\u001b[0m\u001b[0m\n\u001b[0m",
      "\u001b[1;31mValueError\u001b[0m: list.remove(x): x not in list"
     ]
    }
   ],
   "source": [
    "a = [1,4,5,6]\n",
    "a.remove(4)\n",
    "a.remove(3)"
   ]
  },
  {
   "cell_type": "raw",
   "metadata": {},
   "source": [
    "Different Names\n",
    "Send Feedback\n",
    "In Little Flowers Public School, there are many students with same first names. You are given a task to find the students with same names. You will be given a string comprising of all the names of students and you have to tell the name and count of those students having same. If all the names are unique, print -1 instead.\n",
    "Note: We don't have to mention names whose frequency is 1.\n",
    "Input Format:\n",
    "The only line of input will have a string ‘str’ with space separated first names of students.\n",
    "Output Format:\n",
    "Print the names of students along with their count if they are repeating. If no name is repeating, print -1\n",
    "Constraints:\n",
    "1 <= |str| <= 10^5\n",
    "Time Limit: 1 second\n",
    "Sample Input 1:\n",
    "Abhishek harshit Ayush harshit Ayush Iti Deepak Ayush Iti\n",
    "Sample Output 1:\n",
    "harshit 2\n",
    "Ayush 3\n",
    "Iti 2\n",
    "Sample Input 2:\n",
    "Abhishek Harshit Ayush Iti\n",
    "Sample Output:\n",
    "-1"
   ]
  },
  {
   "cell_type": "code",
   "execution_count": 5,
   "metadata": {},
   "outputs": [
    {
     "name": "stdout",
     "output_type": "stream",
     "text": [
      "Abhishek Harshit Ayush Iti\n",
      "-1\n"
     ]
    }
   ],
   "source": [
    "def differentNames(l):\n",
    "    d = {}\n",
    "    a= {}\n",
    "    for s in l:\n",
    "        d[s] = d.get(s,0) + 1\n",
    "    for i in d:\n",
    "        if d[i] > 1:\n",
    "            a[i] = d[i]\n",
    "    return a\n",
    "        \n",
    "\n",
    "# Main\n",
    "names=input().strip().split()\n",
    "m=differentNames(names)\n",
    "if m:\n",
    "    for name in m:\n",
    "        print(name, m[name])\n",
    "else:\n",
    "    print(-1)\n"
   ]
  },
  {
   "cell_type": "raw",
   "metadata": {},
   "source": [
    "Even Count\n",
    "Send Feedback\n",
    "You are provided with an integer array where each number is present either odd number of times or even number of times. You have to find and return the number which is present even number of times.\n",
    "If multiple numbers are present even number of times, then return that number which occurs first among these numbers in the given array. If no such number exists, then return -1.\n",
    "Note : You may take extra space but solve this problem in O(n) time.\n",
    "Input Format:\n",
    "Line 1 : An Integer N i.e. size of array \n",
    "Line 2 : N integers which are elements of the array, separated by spaces\n",
    "Output Format:\n",
    "Array element occurring even no. of times\n",
    "Constraints :\n",
    "1 <= N <= 10^5\n",
    "Sample Input:\n",
    "6\n",
    "2 5 3 5 3 4 \n",
    "Sample Output:\n",
    "5"
   ]
  },
  {
   "cell_type": "code",
   "execution_count": 5,
   "metadata": {},
   "outputs": [
    {
     "name": "stdout",
     "output_type": "stream",
     "text": [
      "6\n",
      "2 5 3 5 3 4\n",
      "1\n",
      "2\n",
      "5\n"
     ]
    }
   ],
   "source": [
    "def evenCount(arr):\n",
    "    d = {}\n",
    "    for i in arr:\n",
    "        d[i] = d.get(i,0) + 1\n",
    "    for i in arr:\n",
    "        if d[i] % 2 == 0:\n",
    "            return i\n",
    "    return -1\n",
    "        \n",
    "\n",
    "# Main\n",
    "n=int(input())\n",
    "arr=list(int(i) for i in input().strip().split(' '))\n",
    "print(evenCount(arr))\n"
   ]
  },
  {
   "cell_type": "raw",
   "metadata": {},
   "source": [
    "Unique triangles\n",
    "Send Feedback\n",
    "You are given n triangles. You are required to find how many triangles are unique out of given triangles. For each triangle you are given three integers a, b and c (the sides of a triangle).\n",
    "A triangle is said to be unique if there is no other triangle with same set of sides.\n",
    "Note : It is always possible to form triangle with given sides.\n",
    "Input Constraints :\n",
    "Line 1 : Integer n, the number of triangles\n",
    "Next n lines : Three integers a,b,c (sides of a triangle).\n",
    "Output Format :\n",
    "print single integer, the number of unique triangles.\n",
    "Constraints :\n",
    "1 <= n <= 10^4\n",
    "1 <= a,b,c <= 10^15.\n",
    "Sample Input :\n",
    "5\n",
    "7 6 5\n",
    "5 7 6\n",
    "8 2 9\n",
    "2 3 4\n",
    "2 4 3\n",
    "Sample Output :\n",
    "1"
   ]
  },
  {
   "cell_type": "code",
   "execution_count": 7,
   "metadata": {},
   "outputs": [
    {
     "name": "stdout",
     "output_type": "stream",
     "text": [
      "5\n",
      "7 6 5\n",
      "5 7 6\n",
      "8 2 9\n",
      "2 3 4\n",
      "2 4 3\n",
      "1\n"
     ]
    }
   ],
   "source": [
    "n = int(input())\n",
    "d = {}\n",
    "for i in range(n):\n",
    "    k = [j for j in input().split()]\n",
    "    m = ','\n",
    "    k.sort()\n",
    "    m = m.join(k)\n",
    "    d[m] = d.get(m,0) + 1\n",
    "cnt = 0\n",
    "for i in d:\n",
    "    if d[i] == 1:\n",
    "        cnt += 1\n",
    "print(cnt)\n"
   ]
  },
  {
   "cell_type": "raw",
   "metadata": {},
   "source": [
    "Pairs with difference K\n",
    "Send Feedback\n",
    "You are given with an array of integers and an integer K. Write a program to find and print all pairs which have difference K.\n",
    "Best solution takes O(n) time. And take difference as absolute.\n",
    "Input Format :\n",
    "Line 1 : Integer n, Size of array\n",
    "Line 2 : Array elements (separated by space)\n",
    "Line 3 : K\n",
    "Output format :\n",
    "Print pairs in different lines (pair elements separated by space). In a pair, smaller element should be printed first.\n",
    "(Order of different pairs is not important)\n",
    "Constraints :\n",
    "1 <= n <= 5000\n",
    "Sample Input 1 :\n",
    "4 \n",
    "5 1 2 4\n",
    "3\n",
    "Sample Output 1 :\n",
    "2 5\n",
    "1 4\n",
    "Sample Input 2 :\n",
    "4\n",
    "4 4 4 4 \n",
    "0\n",
    "Sample Output 2 :\n",
    "4 4\n",
    "4 4\n",
    "4 4\n",
    "4 4\n",
    "4 4\n",
    "4 4"
   ]
  },
  {
   "cell_type": "code",
   "execution_count": 7,
   "metadata": {},
   "outputs": [
    {
     "name": "stdout",
     "output_type": "stream",
     "text": [
      "4\n",
      "4 4 4 4\n",
      "0\n",
      "4 4\n",
      "4 4\n",
      "4 4\n",
      "4 4\n",
      "4 4\n",
      "4 4\n"
     ]
    }
   ],
   "source": [
    "def fact(n):\n",
    "    if n == 1 or n == 0:\n",
    "        return 1\n",
    "    return n * fact(n-1)\n",
    "\n",
    "def nc2(n):\n",
    "    if (n == 1 or n == 0):\n",
    "        return 0\n",
    "    else:\n",
    "        return fact(n)//(fact(n-2) * fact(2))\n",
    "\n",
    "def printPairDiffK(l, k):\n",
    "    d ={}\n",
    "    for i in l:\n",
    "        d[i] = d.get(i,0) + 1\n",
    "    for i in l:\n",
    "        if k != 0:\n",
    "            sm = i-k\n",
    "            la = i + k\n",
    "            if sm in d:\n",
    "                for j in range(d[sm]*d[i]):\n",
    "                    print(sm,i)\n",
    "            if la in d:\n",
    "                for j in range(d[la]*d[i]):\n",
    "                    print(i,la)\n",
    "        else: \n",
    "            for j in range(nc2(d[i])):\n",
    "                print(i,i)\n",
    "        d[i] = 0\n",
    "            \n",
    "n=int(input())\n",
    "l=list(int(i) for i in input().strip().split(' '))\n",
    "k=int(input())\n",
    "printPairDiffK(l, k)"
   ]
  }
 ],
 "metadata": {
  "kernelspec": {
   "display_name": "Python 3",
   "language": "python",
   "name": "python3"
  },
  "language_info": {
   "codemirror_mode": {
    "name": "ipython",
    "version": 3
   },
   "file_extension": ".py",
   "mimetype": "text/x-python",
   "name": "python",
   "nbconvert_exporter": "python",
   "pygments_lexer": "ipython3",
   "version": "3.7.4"
  }
 },
 "nbformat": 4,
 "nbformat_minor": 2
}
