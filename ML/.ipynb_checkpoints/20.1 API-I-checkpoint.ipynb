{
 "cells": [
  {
   "cell_type": "raw",
   "metadata": {},
   "source": [
    "Content type\n",
    "Send Feedback\n",
    "Print the content-type received after making a get request to url = https://codingninjas.in/api/v3/events\n",
    "Note : content-type can be found in header information of response object."
   ]
  },
  {
   "cell_type": "code",
   "execution_count": 3,
   "metadata": {
    "scrolled": true
   },
   "outputs": [
    {
     "name": "stdout",
     "output_type": "stream",
     "text": [
      "application/json\n"
     ]
    }
   ],
   "source": [
    "import requests\n",
    "\n",
    "response = requests.get('https://codingninjas.in/api/v3/events')\n",
    "out = response.headers\n",
    "print(out['Content-Type'])"
   ]
  },
  {
   "cell_type": "raw",
   "metadata": {},
   "source": [
    "Hound sub-breeds\n",
    "Send Feedback\n",
    "Print all sub-breeds of hound by making a get request to given URL.\n",
    "URL : https://dog.ceo/api/breeds/list/all\n",
    "Print name of sub-breeds in different lines.\n"
   ]
  },
  {
   "cell_type": "code",
   "execution_count": 13,
   "metadata": {},
   "outputs": [
    {
     "name": "stdout",
     "output_type": "stream",
     "text": [
      "afghan\n",
      "basset\n",
      "blood\n",
      "english\n",
      "ibizan\n",
      "plott\n",
      "walker\n"
     ]
    }
   ],
   "source": [
    "import requests\n",
    "import json\n",
    "\n",
    "data = requests.get('https://dog.ceo/api/breeds/list/all')\n",
    "data_py =json.loads(data.text)\n",
    "for i in data_py['message']['hound']:\n",
    "    print(i)\n"
   ]
  },
  {
   "cell_type": "raw",
   "metadata": {},
   "source": [
    "Planets\n",
    "Send Feedback\n",
    "Print name of all the planets from this URL : https://swapi.co/api/planets/.\n",
    "You can check the documentation here : https://swapi.co/documentation.\n",
    "Note : Print names from page 1 only, which is default. You don't need to send any extra parameter.\n"
   ]
  },
  {
   "cell_type": "code",
   "execution_count": 21,
   "metadata": {},
   "outputs": [
    {
     "name": "stdout",
     "output_type": "stream",
     "text": [
      "Alderaan\n",
      "Yavin IV\n",
      "Hoth\n",
      "Dagobah\n",
      "Bespin\n",
      "Endor\n",
      "Naboo\n",
      "Coruscant\n",
      "Kamino\n",
      "Geonosis\n"
     ]
    }
   ],
   "source": [
    "import requests\n",
    "import json\n",
    "\n",
    "response = requests.get('https://swapi.co/api/planets/')\n",
    "data = json.loads(response.text)\n",
    "data = data['results']\n",
    "for i in data:\n",
    "    print(i['name'])\n"
   ]
  },
  {
   "cell_type": "raw",
   "metadata": {},
   "source": [
    "CN Online Courses\n",
    "Send Feedback\n",
    "Print name of all online courses offered by Coding Ninjas. You can fetch the data using their open API :\n",
    "https://codingninjas.in/api/v3/courses."
   ]
  },
  {
   "cell_type": "code",
   "execution_count": 28,
   "metadata": {},
   "outputs": [
    {
     "name": "stdout",
     "output_type": "stream",
     "text": [
      "Ninja Competitive Programmer Track\n",
      "Competitive Programming Course\n",
      "Aptitude Preparation Course\n",
      "Python Foundation with Data Structures\n",
      "JAVA Foundation with Data Structures\n",
      "Full Stack Web Development with Node.js\n",
      "C++ Foundation with Data Structures\n",
      "Ninja Machine Learning Engineer Career Track\n",
      "Data Science & Machine Learning Complete\n",
      "Machine Learning Course\n",
      "Interview Preparation Course\n",
      "Ninja Data Scientist Career Track\n",
      "Ninja Web Developer Career Track\n"
     ]
    }
   ],
   "source": [
    "import requests\n",
    "\n",
    "response = requests.get('https://codingninjas.in/api/v3/courses')\n",
    "data = response.json()\n",
    "course_data = data['data']['courses']\n",
    "for i in course_data:\n",
    "    if i['available_online']:\n",
    "        print(i['name'])\n"
   ]
  },
  {
   "cell_type": "raw",
   "metadata": {},
   "source": [
    "Workshop Events\n",
    "Send Feedback\n",
    "Print name of all the Coding Ninjas events (given in past registered events) which have word “Workshop” in their name.\n",
    "Data can be fetched from this URL : https://codingninjas.in/api/v3/events"
   ]
  },
  {
   "cell_type": "code",
   "execution_count": 31,
   "metadata": {},
   "outputs": [
    {
     "name": "stdout",
     "output_type": "stream",
     "text": [
      "Workshop on Data Structures and Algorithms with Interview Preparation Tips at VIT Vellore\n",
      "Workshop at Panjab University by Navdeep Sandhu\n",
      "Workshop on Competitive Programming at Thapar Institute of Engineering & Technology, Patiala\n"
     ]
    }
   ],
   "source": [
    "import requests\n",
    "import json\n",
    "\n",
    "response = requests.get('https://codingninjas.in/api/v3/events')\n",
    "data = json.loads(response.text)\n",
    "events = data['data']['latest_events']\n",
    "for i in events:\n",
    "    if 'Workshop' in i['name']:\n",
    "        print(i['name'])"
   ]
  },
  {
   "cell_type": "raw",
   "metadata": {},
   "source": [
    "Page 2 Planets\n",
    "Send Feedback\n",
    "Print name of all the planets from page 2.\n",
    "URL : https://swapi.co/api/planets/.\n",
    "You can get the result by passing a parameter “page” to the get request.\n",
    "You can check the documentation here : https://swapi.co/documentation."
   ]
  },
  {
   "cell_type": "code",
   "execution_count": 39,
   "metadata": {},
   "outputs": [
    {
     "name": "stdout",
     "output_type": "stream",
     "text": [
      "Utapau\n",
      "Mustafar\n",
      "Kashyyyk\n",
      "Polis Massa\n",
      "Mygeeto\n",
      "Felucia\n",
      "Cato Neimoidia\n",
      "Saleucami\n",
      "Stewjon\n",
      "Eriadu\n"
     ]
    }
   ],
   "source": [
    "import requests\n",
    "\n",
    "response = requests.get('https://swapi.co/api/planets/',params = {'page': 2})\n",
    "data = response.json()\n",
    "planets = data['results']\n",
    "for i in planets :\n",
    "    print(i['name'])"
   ]
  },
  {
   "cell_type": "raw",
   "metadata": {},
   "source": [
    "Planet with \"and\"\n",
    "Send Feedback\n",
    "Print name of all the planets from this URL : https://swapi.co/api/planets/ which have \"and\" in their name\n",
    "You can check the documentation here : https://swapi.co/documentation.\n",
    "You can filter the result by passing a parameter “search” to the get request and it should search all the pages."
   ]
  },
  {
   "cell_type": "code",
   "execution_count": 43,
   "metadata": {},
   "outputs": [
    {
     "name": "stdout",
     "output_type": "stream",
     "text": [
      "Trandosha\n",
      "Chandrila\n"
     ]
    }
   ],
   "source": [
    "import requests\n",
    "import json\n",
    "\n",
    "response = requests.get('https://swapi.co/api/planets/',params = {'search' : 'and'})\n",
    "data = json.loads(response.text)\n",
    "planets = data['results']\n",
    "\n",
    "for i in planets:\n",
    "    print(i['name'])"
   ]
  },
  {
   "cell_type": "raw",
   "metadata": {},
   "source": [
    "Cities from BE\n",
    "Send Feedback\n",
    "Print first 5 cities from country “BE”. Fetch the result from given URL.\n",
    "Order the results by city.\n",
    "URL - https://api.openaq.org/v1/cities\n",
    "Documentation - https://docs.openaq.org/"
   ]
  },
  {
   "cell_type": "code",
   "execution_count": 49,
   "metadata": {},
   "outputs": [
    {
     "name": "stdout",
     "output_type": "stream",
     "text": [
      "Antwerpen\n",
      "Brabant wallon\n",
      "Brussels\n",
      "Brussels-Capital Region\n",
      "Flanders\n"
     ]
    }
   ],
   "source": [
    "import requests\n",
    "\n",
    "response = requests.get('https://api.openaq.org/v1/cities',params = {\"country\":'BE',\"order_by\":'city'})\n",
    "data = response.json()\n",
    "city = data['results'][:5]\n",
    "for i in city:\n",
    "    print(i['city'])"
   ]
  },
  {
   "cell_type": "raw",
   "metadata": {},
   "source": [
    "USA WOEID\n",
    "Send Feedback\n",
    "Make an API call to - https://www.metaweather.com/api/location/search/\n",
    "Search for \"USA\" and print its woeid.\n",
    "Documentation: https://www.metaweather.com/api/"
   ]
  },
  {
   "cell_type": "code",
   "execution_count": 57,
   "metadata": {},
   "outputs": [
    {
     "name": "stdout",
     "output_type": "stream",
     "text": [
      "1132447\n"
     ]
    }
   ],
   "source": [
    "import requests\n",
    "import json\n",
    "\n",
    "response = requests.get('https://www.metaweather.com/api/location/search/',params = {'query':'USA'})\n",
    "data = json.loads(response.text)\n",
    "print(data[0]['woeid'])"
   ]
  },
  {
   "cell_type": "raw",
   "metadata": {},
   "source": [
    "Holiday\n",
    "Send Feedback\n",
    "Find name of holiday on 2nd October 2019 in country India.\n",
    "You can read the documentation here : https://holidayapi.com/\n",
    "\n",
    "dea01af5-4f49-4196-868f-0b55db1d45a4"
   ]
  },
  {
   "cell_type": "code",
   "execution_count": 67,
   "metadata": {},
   "outputs": [
    {
     "name": "stdout",
     "output_type": "stream",
     "text": [
      "Mahatma Gandhi Jayanti\n"
     ]
    }
   ],
   "source": [
    "import requests\n",
    "\n",
    "response = requests.get('https://holidayapi.com/v1/holidays',params = {'key':'dea01af5-4f49-4196-868f-0b55db1d45a4','country':'IN','year':'2019','month':10,'day':2})\n",
    "data = response.json()\n",
    "print(data['holidays'][0]['name'])"
   ]
  }
 ],
 "metadata": {
  "kernelspec": {
   "display_name": "Python 3",
   "language": "python",
   "name": "python3"
  },
  "language_info": {
   "codemirror_mode": {
    "name": "ipython",
    "version": 3
   },
   "file_extension": ".py",
   "mimetype": "text/x-python",
   "name": "python",
   "nbconvert_exporter": "python",
   "pygments_lexer": "ipython3",
   "version": "3.7.4"
  }
 },
 "nbformat": 4,
 "nbformat_minor": 2
}
