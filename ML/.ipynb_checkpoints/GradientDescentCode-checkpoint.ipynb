{
 "cells": [
  {
   "cell_type": "code",
   "execution_count": 14,
   "metadata": {},
   "outputs": [],
   "source": [
    "import numpy as np\n",
    "import pandas as pd\n",
    "\n",
    "from sklearn import datasets\n",
    "\n",
    "boston = datasets.load_boston()\n",
    "\n",
    "X = boston.data\n",
    "Y = boston.target\n",
    "features = boston.feature_names"
   ]
  },
  {
   "cell_type": "code",
   "execution_count": 16,
   "metadata": {},
   "outputs": [
    {
     "data": {
      "text/plain": [
       "(506, 14)"
      ]
     },
     "execution_count": 16,
     "metadata": {},
     "output_type": "execute_result"
    }
   ],
   "source": [
    "col_tobe_added = np.zeros(len(X))\n",
    "col_tobe_added =  col_tobe_added +1\n",
    "X = np.column_stack((X, col_tobe_added))\n",
    "X.shape"
   ]
  },
  {
   "cell_type": "code",
   "execution_count": 19,
   "metadata": {},
   "outputs": [
    {
     "data": {
      "text/plain": [
       "26"
      ]
     },
     "execution_count": 19,
     "metadata": {},
     "output_type": "execute_result"
    }
   ],
   "source": [
    "a = np.array([1,2,3,4])\n",
    "b = np.array([1,2,3,3])\n",
    "c = a * b\n",
    "c.sum()"
   ]
  },
  {
   "cell_type": "code",
   "execution_count": 77,
   "metadata": {},
   "outputs": [],
   "source": [
    "def cost(X,Y,m):\n",
    "    total_cost = 0\n",
    "    for i in range(len(X)):\n",
    "        x_row = X[i,]\n",
    "        y = Y[i]\n",
    "        total_cost += (1/len(X))*(y - (m*x_row).sum())** 2\n",
    "    return total_cost\n",
    "            \n",
    "        \n",
    "\n",
    "def step_gradient(X,Y,learning_rate,m):\n",
    "    m_slope = np.zeros(len(m))\n",
    "    N = len(X)\n",
    "    for i in range(N):\n",
    "        x_row = X[i,]\n",
    "        y = Y[i]\n",
    "        for j in range(len(m)):\n",
    "            m_slope[j] += (-2/N)* (y - (m * x_row).sum())* x_row[j]\n",
    "    for k in range(len(m)):\n",
    "        m[k] = m[k] - learning_rate * m_slope[k]\n",
    "    return m\n",
    "\n",
    "def gd(X,Y,iteration,learning_rate):\n",
    "    m = np.zeros(14)\n",
    "    for i in range(iteration):\n",
    "        m = step_gradient(X,Y,learning_rate,m)\n",
    "        print(i,\"cost :\",cost(X,Y,m))\n",
    "    return m\n",
    "\n",
    "def run():\n",
    "    iteration = 50\n",
    "    learning_rate = 0.000001\n",
    "    m = gd(X,Y,iteration,learning_rate)\n",
    "    print(m)\n"
   ]
  },
  {
   "cell_type": "code",
   "execution_count": 78,
   "metadata": {},
   "outputs": [
    {
     "name": "stdout",
     "output_type": "stream",
     "text": [
      "0 cost : 196.24639610240789\n",
      "1 cost : 136.88296510631162\n",
      "2 cost : 124.9488279368228\n",
      "3 cost : 119.97921125086255\n",
      "4 cost : 116.28477969340635\n",
      "5 cost : 113.0422793355326\n",
      "6 cost : 110.11150159199308\n",
      "7 cost : 107.45005961980989\n",
      "8 cost : 105.03133490557552\n",
      "9 cost : 102.83281080023603\n",
      "10 cost : 100.83426711420137\n",
      "11 cost : 99.01736970570545\n",
      "12 cost : 97.36546963403514\n",
      "13 cost : 95.86344477007772\n",
      "14 cost : 94.49755928899728\n",
      "15 cost : 93.25533651329583\n",
      "16 cost : 92.12544347793376\n",
      "17 cost : 91.09758608639743\n",
      "18 cost : 90.16241387894318\n",
      "19 cost : 89.31143353077883\n",
      "20 cost : 88.53693027976547\n",
      "21 cost : 87.8318965567323\n",
      "22 cost : 87.18996715814743\n",
      "23 cost : 86.6053603614152\n",
      "24 cost : 86.07282443804945\n",
      "25 cost : 85.58758906990603\n",
      "26 cost : 85.14532121901951\n",
      "27 cost : 84.7420850427869\n",
      "28 cost : 84.37430548366895\n",
      "29 cost : 84.03873519657063\n",
      "30 cost : 83.73242450794059\n",
      "31 cost : 83.45269412867545\n",
      "32 cost : 83.19711036839428\n",
      "33 cost : 82.96346262178312\n",
      "34 cost : 82.74974291873366\n",
      "35 cost : 82.55412734909179\n",
      "36 cost : 82.37495919017177\n",
      "37 cost : 82.21073358094667\n",
      "38 cost : 82.06008360113388\n",
      "39 cost : 81.9217676263902\n",
      "40 cost : 81.79465784263789\n",
      "41 cost : 81.677729813266\n",
      "42 cost : 81.57005300269049\n",
      "43 cost : 81.47078216860682\n",
      "44 cost : 81.37914954330061\n",
      "45 cost : 81.2944577316882\n",
      "46 cost : 81.21607326038188\n",
      "47 cost : 81.14342071810275\n",
      "48 cost : 81.07597743323544\n",
      "49 cost : 81.01326863928057\n",
      "[-1.87115118e-03  9.01220381e-03 -8.92497963e-04  4.90578112e-05\n",
      "  5.65559423e-05  1.53364533e-03  2.98741959e-03  1.06583412e-03\n",
      " -1.07105208e-03  1.82357233e-03  2.19566708e-03  5.80886512e-02\n",
      " -2.17989416e-03  1.73529211e-04]\n"
     ]
    }
   ],
   "source": [
    "run()"
   ]
  }
 ],
 "metadata": {
  "kernelspec": {
   "display_name": "Python 3",
   "language": "python",
   "name": "python3"
  },
  "language_info": {
   "codemirror_mode": {
    "name": "ipython",
    "version": 3
   },
   "file_extension": ".py",
   "mimetype": "text/x-python",
   "name": "python",
   "nbconvert_exporter": "python",
   "pygments_lexer": "ipython3",
   "version": "3.7.4"
  }
 },
 "nbformat": 4,
 "nbformat_minor": 2
}
