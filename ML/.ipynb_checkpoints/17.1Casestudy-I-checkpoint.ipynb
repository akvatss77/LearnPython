{
 "cells": [
  {
   "cell_type": "raw",
   "metadata": {},
   "source": [
    "Number of Fundings\n",
    "Send Feedback\n",
    "Given File 'startup_funding.csv'\n",
    "Problem Statement :\n",
    "Check the trend of investments over the years. To check the trend, find -\n",
    "Total number of fundings done in each year.\n",
    "Plot a line graph between year and number of fundings. Take year on x-axis and number of fundings on y-axis.\n",
    "Print year-wise total number of fundings also. Print years in ascending order.\n",
    "Note :\n",
    "There is some error in the 'Date' feature. Make sure to handle that.\n",
    "Output Format :\n",
    "year1 TotalFunding1\n",
    "year2 TotalFunding2\n",
    ". . . "
   ]
  },
  {
   "cell_type": "code",
   "execution_count": 33,
   "metadata": {},
   "outputs": [
    {
     "name": "stdout",
     "output_type": "stream",
     "text": [
      "2015 936\n",
      "2016 993\n",
      "2017 443\n"
     ]
    },
    {
     "data": {
      "image/png": "[encoded data removed]",
      "text/plain": [
       "<Figure size 432x288 with 1 Axes>"
      ]
     },
     "metadata": {
      "needs_background": "light"
     },
     "output_type": "display_data"
    }
   ],
   "source": [
    "b\n"
   ]
  },
  {
   "cell_type": "raw",
   "metadata": {},
   "source": [
    "Top Indian Cities\n",
    "Send Feedback\n",
    "Given File 'startup_funding.csv'\n",
    "Problem Statement :\n",
    "Find out which cities are generally chosen for starting a startup.\n",
    "Find top 10 Indian cities which have most number of startups ?\n",
    "Plot a pie chart and visualise it.\n",
    "Print the city name and number of startups in that city also.\n",
    "Note :\n",
    "Take city name \"Delhi\" as \"New Delhi\".\n",
    "Check the case-sensitiveness of cities also. That means - at some place, instead of \"Bangalore\", \"bangalore\" is given. Take city name as \"Bangalore\".\n",
    "For few startups multiple locations are given, one Indian and one Foreign. Count those startups in Indian startup also. Indian city name is first.\n",
    "Print the city in descending order with respect to the number of startups.\n",
    "Output Format :\n",
    "city1 number1\n",
    "city2 number2\n",
    ". . . "
   ]
  },
  {
   "cell_type": "code",
   "execution_count": 67,
   "metadata": {},
   "outputs": [
    {
     "data": {
      "image/png": "[encoded data removed]",
      "text/plain": [
       "<Figure size 432x288 with 1 Axes>"
      ]
     },
     "metadata": {},
     "output_type": "display_data"
    },
    {
     "name": "stdout",
     "output_type": "stream",
     "text": [
      "Bangalore 635\n",
      "Mumbai 449\n",
      "New Delhi 389\n",
      "Gurgaon 241\n",
      "Pune 91\n",
      "Noida 79\n",
      "Hyderabad 77\n",
      "Chennai 67\n",
      "Ahmedabad 35\n",
      "Jaipur 25\n"
     ]
    },
    {
     "data": {
      "text/html": [
       "<div>\n",
       "<style scoped>\n",
       "    .dataframe tbody tr th:only-of-type {\n",
       "        vertical-align: middle;\n",
       "    }\n",
       "\n",
       "    .dataframe tbody tr th {\n",
       "        vertical-align: top;\n",
       "    }\n",
       "\n",
       "    .dataframe thead th {\n",
       "        text-align: right;\n",
       "    }\n",
       "</style>\n",
       "<table border=\"1\" class=\"dataframe\">\n",
       "  <thead>\n",
       "    <tr style=\"text-align: right;\">\n",
       "      <th></th>\n",
       "      <th>SNo</th>\n",
       "      <th>Date</th>\n",
       "      <th>StartupName</th>\n",
       "      <th>IndustryVertical</th>\n",
       "      <th>SubVertical</th>\n",
       "      <th>CityLocation</th>\n",
       "      <th>InvestorsName</th>\n",
       "      <th>InvestmentType</th>\n",
       "      <th>AmountInUSD</th>\n",
       "      <th>Remarks</th>\n",
       "      <th>City</th>\n",
       "    </tr>\n",
       "  </thead>\n",
       "  <tbody>\n",
       "    <tr>\n",
       "      <td>940</td>\n",
       "      <td>940</td>\n",
       "      <td>16/06/2016</td>\n",
       "      <td>Saavn</td>\n",
       "      <td>Consumer Internet</td>\n",
       "      <td>Web/Mobile Music Streaming service</td>\n",
       "      <td>USA</td>\n",
       "      <td>Guy Oseary</td>\n",
       "      <td>Private Equity</td>\n",
       "      <td>NaN</td>\n",
       "      <td>NaN</td>\n",
       "      <td>Usa</td>\n",
       "    </tr>\n",
       "    <tr>\n",
       "      <td>1534</td>\n",
       "      <td>1534</td>\n",
       "      <td>03/11/2015</td>\n",
       "      <td>Bidgely</td>\n",
       "      <td>Efficient Energy Management platform</td>\n",
       "      <td>NaN</td>\n",
       "      <td>USA/India</td>\n",
       "      <td>Constellation Technology Ventures (Exelon Corp...</td>\n",
       "      <td>Private Equity</td>\n",
       "      <td>16,600,000</td>\n",
       "      <td>Series B</td>\n",
       "      <td>Usa</td>\n",
       "    </tr>\n",
       "  </tbody>\n",
       "</table>\n",
       "</div>"
      ],
      "text/plain": [
       "       SNo        Date StartupName                      IndustryVertical  \\\n",
       "940    940  16/06/2016       Saavn                     Consumer Internet   \n",
       "1534  1534  03/11/2015     Bidgely  Efficient Energy Management platform   \n",
       "\n",
       "                             SubVertical CityLocation  \\\n",
       "940   Web/Mobile Music Streaming service          USA   \n",
       "1534                                 NaN    USA/India   \n",
       "\n",
       "                                          InvestorsName  InvestmentType  \\\n",
       "940                                          Guy Oseary  Private Equity   \n",
       "1534  Constellation Technology Ventures (Exelon Corp...  Private Equity   \n",
       "\n",
       "     AmountInUSD   Remarks City  \n",
       "940          NaN       NaN  Usa  \n",
       "1534  16,600,000  Series B  Usa  "
      ]
     },
     "execution_count": 67,
     "metadata": {},
     "output_type": "execute_result"
    }
   ],
   "source": [
    "import pandas as pd\n",
    "import matplotlib.pyplot as plt\n",
    "del(df)\n",
    "del(freq)\n",
    "df = pd.read_csv('Dataset/startup_funding.csv')\n",
    "\n",
    "df[\"City\"] = df.CityLocation.str.split(\"/\",expand = True)[0]\n",
    "df[\"City\"] = df.City.str.capitalize()\n",
    "df[\"City\"] = df.City.str.strip()\n",
    "df[df.City == \"Delhi\"] = \"New delhi\"\n",
    "df[df.City == \"New delhi\"] = \"New Delhi\"\n",
    "freq = df.City.value_counts()\n",
    "freq = freq.sort_values(ascending = False)\n",
    "k = freq[:10]\n",
    "plt.pie(k)\n",
    "plt.axis(\"equal\")\n",
    "plt.show()\n",
    "#city = freq.index\n",
    "city = k.index\n",
    "\n",
    "for i in range(len(city)):\n",
    "    print(city[i],k[i])\n",
    "\n",
    "#df[df[\"City\"] == \"Usa\"]\n"
   ]
  },
  {
   "cell_type": "raw",
   "metadata": {},
   "source": [
    "Funding amount\n",
    "Send Feedback\n",
    "Given File 'startup_funding.csv'\n",
    "Problem Statement :\n",
    "Find out if cities play any role in receiving funding.\n",
    "Find top 10 Indian cities with most amount of fundings received. Find out percentage of funding each city has got (among top 10 Indian cities only).\n",
    "Print the city and percentage with 2 decimal place after rounding off.\n",
    "Note:\n",
    "Take city name \"Delhi\" as \"New Delhi\".\n",
    "Check the case-sensitiveness of cities also. That means - at some place, instead of \"Bangalore\", \"bangalore\" is given. Take city name as \"Bangalore\".\n",
    "For few startups multiple locations are given, one Indian and one Foreign. Count those startups in Indian startup also. Indian city name is first.\n",
    "Print the city in descending order with respect to the percentage of funding.\n",
    "Output Format :\n",
    "city1 percent1\n",
    "city2 percent2\n",
    "city3 percent3\n",
    ". . . \n",
    ". . .\n",
    ". . ."
   ]
  },
  {
   "cell_type": "markdown",
   "metadata": {},
   "source": [
    "## Solution by coding ninjas"
   ]
  },
  {
   "cell_type": "code",
   "execution_count": 69,
   "metadata": {},
   "outputs": [
    {
     "name": "stdout",
     "output_type": "stream",
     "text": [
      "Bangalore 635\n",
      "Mumbai 449\n",
      "New Delhi 389\n",
      "Gurgaon 241\n",
      "Pune 91\n",
      "Noida 79\n",
      "Hyderabad 77\n",
      "Chennai 67\n",
      "Ahmedabad 35\n",
      "Jaipur 25\n"
     ]
    }
   ],
   "source": [
    "import pandas as pd\n",
    "import matplotlib.pyplot as plt\n",
    "\n",
    "df_start = pd.read_csv('Dataset/startup_funding.csv',encoding = 'utf-8')\n",
    "df_start['CityLocation'].dropna(inplace=True)\n",
    "\n",
    "def separateCity(city):\n",
    "    return city.split('/')[0].strip()\n",
    "\n",
    "df_start['CityLocation'] = df_start['CityLocation'].apply(separateCity)\n",
    "df_start['CityLocation'].replace(\"Delhi\",\"New Delhi\",inplace = True)\n",
    "df_start['CityLocation'].replace(\"bangalore\",\"Bangalore\",inplace = True)\n",
    "\n",
    "city_number = df_start['CityLocation'].value_counts()[0:10]\n",
    "\n",
    "city = city_number.index\n",
    "\n",
    "numCity = city_number.values\n",
    "for i in range(len(city)):\n",
    "        print(city[i],numCity[i])"
   ]
  },
  {
   "cell_type": "raw",
   "metadata": {},
   "source": [
    "Funding amount\n",
    "Send Feedback\n",
    "Given File 'startup_funding.csv'\n",
    "Problem Statement :\n",
    "Find out if cities play any role in receiving funding.\n",
    "Find top 10 Indian cities with most amount of fundings received. Find out percentage of funding each city has got (among top 10 Indian cities only).\n",
    "Print the city and percentage with 2 decimal place after rounding off.\n",
    "Note:\n",
    "Take city name \"Delhi\" as \"New Delhi\".\n",
    "Check the case-sensitiveness of cities also. That means - at some place, instead of \"Bangalore\", \"bangalore\" is given. Take city name as \"Bangalore\".\n",
    "For few startups multiple locations are given, one Indian and one Foreign. Count those startups in Indian startup also. Indian city name is first.\n",
    "Print the city in descending order with respect to the percentage of funding.\n",
    "Output Format :\n",
    "city1 percent1\n",
    "city2 percent2\n",
    "city3 percent3\n",
    ". . . \n",
    ". . .\n",
    ". . ."
   ]
  },
  {
   "cell_type": "code",
   "execution_count": 1,
   "metadata": {},
   "outputs": [
    {
     "name": "stdout",
     "output_type": "stream",
     "text": [
      "Bangalore 49.71\n",
      "New Delhi 16.63\n",
      "Mumbai 13.90\n",
      "Gurgaon 12.21\n",
      "Chennai 2.43\n",
      "Pune 2.16\n",
      "Hyderabad 1.15\n",
      "Noida 1.01\n",
      "Ahmedabad 0.58\n",
      "Jaipur 0.21\n"
     ]
    }
   ],
   "source": [
    "import pandas as pd\n",
    "import matplotlib.pyplot as plt\n",
    "import numpy as np\n",
    "\n",
    "df = pd.read_csv('Dataset/startup_funding.csv',encoding='utf-8')\n",
    "\n",
    "df['AmountInUSD'].fillna(0,inplace=True)\n",
    "\n",
    "df['CityLocation'].fillna('dummy',inplace=True)\n",
    "df['CityLocation'] = df.CityLocation.str.split('/',expand = True)[0]\n",
    "df['CityLocation'] = df.CityLocation.str.strip()\n",
    "df['CityLocation'].replace('Delhi','New Delhi',inplace = True)\n",
    "df['CityLocation'].replace('bangalore','Bangalore',inplace = True)\n",
    "\n",
    "city = np.array(df['CityLocation'])\n",
    "funding= np.array(df['AmountInUSD'])\n",
    "\n",
    "for i in range(len(funding)):\n",
    "    k = str(funding[i])\n",
    "    k = k.replace(',','')\n",
    "    funding[i] = int(k)\n",
    "\n",
    "out = {}\n",
    "for i in range(len(funding)):\n",
    "    out[city[i]] = out.get(city[i],0) + funding[i]\n",
    "del(out[\"dummy\"])\n",
    "result = sorted(out.items() , reverse=True, key=lambda x: x[1])\n",
    "result = result[:10]\n",
    "\n",
    "sum_r = 0\n",
    "for elem in result :\n",
    "    sum_r += int(elem[1])\n",
    "\n",
    "for elem in result :\n",
    "    perc = (elem[1]/sum_r) * 100\n",
    "    perc = format(perc,'.2f')\n",
    "    print(elem[0],perc )    \n",
    "\n",
    "\n",
    "\n",
    "\n"
   ]
  },
  {
   "cell_type": "markdown",
   "metadata": {},
   "source": [
    "## Code ninja answer"
   ]
  },
  {
   "cell_type": "code",
   "execution_count": 4,
   "metadata": {},
   "outputs": [
    {
     "name": "stdout",
     "output_type": "stream",
     "text": [
      "Bangalore 49.71\n",
      "New Delhi 16.63\n",
      "Mumbai 13.90\n",
      "Gurgaon 12.21\n",
      "Chennai 2.43\n",
      "Pune 2.16\n",
      "Hyderabad 1.15\n",
      "Noida 1.01\n",
      "Ahmedabad 0.58\n",
      "Jaipur 0.21\n"
     ]
    }
   ],
   "source": [
    "import pandas as pd\n",
    "import numpy as np\n",
    "\n",
    "df = pd.read_csv('Dataset/startup_funding.csv',encoding='utf-8')\n",
    "df['CityLocation'].dropna(inplace=True)\n",
    "\n",
    "def separateCity(city):\n",
    "    return city.split('/')[0].strip()\n",
    "\n",
    "df['CityLocation'] = df['CityLocation'].apply(separateCity)\n",
    "df['CityLocation'].replace('Delhi','New Delhi',inplace=True)\n",
    "df['CityLocation'].replace('bangalore','Bangalore',inplace=True)\n",
    "\n",
    "df['AmountInUSD']= df['AmountInUSD'].apply(lambda x:float(str(x).replace(',','')))\n",
    "df['AmountInUSD']=pd.to_numeric(df['AmountInUSD'])\n",
    "\n",
    "city_amount = df.groupby('CityLocation')['AmountInUSD'].sum().sort_values(ascending=False)[0:10]\n",
    "\n",
    "city = city_amount.index\n",
    "amountCity = city_amount.values\n",
    "\n",
    "perAmount = np.true_divide(amountCity,amountCity.sum())*100\n",
    "\n",
    "for i in range(len(city)):\n",
    "    print(city[i],format(perAmount[i],'.2f'))\n",
    "    "
   ]
  },
  {
   "cell_type": "raw",
   "metadata": {},
   "source": [
    "Investment Type\n",
    "Send Feedback\n",
    "Given File 'startup_funding.csv'\n",
    "Problem Statement :\n",
    "There are 4 different type of investments. Find out percentage of amount funded for each investment type.\n",
    "Plot a pie chart to visualise.\n",
    "Print the investment type and percentage of amount funded with 2 decimal places after rounding off.\n",
    "Note :\n",
    "Correct spelling of investment types are - \"Private Equity\", \"Seed Funding\", \"Debt Funding\", and \"Crowd Funding\". Keep an eye for any spelling mistake. You can find this by printing unique values from this column.\n",
    "Print the investment type in descending order with respect to the percentage of the amount funded.\n",
    "Output Format :\n",
    "investmentType1 percent1\n",
    "investmentType2 percent2\n",
    "investmentType3 percent3\n",
    ". . . "
   ]
  },
  {
   "cell_type": "code",
   "execution_count": 17,
   "metadata": {},
   "outputs": [
    {
     "data": {
      "image/png": "[encoded data removed]",
      "text/plain": [
       "<Figure size 432x288 with 1 Axes>"
      ]
     },
     "metadata": {},
     "output_type": "display_data"
    },
    {
     "name": "stdout",
     "output_type": "stream",
     "text": [
      "Private Equity 98.15\n",
      "Seed Funding 1.81\n",
      "Debt Funding 0.04\n",
      "Crowd Funding 0.00\n"
     ]
    }
   ],
   "source": [
    "import pandas as pd\n",
    "import matplotlib.pyplot as plt\n",
    "\n",
    "df = pd.read_csv('Dataset/startup_funding.csv',encoding = 'utf-8')\n",
    "df[\"AmountInUSD\"].fillna(0,inplace=True)\n",
    "df.InvestmentType.replace('SeedFunding','Seed Funding',inplace = True)\n",
    "df.InvestmentType.replace('PrivateEquity','Private Equity',inplace = True)\n",
    "df.InvestmentType.replace('Crowd funding','Crowd Funding',inplace = True)\n",
    "freq = df.InvestmentType.value_counts()\n",
    "df[\"AmountInUSD\"] = df[\"AmountInUSD\"].apply(lambda x:float(str(x).replace(',','')))\n",
    "df['AmountInUSD']=pd.to_numeric(df['AmountInUSD'])\n",
    "\n",
    "invest_amount = df.groupby('InvestmentType')['AmountInUSD'].sum().sort_values(ascending=False)\n",
    "in_type = invest_amount.index\n",
    "amnt = invest_amount.values\n",
    "\n",
    "perAmount = np.true_divide(amnt,amnt.sum())*100\n",
    "\n",
    "plt.pie(amnt)\n",
    "plt.show()\n",
    "\n",
    "for i in range(len(in_type)):\n",
    "    print(in_type[i],format(perAmount[i],'.2f'))\n"
   ]
  },
  {
   "cell_type": "raw",
   "metadata": {},
   "source": [
    "Top Industries\n",
    "Send Feedback\n",
    "Given File 'startup_funding.csv'\n",
    "Problem Statement :\n",
    "Which type of companies got more easily funding. To answer this question, find -\n",
    "Top 5 industries and percentage of the total amount funded to that industry. (among top 5 only)\n",
    "Print the industry name and percentage of the amount funded with 2 decimal place after rounding off.\n",
    "Note :\n",
    "Ecommerce is the right word in IndustryVertical, so correct it.\n",
    "Print the industry in descending order with respect to the percentage of the amount funded.\n",
    "Output Format :\n",
    "industry1 percent1\n",
    "industry2 percent2\n",
    "industry3 percent3\n",
    ". . . "
   ]
  },
  {
   "cell_type": "code",
   "execution_count": 54,
   "metadata": {},
   "outputs": [
    {
     "name": "stdout",
     "output_type": "stream",
     "text": [
      "Ecommerce 40.52\n",
      "Consumer Internet 35.96\n",
      "Technology 10.45\n",
      "Online Marketplace 6.63\n",
      "Ecommerce & M-Commerce platform 6.44\n"
     ]
    },
    {
     "name": "stderr",
     "output_type": "stream",
     "text": [
      "C:\\Users\\svats2\\AppData\\Local\\Continuum\\anaconda3\\lib\\site-packages\\ipykernel_launcher.py:31: UserWarning: Boolean Series key will be reindexed to match DataFrame index.\n"
     ]
    },
    {
     "ename": "IndexingError",
     "evalue": "Unalignable boolean Series provided as indexer (index of the boolean Series and of the indexed object do not match).",
     "output_type": "error",
     "traceback": [
      "\u001b[1;31m---------------------------------------------------------------------------\u001b[0m",
      "\u001b[1;31mIndexingError\u001b[0m                             Traceback (most recent call last)",
      "\u001b[1;32m<ipython-input-54-7ea8f50c6309>\u001b[0m in \u001b[0;36m<module>\u001b[1;34m\u001b[0m\n\u001b[0;32m     29\u001b[0m \u001b[1;33m\u001b[0m\u001b[0m\n\u001b[0;32m     30\u001b[0m \u001b[0mdf\u001b[0m\u001b[1;33m.\u001b[0m\u001b[0mIndustryVertical\u001b[0m\u001b[1;33m.\u001b[0m\u001b[0mdropna\u001b[0m\u001b[1;33m(\u001b[0m\u001b[0minplace\u001b[0m\u001b[1;33m=\u001b[0m\u001b[1;32mTrue\u001b[0m\u001b[1;33m)\u001b[0m\u001b[1;33m\u001b[0m\u001b[1;33m\u001b[0m\u001b[0m\n\u001b[1;32m---> 31\u001b[1;33m \u001b[0mdf\u001b[0m\u001b[1;33m[\u001b[0m\u001b[0mdf\u001b[0m\u001b[1;33m.\u001b[0m\u001b[0mIndustryVertical\u001b[0m\u001b[1;33m.\u001b[0m\u001b[0mstr\u001b[0m\u001b[1;33m.\u001b[0m\u001b[0mcontains\u001b[0m\u001b[1;33m(\u001b[0m\u001b[1;34m'commerce'\u001b[0m\u001b[1;33m,\u001b[0m\u001b[0mcase\u001b[0m\u001b[1;33m=\u001b[0m\u001b[1;32mFalse\u001b[0m\u001b[1;33m)\u001b[0m\u001b[1;33m]\u001b[0m\u001b[1;33m\u001b[0m\u001b[1;33m\u001b[0m\u001b[0m\n\u001b[0m",
      "\u001b[1;32m~\\AppData\\Local\\Continuum\\anaconda3\\lib\\site-packages\\pandas\\core\\frame.py\u001b[0m in \u001b[0;36m__getitem__\u001b[1;34m(self, key)\u001b[0m\n\u001b[0;32m   2969\u001b[0m         \u001b[1;31m# Do we have a (boolean) 1d indexer?\u001b[0m\u001b[1;33m\u001b[0m\u001b[1;33m\u001b[0m\u001b[1;33m\u001b[0m\u001b[0m\n\u001b[0;32m   2970\u001b[0m         \u001b[1;32mif\u001b[0m \u001b[0mcom\u001b[0m\u001b[1;33m.\u001b[0m\u001b[0mis_bool_indexer\u001b[0m\u001b[1;33m(\u001b[0m\u001b[0mkey\u001b[0m\u001b[1;33m)\u001b[0m\u001b[1;33m:\u001b[0m\u001b[1;33m\u001b[0m\u001b[1;33m\u001b[0m\u001b[0m\n\u001b[1;32m-> 2971\u001b[1;33m             \u001b[1;32mreturn\u001b[0m \u001b[0mself\u001b[0m\u001b[1;33m.\u001b[0m\u001b[0m_getitem_bool_array\u001b[0m\u001b[1;33m(\u001b[0m\u001b[0mkey\u001b[0m\u001b[1;33m)\u001b[0m\u001b[1;33m\u001b[0m\u001b[1;33m\u001b[0m\u001b[0m\n\u001b[0m\u001b[0;32m   2972\u001b[0m \u001b[1;33m\u001b[0m\u001b[0m\n\u001b[0;32m   2973\u001b[0m         \u001b[1;31m# We are left with two options: a single key, and a collection of keys,\u001b[0m\u001b[1;33m\u001b[0m\u001b[1;33m\u001b[0m\u001b[1;33m\u001b[0m\u001b[0m\n",
      "\u001b[1;32m~\\AppData\\Local\\Continuum\\anaconda3\\lib\\site-packages\\pandas\\core\\frame.py\u001b[0m in \u001b[0;36m_getitem_bool_array\u001b[1;34m(self, key)\u001b[0m\n\u001b[0;32m   3021\u001b[0m         \u001b[1;31m# check_bool_indexer will throw exception if Series key cannot\u001b[0m\u001b[1;33m\u001b[0m\u001b[1;33m\u001b[0m\u001b[1;33m\u001b[0m\u001b[0m\n\u001b[0;32m   3022\u001b[0m         \u001b[1;31m# be reindexed to match DataFrame rows\u001b[0m\u001b[1;33m\u001b[0m\u001b[1;33m\u001b[0m\u001b[1;33m\u001b[0m\u001b[0m\n\u001b[1;32m-> 3023\u001b[1;33m         \u001b[0mkey\u001b[0m \u001b[1;33m=\u001b[0m \u001b[0mcheck_bool_indexer\u001b[0m\u001b[1;33m(\u001b[0m\u001b[0mself\u001b[0m\u001b[1;33m.\u001b[0m\u001b[0mindex\u001b[0m\u001b[1;33m,\u001b[0m \u001b[0mkey\u001b[0m\u001b[1;33m)\u001b[0m\u001b[1;33m\u001b[0m\u001b[1;33m\u001b[0m\u001b[0m\n\u001b[0m\u001b[0;32m   3024\u001b[0m         \u001b[0mindexer\u001b[0m \u001b[1;33m=\u001b[0m \u001b[0mkey\u001b[0m\u001b[1;33m.\u001b[0m\u001b[0mnonzero\u001b[0m\u001b[1;33m(\u001b[0m\u001b[1;33m)\u001b[0m\u001b[1;33m[\u001b[0m\u001b[1;36m0\u001b[0m\u001b[1;33m]\u001b[0m\u001b[1;33m\u001b[0m\u001b[1;33m\u001b[0m\u001b[0m\n\u001b[0;32m   3025\u001b[0m         \u001b[1;32mreturn\u001b[0m \u001b[0mself\u001b[0m\u001b[1;33m.\u001b[0m\u001b[0mtake\u001b[0m\u001b[1;33m(\u001b[0m\u001b[0mindexer\u001b[0m\u001b[1;33m,\u001b[0m \u001b[0maxis\u001b[0m\u001b[1;33m=\u001b[0m\u001b[1;36m0\u001b[0m\u001b[1;33m)\u001b[0m\u001b[1;33m\u001b[0m\u001b[1;33m\u001b[0m\u001b[0m\n",
      "\u001b[1;32m~\\AppData\\Local\\Continuum\\anaconda3\\lib\\site-packages\\pandas\\core\\indexing.py\u001b[0m in \u001b[0;36mcheck_bool_indexer\u001b[1;34m(index, key)\u001b[0m\n\u001b[0;32m   2409\u001b[0m         \u001b[1;32mif\u001b[0m \u001b[0mmask\u001b[0m\u001b[1;33m.\u001b[0m\u001b[0many\u001b[0m\u001b[1;33m(\u001b[0m\u001b[1;33m)\u001b[0m\u001b[1;33m:\u001b[0m\u001b[1;33m\u001b[0m\u001b[1;33m\u001b[0m\u001b[0m\n\u001b[0;32m   2410\u001b[0m             raise IndexingError(\n\u001b[1;32m-> 2411\u001b[1;33m                 \u001b[1;34m\"Unalignable boolean Series provided as \"\u001b[0m\u001b[1;33m\u001b[0m\u001b[1;33m\u001b[0m\u001b[0m\n\u001b[0m\u001b[0;32m   2412\u001b[0m                 \u001b[1;34m\"indexer (index of the boolean Series and of \"\u001b[0m\u001b[1;33m\u001b[0m\u001b[1;33m\u001b[0m\u001b[0m\n\u001b[0;32m   2413\u001b[0m                 \u001b[1;34m\"the indexed object do not match).\"\u001b[0m\u001b[1;33m\u001b[0m\u001b[1;33m\u001b[0m\u001b[0m\n",
      "\u001b[1;31mIndexingError\u001b[0m: Unalignable boolean Series provided as indexer (index of the boolean Series and of the indexed object do not match)."
     ]
    }
   ],
   "source": [
    "import pandas as pd\n",
    "import numpy as np\n",
    "\n",
    "del(df)\n",
    "df = pd.read_csv('Dataset/startup_funding.csv',encoding='utf-8')\n",
    "freq = df.IndustryVertical.value_counts()\n",
    "#print(freq.size)\n",
    "df.IndustryVertical.replace('eCommerce','Ecommerce',inplace=True)\n",
    "df.IndustryVertical.replace('ECommerce','Ecommerce',inplace=True) #Ecommerce Marketplace \n",
    "#df.IndustryVertical.replace('Ecommerce Marketplace','Ecommerce',inplace=True)\n",
    "#df.IndustryVertical.replace('E-Commerce & M-Commerce platform','Ecommerce',inplace=True)\n",
    "df.AmountInUSD.fillna(0,inplace = True)\n",
    "df.AmountInUSD = df.AmountInUSD.apply(lambda x:float(str(x).replace(',','')))\n",
    "df.AmountInUSD = pd.to_numeric(df.AmountInUSD)\n",
    "\n",
    "\n",
    "\n",
    "\n",
    "indst_amount = df.groupby('IndustryVertical')['AmountInUSD'].sum().sort_values(ascending = False)[0:5]\n",
    "industry = indst_amount.index\n",
    "amount = indst_amount.values\n",
    "\n",
    "perc = np.true_divide(amount,amount.sum())*100\n",
    "\n",
    "for i in range(len(amount)):\n",
    "    stri = str(industry[i])\n",
    "    stri = stri.replace('E-Commerce','Ecommerce')\n",
    "    print(stri,format(perc[i],'.2f'))\n",
    "    \n",
    "df.IndustryVertical.dropna(inplace=True)\n",
    "df[df.IndustryVertical.str.contains('commerce',case=False)]"
   ]
  }
 ],
 "metadata": {
  "kernelspec": {
   "display_name": "Python 3",
   "language": "python",
   "name": "python3"
  },
  "language_info": {
   "codemirror_mode": {
    "name": "ipython",
    "version": 3
   },
   "file_extension": ".py",
   "mimetype": "text/x-python",
   "name": "python",
   "nbconvert_exporter": "python",
   "pygments_lexer": "ipython3",
   "version": "3.7.4"
  }
 },
 "nbformat": 4,
 "nbformat_minor": 2
}
