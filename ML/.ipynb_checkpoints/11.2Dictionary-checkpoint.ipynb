{
 "cells": [
  {
   "cell_type": "markdown",
   "metadata": {},
   "source": [
    "# Dictionary"
   ]
  },
  {
   "cell_type": "code",
   "execution_count": null,
   "metadata": {},
   "outputs": [],
   "source": []
  },
  {
   "cell_type": "markdown",
   "metadata": {},
   "source": [
    "**In lists we can access elements only by there index , that means index is the key to access the value**"
   ]
  },
  {
   "cell_type": "markdown",
   "metadata": {},
   "source": [
    "**Dictionary provides us the ability to access the elements by using any value as key**"
   ]
  },
  {
   "cell_type": "markdown",
   "metadata": {},
   "source": [
    "##  Initializing a dictionary"
   ]
  },
  {
   "cell_type": "code",
   "execution_count": 8,
   "metadata": {},
   "outputs": [
    {
     "name": "stdout",
     "output_type": "stream",
     "text": [
      "<class 'dict'>\n",
      "<class 'dict'>\n"
     ]
    }
   ],
   "source": [
    "d = {}\n",
    "print(type(d))\n",
    "e = dict()\n",
    "print(type(e))"
   ]
  },
  {
   "cell_type": "markdown",
   "metadata": {},
   "source": [
    "## Defining a dictionary"
   ]
  },
  {
   "cell_type": "markdown",
   "metadata": {},
   "source": [
    "**d = {key1:value1 , key2:value2 , key3:value3 }**<br>\n",
    "**e = dict([(key1,value1),(key2,value2),(key3,value3)])**"
   ]
  },
  {
   "cell_type": "code",
   "execution_count": 10,
   "metadata": {},
   "outputs": [
    {
     "name": "stdout",
     "output_type": "stream",
     "text": [
      "{'a': 5, 'the': 3, 100: 'a'}\n",
      "{'the': 3, 'a': 4, 1: 7}\n"
     ]
    }
   ],
   "source": [
    "a = {\"a\":5,\"the\":3,100:\"a\"}\n",
    "print(a)\n",
    "c = dict([(\"the\",3),(\"a\",4),(1,7)])\n",
    "print(c)"
   ]
  },
  {
   "cell_type": "markdown",
   "metadata": {},
   "source": [
    "**what is the use of dictionary if we are going to use number as key we could have taken a list**<br>\n",
    "**benefit with dictionary is it can allow you to take key as 100 even with 3 elements in it for which in list you would have needed 101 element**"
   ]
  },
  {
   "cell_type": "code",
   "execution_count": 5,
   "metadata": {},
   "outputs": [
    {
     "data": {
      "text/plain": [
       "3"
      ]
     },
     "execution_count": 5,
     "metadata": {},
     "output_type": "execute_result"
    }
   ],
   "source": [
    "len(a)"
   ]
  },
  {
   "cell_type": "markdown",
   "metadata": {},
   "source": [
    "## copy function"
   ]
  },
  {
   "cell_type": "code",
   "execution_count": 11,
   "metadata": {},
   "outputs": [
    {
     "name": "stdout",
     "output_type": "stream",
     "text": [
      "2808864211416\n",
      "2808863415816\n",
      "{'a': 5, 'the': 3, 100: 'a'}\n"
     ]
    }
   ],
   "source": [
    "b = a.copy()\n",
    "print(id(a))\n",
    "print(id(b))\n",
    "print(b)"
   ]
  },
  {
   "cell_type": "markdown",
   "metadata": {},
   "source": [
    "## from keys function"
   ]
  },
  {
   "cell_type": "code",
   "execution_count": 13,
   "metadata": {},
   "outputs": [
    {
     "name": "stdout",
     "output_type": "stream",
     "text": [
      "{'abc': None, 32: None, 6: None}\n"
     ]
    }
   ],
   "source": [
    "d = dict.fromkeys([\"abc\",32,6])\n",
    "print(d)  ## it will not assign any value to the keys"
   ]
  },
  {
   "cell_type": "markdown",
   "metadata": {},
   "source": [
    "**If you want to assign same values to all the keys you can add one more argument to fromkeys function**"
   ]
  },
  {
   "cell_type": "code",
   "execution_count": 14,
   "metadata": {},
   "outputs": [
    {
     "name": "stdout",
     "output_type": "stream",
     "text": [
      "{'a': 5, 'b': 5, 6: 5}\n"
     ]
    }
   ],
   "source": [
    "f = dict.fromkeys([\"a\",\"b\",6],5)\n",
    "print(f)  # this will set value = 5 for all the keys"
   ]
  },
  {
   "cell_type": "markdown",
   "metadata": {},
   "source": [
    "## Accessing the data from Dictionary"
   ]
  },
  {
   "cell_type": "code",
   "execution_count": 16,
   "metadata": {},
   "outputs": [
    {
     "name": "stdout",
     "output_type": "stream",
     "text": [
      "{1: 2, 3: 4, 'list': [1, 2, 3], 'dict': {4: 5}}\n"
     ]
    }
   ],
   "source": [
    "a = {1:2,3:4,\"list\":[1,2,3],\"dict\":{4:5}}\n",
    "print(a)"
   ]
  },
  {
   "cell_type": "markdown",
   "metadata": {},
   "source": [
    "**A dict can contain a list or another dict**"
   ]
  },
  {
   "cell_type": "code",
   "execution_count": 18,
   "metadata": {},
   "outputs": [
    {
     "ename": "KeyError",
     "evalue": "0",
     "output_type": "error",
     "traceback": [
      "\u001b[1;31m---------------------------------------------------------------------------\u001b[0m",
      "\u001b[1;31mKeyError\u001b[0m                                  Traceback (most recent call last)",
      "\u001b[1;32m<ipython-input-18-b1604d6b43a8>\u001b[0m in \u001b[0;36m<module>\u001b[1;34m\u001b[0m\n\u001b[1;32m----> 1\u001b[1;33m \u001b[0ma\u001b[0m\u001b[1;33m[\u001b[0m\u001b[1;36m0\u001b[0m\u001b[1;33m]\u001b[0m \u001b[1;31m##We don't have indices now so we should only use the defined key\u001b[0m\u001b[1;33m\u001b[0m\u001b[1;33m\u001b[0m\u001b[0m\n\u001b[0m",
      "\u001b[1;31mKeyError\u001b[0m: 0"
     ]
    }
   ],
   "source": [
    "a[0] ##We don't have indices now so we should only use the defined key"
   ]
  },
  {
   "cell_type": "code",
   "execution_count": 19,
   "metadata": {},
   "outputs": [
    {
     "data": {
      "text/plain": [
       "2"
      ]
     },
     "execution_count": 19,
     "metadata": {},
     "output_type": "execute_result"
    }
   ],
   "source": [
    "a[1]"
   ]
  },
  {
   "cell_type": "code",
   "execution_count": 21,
   "metadata": {},
   "outputs": [
    {
     "data": {
      "text/plain": [
       "{4: 5}"
      ]
     },
     "execution_count": 21,
     "metadata": {},
     "output_type": "execute_result"
    }
   ],
   "source": [
    "a['dict']"
   ]
  },
  {
   "cell_type": "code",
   "execution_count": 23,
   "metadata": {},
   "outputs": [
    {
     "data": {
      "text/plain": [
       "[1, 2, 3]"
      ]
     },
     "execution_count": 23,
     "metadata": {},
     "output_type": "execute_result"
    }
   ],
   "source": [
    "a['list']"
   ]
  },
  {
   "cell_type": "code",
   "execution_count": 25,
   "metadata": {},
   "outputs": [
    {
     "ename": "KeyError",
     "evalue": "'li'",
     "output_type": "error",
     "traceback": [
      "\u001b[1;31m---------------------------------------------------------------------------\u001b[0m",
      "\u001b[1;31mKeyError\u001b[0m                                  Traceback (most recent call last)",
      "\u001b[1;32m<ipython-input-25-7109ad37957b>\u001b[0m in \u001b[0;36m<module>\u001b[1;34m\u001b[0m\n\u001b[1;32m----> 1\u001b[1;33m \u001b[0ma\u001b[0m\u001b[1;33m[\u001b[0m\u001b[1;34m'li'\u001b[0m\u001b[1;33m]\u001b[0m \u001b[1;31m##this will again give the error as there is no such key as li\u001b[0m\u001b[1;33m\u001b[0m\u001b[1;33m\u001b[0m\u001b[0m\n\u001b[0m",
      "\u001b[1;31mKeyError\u001b[0m: 'li'"
     ]
    }
   ],
   "source": [
    "a['li'] ##this will again give the error as there is no such key as li"
   ]
  },
  {
   "cell_type": "markdown",
   "metadata": {},
   "source": [
    "## Other way of Accessing the dictionary"
   ]
  },
  {
   "cell_type": "code",
   "execution_count": 29,
   "metadata": {},
   "outputs": [
    {
     "name": "stdout",
     "output_type": "stream",
     "text": [
      "{1: 2, 3: 4, 'list': [1, 2, 3], 'dict': {4: 5}}\n",
      "[1, 2, 3]\n",
      "None\n"
     ]
    }
   ],
   "source": [
    "print(a)\n",
    "print(a.get('list'))\n",
    "print(a.get('li'))"
   ]
  },
  {
   "cell_type": "markdown",
   "metadata": {},
   "source": [
    "**if you access through square bracket then if key is not there it will throw a error**<br>\n",
    "**But if you acess through get function, it will not throw a error and be default give none or the value we provide**"
   ]
  },
  {
   "cell_type": "code",
   "execution_count": 31,
   "metadata": {},
   "outputs": [
    {
     "data": {
      "text/plain": [
       "0"
      ]
     },
     "execution_count": 31,
     "metadata": {},
     "output_type": "execute_result"
    }
   ],
   "source": [
    "#if you want get function to return something else if key is not found we need to explicitly say that\n",
    "a.get('li',0)"
   ]
  },
  {
   "cell_type": "markdown",
   "metadata": {},
   "source": [
    "## Printing all the keys of the dict"
   ]
  },
  {
   "cell_type": "code",
   "execution_count": 33,
   "metadata": {},
   "outputs": [
    {
     "data": {
      "text/plain": [
       "dict_keys([1, 3, 'list', 'dict'])"
      ]
     },
     "execution_count": 33,
     "metadata": {},
     "output_type": "execute_result"
    }
   ],
   "source": [
    "a.keys()"
   ]
  },
  {
   "cell_type": "markdown",
   "metadata": {},
   "source": [
    "## Printing all the values in the dict"
   ]
  },
  {
   "cell_type": "code",
   "execution_count": 34,
   "metadata": {},
   "outputs": [
    {
     "data": {
      "text/plain": [
       "dict_values([2, 4, [1, 2, 3], {4: 5}])"
      ]
     },
     "execution_count": 34,
     "metadata": {},
     "output_type": "execute_result"
    }
   ],
   "source": [
    "a.values()"
   ]
  },
  {
   "cell_type": "markdown",
   "metadata": {},
   "source": [
    "## Printing all the pairs -- items"
   ]
  },
  {
   "cell_type": "code",
   "execution_count": 36,
   "metadata": {},
   "outputs": [
    {
     "data": {
      "text/plain": [
       "dict_items([(1, 2), (3, 4), ('list', [1, 2, 3]), ('dict', {4: 5})])"
      ]
     },
     "execution_count": 36,
     "metadata": {},
     "output_type": "execute_result"
    }
   ],
   "source": [
    "a.items()"
   ]
  },
  {
   "cell_type": "markdown",
   "metadata": {},
   "source": [
    "## Using for loops with dicts"
   ]
  },
  {
   "cell_type": "markdown",
   "metadata": {},
   "source": [
    "**Iterating over all the keys**"
   ]
  },
  {
   "cell_type": "code",
   "execution_count": 37,
   "metadata": {},
   "outputs": [
    {
     "name": "stdout",
     "output_type": "stream",
     "text": [
      "1\n",
      "3\n",
      "list\n",
      "dict\n"
     ]
    }
   ],
   "source": [
    "for i in a:\n",
    "    print(i)  ## This is going to print all the keys"
   ]
  },
  {
   "cell_type": "markdown",
   "metadata": {},
   "source": [
    "**Iterating over keys and corresponding values**"
   ]
  },
  {
   "cell_type": "code",
   "execution_count": 39,
   "metadata": {},
   "outputs": [
    {
     "name": "stdout",
     "output_type": "stream",
     "text": [
      "1 2\n",
      "3 4\n",
      "list [1, 2, 3]\n",
      "dict {4: 5}\n"
     ]
    }
   ],
   "source": [
    "for i in a:\n",
    "    print(i,a[i])  ## a[i] will print the value corresponding to the key i"
   ]
  },
  {
   "cell_type": "markdown",
   "metadata": {},
   "source": [
    "**Iterating over only the values**"
   ]
  },
  {
   "cell_type": "code",
   "execution_count": 41,
   "metadata": {},
   "outputs": [
    {
     "name": "stdout",
     "output_type": "stream",
     "text": [
      "2\n",
      "4\n",
      "[1, 2, 3]\n",
      "{4: 5}\n"
     ]
    }
   ],
   "source": [
    "for i in a.values():\n",
    "    print(i)"
   ]
  },
  {
   "cell_type": "markdown",
   "metadata": {},
   "source": [
    "**To check whether a key exist in the dictionary**"
   ]
  },
  {
   "cell_type": "code",
   "execution_count": 43,
   "metadata": {},
   "outputs": [
    {
     "data": {
      "text/plain": [
       "True"
      ]
     },
     "execution_count": 43,
     "metadata": {},
     "output_type": "execute_result"
    }
   ],
   "source": [
    "\"list\" in a"
   ]
  },
  {
   "cell_type": "code",
   "execution_count": 47,
   "metadata": {},
   "outputs": [
    {
     "data": {
      "text/plain": [
       "True"
      ]
     },
     "execution_count": 47,
     "metadata": {},
     "output_type": "execute_result"
    }
   ],
   "source": [
    "4 in a.values()"
   ]
  },
  {
   "cell_type": "code",
   "execution_count": 49,
   "metadata": {},
   "outputs": [
    {
     "data": {
      "text/plain": [
       "{1: 2, 3: 4, 'list': [1, 2, 3], 'dict': {4: 5}}"
      ]
     },
     "execution_count": 49,
     "metadata": {},
     "output_type": "execute_result"
    }
   ],
   "source": [
    "a"
   ]
  },
  {
   "cell_type": "markdown",
   "metadata": {},
   "source": [
    "## Adding an element to existing dictionary"
   ]
  },
  {
   "cell_type": "code",
   "execution_count": 59,
   "metadata": {},
   "outputs": [
    {
     "data": {
      "text/plain": [
       "{1: 6, 3: 8, 'list': [1, 2, 3], 'dict': {2: 4}, 'us': 89, 't': (1, 2, 45, 4)}"
      ]
     },
     "execution_count": 59,
     "metadata": {},
     "output_type": "execute_result"
    }
   ],
   "source": [
    "a['t'] = (1,2,45,4) ## This will append it at the end of the dictionary\n",
    "a"
   ]
  },
  {
   "cell_type": "markdown",
   "metadata": {},
   "source": [
    "**If we need to update the value for a key**"
   ]
  },
  {
   "cell_type": "code",
   "execution_count": 60,
   "metadata": {},
   "outputs": [
    {
     "data": {
      "text/plain": [
       "{1: 6, 3: 8, 'list': [1, 2, 3], 'dict': {2: 4}, 'us': 89, 't': (1, 2, 45, 4)}"
      ]
     },
     "execution_count": 60,
     "metadata": {},
     "output_type": "execute_result"
    }
   ],
   "source": [
    "a[1] = 6\n",
    "a"
   ]
  },
  {
   "cell_type": "markdown",
   "metadata": {},
   "source": [
    "**Updating the values of dictionary a with dictionary b using update function**"
   ]
  },
  {
   "cell_type": "code",
   "execution_count": 61,
   "metadata": {},
   "outputs": [
    {
     "name": "stdout",
     "output_type": "stream",
     "text": [
      "{1: 6, 3: 8, 'list': [1, 2, 3], 'dict': {2: 4}, 'us': 89, 't': (1, 2, 45, 4)}\n"
     ]
    }
   ],
   "source": [
    "a\n",
    "b ={3:8,'dict':{2:4},'us':89}\n",
    "\n",
    "a.update(b)\n",
    "print(a)"
   ]
  },
  {
   "cell_type": "markdown",
   "metadata": {},
   "source": [
    "**Using pop function to delete a element using key: this function delete and return the value of item deleted**"
   ]
  },
  {
   "cell_type": "code",
   "execution_count": 62,
   "metadata": {},
   "outputs": [
    {
     "data": {
      "text/plain": [
       "(1, 2, 45, 4)"
      ]
     },
     "execution_count": 62,
     "metadata": {},
     "output_type": "execute_result"
    }
   ],
   "source": [
    "a.pop('t')"
   ]
  },
  {
   "cell_type": "code",
   "execution_count": 63,
   "metadata": {},
   "outputs": [
    {
     "data": {
      "text/plain": [
       "{1: 6, 3: 8, 'list': [1, 2, 3], 'dict': {2: 4}, 'us': 89}"
      ]
     },
     "execution_count": 63,
     "metadata": {},
     "output_type": "execute_result"
    }
   ],
   "source": [
    "a"
   ]
  },
  {
   "cell_type": "markdown",
   "metadata": {},
   "source": [
    "**Deleting the element of dictionary using del function**"
   ]
  },
  {
   "cell_type": "code",
   "execution_count": 65,
   "metadata": {},
   "outputs": [
    {
     "data": {
      "text/plain": [
       "{3: 8, 'list': [1, 2, 3], 'dict': {2: 4}, 'us': 89}"
      ]
     },
     "execution_count": 65,
     "metadata": {},
     "output_type": "execute_result"
    }
   ],
   "source": [
    "del a[1] # we need to pass the key to delete the item\n",
    "a"
   ]
  },
  {
   "cell_type": "markdown",
   "metadata": {},
   "source": [
    "**Deleting all the items of a dictionary using clear function**"
   ]
  },
  {
   "cell_type": "code",
   "execution_count": 66,
   "metadata": {},
   "outputs": [
    {
     "data": {
      "text/plain": [
       "{}"
      ]
     },
     "execution_count": 66,
     "metadata": {},
     "output_type": "execute_result"
    }
   ],
   "source": [
    "a.clear()\n",
    "a"
   ]
  },
  {
   "cell_type": "markdown",
   "metadata": {},
   "source": [
    "**Deleting the dictionar itself**"
   ]
  },
  {
   "cell_type": "code",
   "execution_count": 67,
   "metadata": {},
   "outputs": [
    {
     "ename": "NameError",
     "evalue": "name 'a' is not defined",
     "output_type": "error",
     "traceback": [
      "\u001b[1;31m---------------------------------------------------------------------------\u001b[0m",
      "\u001b[1;31mNameError\u001b[0m                                 Traceback (most recent call last)",
      "\u001b[1;32m<ipython-input-67-88f0dc819981>\u001b[0m in \u001b[0;36m<module>\u001b[1;34m\u001b[0m\n\u001b[0;32m      1\u001b[0m \u001b[1;32mdel\u001b[0m \u001b[0ma\u001b[0m\u001b[1;33m\u001b[0m\u001b[1;33m\u001b[0m\u001b[0m\n\u001b[1;32m----> 2\u001b[1;33m \u001b[0ma\u001b[0m\u001b[1;33m\u001b[0m\u001b[1;33m\u001b[0m\u001b[0m\n\u001b[0m",
      "\u001b[1;31mNameError\u001b[0m: name 'a' is not defined"
     ]
    }
   ],
   "source": [
    "del a\n",
    "a"
   ]
  },
  {
   "cell_type": "raw",
   "metadata": {},
   "source": [
    "Highest frequency number\n",
    "Send Feedback\n",
    "You are given with an array of integers that contain numbers in random order. Write a program to find and return the number which occurs maximum times in the given input.\n",
    "If more than one element occurs same number of times in the input, return the element which is present in the input first.\n",
    "Input Format :\n",
    "Line 1 : An Integer N i.e. size of array\n",
    "Line 2 : N integers which are elements of the array, separated by spaces\n",
    "Output Format :\n",
    "Most frequent element\n",
    "Constraints :\n",
    "1 <= N <= 10^5\n",
    "Sample Input 1 :\n",
    "13\n",
    "2 12 2 11 12 2 1 2 2 11 12 2 6 \n",
    "Sample Output 1 :\n",
    "2\n",
    "Sample Input 2 :\n",
    "3\n",
    "1 4 5\n",
    "Sample Output 2 :\n",
    "1"
   ]
  },
  {
   "cell_type": "code",
   "execution_count": 76,
   "metadata": {},
   "outputs": [
    {
     "name": "stdout",
     "output_type": "stream",
     "text": [
      "20\n",
      "861 911 705 386 -854 653 -999 5 -650 -404 38 -403 -239 -430 -531 -253 -672 -161 -710 -300 \n",
      "861\n"
     ]
    }
   ],
   "source": [
    "def maxFreq(l):\n",
    "    d = {}\n",
    "    for i in l:\n",
    "        d[i] = d.get(i,0) + 1\n",
    "    max_frq = max(d.values())\n",
    "    \n",
    "    ind = len(l)\n",
    "    num = l[0]\n",
    "    for k in d:\n",
    "        if d[k] == max_frq:\n",
    "            if l.index(k) < ind:\n",
    "                ind = l.index(k)\n",
    "                num = k\n",
    "    return num\n",
    "        \n",
    "\n",
    "# Main\n",
    "n=int(input())\n",
    "l=list(int(i) for i in input().strip().split(' '))\n",
    "print(maxFreq(l))\n"
   ]
  },
  {
   "cell_type": "code",
   "execution_count": 78,
   "metadata": {},
   "outputs": [
    {
     "name": "stdout",
     "output_type": "stream",
     "text": [
      "4\n",
      "1 2 2 4\n",
      "2\n"
     ]
    }
   ],
   "source": [
    "def maxFreq(l):\n",
    "    d = {}\n",
    "    for i in l:\n",
    "        d[i] = d.get(i,0) + 1\n",
    "    max_frq = max(d.values())\n",
    "    \n",
    "    ind = len(l)\n",
    "    num = l[0]\n",
    "    for k in d:\n",
    "        if d[k] == max_frq:\n",
    "            if l.index(k) < ind:\n",
    "                ind = l.index(k)\n",
    "                num = k\n",
    "    return num\n",
    "        \n",
    "\n",
    "# Main\n",
    "n=int(input())\n",
    "l=list(int(i) for i in input().strip().split(' '))\n",
    "print(maxFreq(l))\n"
   ]
  },
  {
   "cell_type": "raw",
   "metadata": {},
   "source": [
    "Maximum Distance\n",
    "Send Feedback\n",
    "Given an array that might contain duplicate elements, find the maximum possible distance between occurrences of two repeating elements i.e. elements having same value. If there are no duplicate elements in the array, return 0.\n",
    "Input Format :\n",
    "Line 1 : Contains integer N which is the size of array\n",
    "Line 2 : Contains N Integers i.e. the elements of the array.\n",
    "Sample Output :\n",
    " Line 1 : Maximum Distance Value\n",
    "Sample Input :\n",
    "9\n",
    "1  3  1  4  5  6  4  8  3\n",
    "Sample Output :\n",
    "7\n",
    "Sample Output Explanation :\n",
    "arr = [1, 3, 1, 4, 5, 6, 4, 8, 3];\n",
    "    index0 = 1\n",
    "    index1 = 3\n",
    "    index2 = 1\n",
    "    index3 = 4\n",
    "    index4 = 5\n",
    "    index5 = 6\n",
    "    index6 = 4\n",
    "    index7 = 8\n",
    "    index8 = 3\n",
    "\n",
    "    In the above array, the repeating elements are :- (1, 3, 4)\n",
    "    - Distance bw first and last occurence of 1 = 2(index2 - index0)\n",
    "    - Distance bw first and last occurence of 3 = 7(index8 - index1)\n",
    "    - Distance bw first and last occurence of 4 = 3(index6 - index3)\n",
    "\n",
    "    So, for the above array you must return 7, as this is maximum possible distance between two repeating elements having same value."
   ]
  },
  {
   "cell_type": "code",
   "execution_count": 80,
   "metadata": {},
   "outputs": [
    {
     "name": "stdout",
     "output_type": "stream",
     "text": [
      "9\n",
      "1  3  1  4  5  6  4  8  3\n",
      "7\n"
     ]
    }
   ],
   "source": [
    "\n",
    "def max_width(l,n):\n",
    "    d_i = {}\n",
    "    d_l = {}\n",
    "    k = 0\n",
    "    \n",
    "    for i in l:\n",
    "        if not(i in d_i):\n",
    "            d_i[i] = k\n",
    "        l = k - d_i[i]\n",
    "        d_l[i] = l \n",
    "        k += 1\n",
    "    return(max(d_l.values()))\n",
    "\n",
    "n = int(input())\n",
    "l = [int(i) for i in input().split()]\n",
    "print(max_width(l,n))\n"
   ]
  }
 ],
 "metadata": {
  "kernelspec": {
   "display_name": "Python 3",
   "language": "python",
   "name": "python3"
  },
  "language_info": {
   "codemirror_mode": {
    "name": "ipython",
    "version": 3
   },
   "file_extension": ".py",
   "mimetype": "text/x-python",
   "name": "python",
   "nbconvert_exporter": "python",
   "pygments_lexer": "ipython3",
   "version": "3.7.4"
  }
 },
 "nbformat": 4,
 "nbformat_minor": 2
}
