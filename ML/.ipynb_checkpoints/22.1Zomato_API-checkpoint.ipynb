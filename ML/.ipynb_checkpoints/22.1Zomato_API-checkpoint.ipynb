{
 "cells": [
  {
   "cell_type": "code",
   "execution_count": 28,
   "metadata": {},
   "outputs": [],
   "source": [
    "import requests\n",
    "import json\n",
    "\n",
    "city = 0\n",
    "response = requests.get('https://developers.zomato.com/api/v2.1/cities',headers={'Accept' : 'application/json', 'user-key':'b0d4fb2c198447ef690d2f98fbc4b07c'},params={'q' : 'delhi  '})\n",
    "data = response.json()\n"
   ]
  },
  {
   "cell_type": "code",
   "execution_count": 30,
   "metadata": {},
   "outputs": [
    {
     "data": {
      "text/plain": [
       "1"
      ]
     },
     "execution_count": 30,
     "metadata": {},
     "output_type": "execute_result"
    }
   ],
   "source": [
    "data\n",
    "all_city = data['location_suggestions']\n",
    "for row in all_city:\n",
    "    if row['country_name'] == 'India':\n",
    "        city = row['id']\n",
    "city"
   ]
  },
  {
   "cell_type": "code",
   "execution_count": 31,
   "metadata": {},
   "outputs": [],
   "source": [
    "import requests\n",
    "import json\n",
    "\n",
    "response = requests.get('https://developers.zomato.com/api/v2.1/cuisines',headers={'Accept' : 'application/json', 'user-key':'b0d4fb2c198447ef690d2f98fbc4b07c'},params={'city_id':city})\n",
    "new_data = response.json()\n"
   ]
  },
  {
   "cell_type": "code",
   "execution_count": 38,
   "metadata": {},
   "outputs": [
    {
     "name": "stdout",
     "output_type": "stream",
     "text": [
      "73\n"
     ]
    }
   ],
   "source": [
    "new_data\n",
    "cuisines = new_data['cuisines']\n",
    "for row in cuisines:\n",
    "    if row['cuisine']['cuisine_name'] == 'Mexican':\n",
    "        print(row['cuisine']['cuisine_id'])"
   ]
  },
  {
   "cell_type": "raw",
   "metadata": {},
   "source": [
    "Zomato Cuisine 1.3\n",
    "Send Feedback\n",
    "Fetch the entityid and entitytype of place Connaught Place.\n",
    "Print the entityid and entitytype,\n",
    "Output Format:\n",
    "entity_type entity_id"
   ]
  },
  {
   "cell_type": "code",
   "execution_count": 12,
   "metadata": {},
   "outputs": [],
   "source": [
    "import requests\n",
    "import json\n",
    "\n",
    "resp = requests.get('https://developers.zomato.com/api/v2.1/locations',headers={'User-agent': 'curl/7.43.0','Accept' : 'application/json', 'user-key':'b0d4fb2c198447ef690d2f98fbc4b07c'},params={'query':'cannaught palace'})  \n",
    "\n",
    "location_data = resp.json()"
   ]
  },
  {
   "cell_type": "code",
   "execution_count": 14,
   "metadata": {},
   "outputs": [
    {
     "name": "stdout",
     "output_type": "stream",
     "text": [
      "subzone 104\n"
     ]
    }
   ],
   "source": [
    "location=location_data['location_suggestions']\n",
    "print(location[0]['entity_type'],location[0]['entity_id'])\n",
    "\n"
   ]
  },
  {
   "cell_type": "raw",
   "metadata": {},
   "source": [
    "Zomato Cuisine 1.4\n",
    "Send Feedback\n",
    "Fetch the top 10 best-rated restaurant serving ‘Mexican’ cuisine present in Connaught Place.\n",
    "Print the restaurant name, user rating and restaurant id.\n",
    "Output Format:\n",
    "name_1 rating_1 id_1\n",
    "name_2 rating_2 id_2\n",
    "name_3 rating_3 id_3\n",
    ". . .\n",
    ". . ."
   ]
  },
  {
   "cell_type": "code",
   "execution_count": 25,
   "metadata": {},
   "outputs": [
    {
     "name": "stdout",
     "output_type": "stream",
     "text": [
      "Odeon Social 4.7 18246991\n",
      "38 Barracks 4.7 18241537\n",
      "Connaught Clubhouse 4.7 19295106\n",
      "Detroit 4.5 18625812\n",
      "Ministry Of Beer 4.5 18418277\n",
      "Xero Degrees 4.5 18729557\n",
      "Chili's Grill & Bar 4.5 18537536\n",
      "Station Bar 4.4 18851371\n",
      "The Luggage Room Kitchen And Bar 4.4 18337893\n",
      "The Darzi Bar & Kitchen 4.3 18423151\n"
     ]
    }
   ],
   "source": [
    "## Open and read data file as specified in the question\n",
    "## Print the required output in given format\n",
    "import requests\n",
    "user_key='3754f0440b3026cde542ed69af9f499a'\n",
    "basic_api='https://developers.zomato.com/api/v2.1'\n",
    "header={\"User-agent\": \"curl/7.43.0\",'Accept': 'application/json','user-key':user_key}\n",
    "cp_entity_id=104\n",
    "cp_entity_type='subzone'\n",
    "cuisine_id=73\n",
    "params={'entity_id':cp_entity_id,'entity_type':cp_entity_type,'sort':'rating','cuisines':cuisine_id,'count':10}\n",
    "response=requests.get(basic_api+'/search',headers=header,params=params)\n",
    "for i in response.json().get('restaurants'):\n",
    "    print(i.get('restaurant').get('name'),i.get('restaurant').get('user_rating').get('aggregate_rating'),\n",
    "    i.get('restaurant').get('R').get('res_id'))"
   ]
  },
  {
   "cell_type": "code",
   "execution_count": 83,
   "metadata": {},
   "outputs": [],
   "source": [
    "import requests\n",
    "import json\n",
    "\n",
    "head = {'User-agent': 'curl/7.43.0','Accept' : 'application/json', 'user-key':'b0d4fb2c198447ef690d2f98fbc4b07c'}\n",
    "resp = requests.get('https://developers.zomato.com/api/v2.1/categories',headers=head)\n",
    "rest_data = resp.json()"
   ]
  },
  {
   "cell_type": "code",
   "execution_count": 84,
   "metadata": {},
   "outputs": [
    {
     "name": "stdout",
     "output_type": "stream",
     "text": [
      "6\n"
     ]
    },
    {
     "data": {
      "text/plain": [
       "[{'categories': {'id': 1, 'name': 'Delivery'}},\n",
       " {'categories': {'id': 2, 'name': 'Dine-out'}},\n",
       " {'categories': {'id': 3, 'name': 'Nightlife'}},\n",
       " {'categories': {'id': 4, 'name': 'Catching-up'}},\n",
       " {'categories': {'id': 5, 'name': 'Takeaway'}},\n",
       " {'categories': {'id': 6, 'name': 'Cafes'}},\n",
       " {'categories': {'id': 7, 'name': 'Daily Menus'}},\n",
       " {'categories': {'id': 8, 'name': 'Breakfast'}},\n",
       " {'categories': {'id': 9, 'name': 'Lunch'}},\n",
       " {'categories': {'id': 10, 'name': 'Dinner'}},\n",
       " {'categories': {'id': 11, 'name': 'Pubs & Bars'}},\n",
       " {'categories': {'id': 13, 'name': 'Pocket Friendly Delivery'}},\n",
       " {'categories': {'id': 14, 'name': 'Clubs & Lounges'}}]"
      ]
     },
     "execution_count": 84,
     "metadata": {},
     "output_type": "execute_result"
    }
   ],
   "source": [
    "catg = rest_data['categories']\n",
    "for row in catg:\n",
    "    if row['categories']['name'] == 'Cafes':\n",
    "        print(row['categories']['id'])\n",
    "\n",
    "catg"
   ]
  },
  {
   "cell_type": "raw",
   "metadata": {},
   "source": [
    "Zomato Cuisine 1.6\n",
    "Send Feedback\n",
    "Fetch the best-rated restaurant for ‘Mexican’ cuisine with category type ‘ Cafes’ present in Connaught Place using Zomato API.\n",
    "Print the restaurant name, user rating and restaurant id.\n",
    "Output Format:\n",
    "name_1 rating_1 id_1\n",
    "name_2 rating_2 id_2\n",
    "name_3 rating_3 id_3\n",
    ". . .\n",
    ". . ."
   ]
  },
  {
   "cell_type": "code",
   "execution_count": 81,
   "metadata": {},
   "outputs": [],
   "source": [
    "import requests\n",
    "import json\n",
    "\n",
    "head = {'User-agent': 'curl/7.43.0','Accept' : 'application/json', 'user-key':'b0d4fb2c198447ef690d2f98fbc4b07c'}\n",
    "param = {'entity_id' : 104, 'entity_type' : 'subzone','cuisines': 73,'category':6,'sort':'rating'}\n",
    "resp = requests.get('https://developers.zomato.com/api/v2.1/search',headers=head,params=param)\n",
    "rest_data = resp.json()"
   ]
  },
  {
   "cell_type": "code",
   "execution_count": 63,
   "metadata": {},
   "outputs": [
    {
     "name": "stdout",
     "output_type": "stream",
     "text": [
      "Xero Degrees 4.5 18729557\n",
      "The Art House Bar n Cafe 4.3 18863766\n",
      "Chaayos 4.0 18237315\n",
      "Cafe Delhi Heights 4.0 18579363\n",
      "Cafe Coffee Day - The Square 3.8 303034\n"
     ]
    },
    {
     "data": {
      "text/plain": [
       "dict_keys(['results_found', 'results_start', 'results_shown', 'restaurants'])"
      ]
     },
     "execution_count": 63,
     "metadata": {},
     "output_type": "execute_result"
    }
   ],
   "source": [
    "r_data = rest_data['restaurants']\n",
    "r_data\n",
    "for row in r_data:\n",
    "    print(row['restaurant']['name'],row['restaurant']['user_rating']['aggregate_rating'],row['restaurant']['R']['res_id'])\n",
    "    \n"
   ]
  },
  {
   "cell_type": "raw",
   "metadata": {},
   "source": [
    "Zomato Cuisine 1.7\n",
    "Send Feedback\n",
    "Fetch the latest review of the best-rated restaurant for ‘Mexican’ cuisine with Category type ‘Cafes’ present in Connaught Place using Zomato API.\n",
    "Print the name of user ,user rating and review text.\n",
    "Note :\n",
    "Due to limitation of basic API plan it, can only fetch 5 latest review\n",
    "Output Format:\n",
    "name1 user_rating1 review_text1\n",
    "name2 user_rating2 review_text2\n",
    "name3 user_rating3 review_text3\n",
    "name4 user_rating4 review_text4\n",
    "name5 user_rating5 review_text5"
   ]
  },
  {
   "cell_type": "code",
   "execution_count": 64,
   "metadata": {},
   "outputs": [],
   "source": [
    "import requests\n",
    "import json\n",
    "\n",
    "head = {'User-agent': 'curl/7.43.0','Accept' : 'application/json', 'user-key':'b0d4fb2c198447ef690d2f98fbc4b07c'}\n",
    "param = {'res_id' : 18729557}\n",
    "resp = requests.get('https://developers.zomato.com/api/v2.1/reviews',headers=head,params=param)\n",
    "rest_data = resp.json()"
   ]
  },
  {
   "cell_type": "code",
   "execution_count": 80,
   "metadata": {},
   "outputs": [
    {
     "name": "stdout",
     "output_type": "stream",
     "text": [
      "HARSHIT CHAUHAN 5 \"Xero Degree\" Visited their CP branch recently with my friend. As i was there for some work so decided to visit this outlet.  Went there for the very first time. Their staff was very courteous. And the ambience was very cute and compact.   Let's come to the food, we've ordered for: -> Chicken & cheese naachos -> Peri peri Chicken fries -> Red velvet & Popcorn Caramel shakes   All the items were totally amazing. If you want try something unique then this is the best place. Their giant size shakes were too good and loves the uniqueness as well. I really liked their way of presentation of food and quantity they serve within that price range.  Overall we had a great experience there and highly recommend this place 👌🏻👌🏻👌🏻\n",
      "Donut Stop Eating 4 Amazing experience when we went to this outlet as it's ambience was such good. Quite little place to to enjoy some delicious meals. We ordered choco fudge waffle and cheesy fries and both yumm.\n",
      "Deeksha Arora(Taste The Joy43🍩🍫🍕🍔) 5 Today I visited xero degree, cp with my sister .The place has elegant interior , good ambience and serve yummy dishes. We had ~Peri peri fries, it was so cheesy nd tasteful. I love these fries from xero degree. (Must try) ~ White sauce pasta, Creamy cheesy nd delightful . ~ Cheesy nachos, Served with cheery on top nd wonderfully presented. ~Chicken tikka sandwich,This was so filthy nd yumm. In drinks We have tried ~Red velvet freak shake ,This was creamy nd so good as red velvet is my favorite.I really liked it. ~ Nutella choco punch, This was also good. ~ Fresh lime, Is all we need after all such yummy nd delicious food. We had a great evening at this place. I was lovely visting this outlet. Staff is so polite nd its a pocket friendly place.\n",
      "Vikas Agrawal 5 The ambience at this place is awesome and very cool. The variety is superb. I just loved the shakes and all the different dishes I tried. The presentation is superb. The dishes are mouthwatering and delicious.\n",
      "Khana Broz 5 Loved it.\n"
     ]
    }
   ],
   "source": [
    "rev = rest_data['user_reviews']\n",
    "rev[0]['review']\n",
    "for row in rev:\n",
    "    print(row['review']['user']['name'],row['review']['rating'],row['review']['review_text'])\n"
   ]
  },
  {
   "cell_type": "raw",
   "metadata": {},
   "source": [
    "Zomato restaurant Problem Detail\n",
    "Send Feedback\n",
    "Problem 2\n",
    "736 AD is Brick-walled lounge bar serving international dishes and a range of cocktails and shooters.\n",
    "You have heard from your friends that restaurant 736 A.D is quite good. So Now you want to extract the information related to restaurant 736 A.D using Zomato API.\n",
    "There is a list of questions related to restaurant 736 AD given in the next section."
   ]
  },
  {
   "cell_type": "raw",
   "metadata": {},
   "source": [
    "Zomato Restaurant 2.2\n",
    "Send Feedback\n",
    "Fetch the details of restaurant 736 AD using Zomato API.\n",
    "Print the user rating, average cost for two, cuisines and address of 736 AD.\n",
    "Output Format:\n",
    "user_rating\n",
    "average_cost_for_two\n",
    "cuisines\n",
    "address"
   ]
  },
  {
   "cell_type": "code",
   "execution_count": 109,
   "metadata": {},
   "outputs": [],
   "source": [
    "import requests\n",
    "import json\n",
    "\n",
    "head = {'User-agent': 'curl/7.43.0','Accept' : 'application/json', 'user-key':'b0d4fb2c198447ef690d2f98fbc4b07c'}\n",
    "param = {'res_id':18241524}\n",
    "resp = requests.get('https://developers.zomato.com/api/v2.1/restaurant',headers=head,params=param)\n",
    "data_rest = resp.json()\n"
   ]
  },
  {
   "cell_type": "code",
   "execution_count": 112,
   "metadata": {},
   "outputs": [
    {
     "name": "stdout",
     "output_type": "stream",
     "text": [
      "4.1\n",
      "1400\n",
      "North Indian, Continental, Italian, Chinese\n",
      "G-15/B, Vijay Nagar, New Delhi\n"
     ]
    }
   ],
   "source": [
    "print(data_rest['user_rating']['aggregate_rating'])\n",
    "print(data_rest['average_cost_for_two'])\n",
    "print(data_rest['cuisines'])\n",
    "print(data_rest['location']['address'])\n",
    "\n"
   ]
  },
  {
   "cell_type": "code",
   "execution_count": 115,
   "metadata": {},
   "outputs": [
    {
     "name": "stdout",
     "output_type": "stream",
     "text": [
      "yes\n"
     ]
    }
   ],
   "source": [
    "if data_rest['is_table_reservation_supported'] == 1:\n",
    "    print('yes')\n",
    "else:\n",
    "    print('no')"
   ]
  },
  {
   "cell_type": "raw",
   "metadata": {},
   "source": [
    "Zomato Restaurant 2.4\n",
    "Send Feedback\n",
    "Fetch the latest review of restaurant 736 AD using Zomato API.\n",
    "Print the name of user ,user rating and review text.\n",
    "Note :\n",
    "Due to limitation of basic API plan, it can only fetch 5 latest review\n",
    "Output Format:\n",
    "name1 user_rating1 review_text1\n",
    "name2 user_rating2 review_text2\n",
    "name3 user_rating3 review_text3\n",
    "name4 user_rating4 review_text4\n",
    "name5 user_rating5 review_text5\n"
   ]
  },
  {
   "cell_type": "code",
   "execution_count": 116,
   "metadata": {},
   "outputs": [],
   "source": [
    "import requests\n",
    "import json\n",
    "\n",
    "head = {'User-agent': 'curl/7.43.0','Accept' : 'application/json', 'user-key':'b0d4fb2c198447ef690d2f98fbc4b07c'}\n",
    "param = {'res_id':18241524}\n",
    "resp = requests.get('https://developers.zomato.com/api/v2.1/reviews',headers=head,params=param)\n",
    "data_rest = resp.json()\n"
   ]
  },
  {
   "cell_type": "code",
   "execution_count": 117,
   "metadata": {},
   "outputs": [
    {
     "name": "stdout",
     "output_type": "stream",
     "text": [
      "Mahima Mittal 5 Today I visited 736 A.D. cafe with my friend. The theme was ancient and the ambience is soo beautiful.   Ancient theme is a very unique idea and they had maintained it soo nicely. It is cafe and bar. They have rooftop sitting also and they also provide smoking area. I enjoyed this place with some great dishes and drinks.   For starters, I had chilly panner and dry manchurian, they are dam tasty. The price is worth according to the taste and quantity.   Then we had main course dal makhani and butter naan. The naan was crunchy and the dal makhani is awesome.     Last but not the least Drinks are important soo i ordered vergin mojito and mix fruit mojito which was very refreshing.     The thing i like most is music system which had maded my day more special. The place is good for birthday parties. Everything was amazing and the service was really good. I like  the place very much. Hope to visit soon.\n",
      "Divyansh Shukla 4 This place is one of the best among all the cafe or party places on hudson lane according to me  It's an ancient theme cafe and bar with good ambience and food  I tried white sauce pasta, chilli potato, kitkat shake and a pizza. All of them were good in taste specially white sauce pasta and kitkat shake Services were also very good and upto the mark  Food 4/5 Service 4/5 Ambience 4/5\n",
      "Hina Vohra 5 \n",
      "Nancy Chopra 5 One of my favourite places here in hudson lane is this place. The food here is just amazing and quantity they offer is also good. Prices are relatively low and service provided is great. My favourite food from here is fish fingers. You must try it. They also offer delicious pizzas both veg and non veg. The ambience here is lit and staff is courteous too. A must visit cafe.\n",
      "Arjita Jhingran 2 The service is very slow. The food was also not up to the mark.\n"
     ]
    }
   ],
   "source": [
    "rev = data_rest['user_reviews']\n",
    "for row in rev:\n",
    "    print(row['review']['user']['name'],row['review']['rating'],row['review']['review_text'])"
   ]
  },
  {
   "cell_type": "raw",
   "metadata": {},
   "source": [
    "Zomato Distance Problem\n",
    "Send Feedback\n",
    "Distance is also a very important factor while selecting a restaurant. Suppose you are at Coding Ninjas and you want to select the restaurant which is near to you using Zomato API.\n",
    "Note down the latitude and longitude of Coding Ninjas using Google Maps\n",
    "There is a list of questions related to restaurant near me given in the next section."
   ]
  },
  {
   "cell_type": "code",
   "execution_count": null,
   "metadata": {},
   "outputs": [],
   "source": [
    "Zomato distance 3.1\n",
    "Send Feedback\n",
    "Fetch the cuisine_id of of cuisine ‘BBQ’ using Zomato API.\n",
    "Print the cuisine_id\n",
    "Output Format:\n",
    "cuisine_id"
   ]
  },
  {
   "cell_type": "code",
   "execution_count": 119,
   "metadata": {},
   "outputs": [
    {
     "name": "stdout",
     "output_type": "stream",
     "text": [
      "193\n"
     ]
    }
   ],
   "source": [
    "import requests\n",
    "import json\n",
    "\n",
    "response = requests.get('https://developers.zomato.com/api/v2.1/cuisines',headers={'Accept' : 'application/json', 'user-key':'b0d4fb2c198447ef690d2f98fbc4b07c'},params={'city_id':1})\n",
    "new_data = response.json()\n",
    "cuisines = new_data['cuisines']\n",
    "for row in cuisines:\n",
    "    if row['cuisine']['cuisine_name'] == 'BBQ':\n",
    "        print(row['cuisine']['cuisine_id'])"
   ]
  },
  {
   "cell_type": "raw",
   "metadata": {},
   "source": [
    " Zomato distance 3.2\n",
    "Send Feedback\n",
    "Fetch the list of the top 10 restaurants serving cuisine ‘BBQ’ which are nearest to Coding Ninjas.\n",
    "Print the restaurant name, user rating, restaurant id and locality in which restaurant is present.\n",
    "Output Format:\n",
    "name_1 rating_1 id_1 locality_1\n",
    "name_2 rating_2 id_2 locality_2\n",
    "name_3 rating_3 id_3 locality_3\n",
    ". . .\n",
    "\n",
    ". . ."
   ]
  },
  {
   "cell_type": "code",
   "execution_count": 151,
   "metadata": {},
   "outputs": [
    {
     "name": "stdout",
     "output_type": "stream",
     "text": [
      "Themis Barbecue House 4.6 18204820 Netaji Subhash Place\n",
      "Barbeque Nation 4.1 9561 Netaji Subhash Place\n",
      "Treat India Restaurant 0 19325355 Pitampura\n",
      "Bengal Bar-Be-Que 3.5 19250749 Pitampura\n",
      "New Bombay Bar-Be-Que 3.6 5303 Prashant Vihar\n",
      "UBQ by Barbeque Nation 3.7 19082741 Lawrence Road\n",
      "Moet's Barbeque 0 19238917 Alipur\n",
      "UBQ by Barbeque Nation 3.8 18889760 Rohini\n",
      "Kays Bar-Be-Que 3.8 3079 Ashok Vihar Phase 1\n",
      "7teen BBQ Bistro Bnq 3.8 18595610 Moti Nagar\n"
     ]
    }
   ],
   "source": [
    "import requests\n",
    "import json\n",
    "\n",
    "head = {'User-agent': 'curl/7.43.0','Accept' : 'application/json', 'user-key':'b0d4fb2c198447ef690d2f98fbc4b07c'}\n",
    "param = {'lat': 28.698228,'lon': 77.140493,'cuisines':193,'sort':'real_distance','count':10,'order':'asc'}\n",
    "resp = requests.get('https://developers.zomato.com/api/v2.1/search',headers=head,params=param)\n",
    "data_rest = resp.json()\n",
    "rest = data_rest['restaurants']\n",
    "\n",
    "for row in rest:\n",
    "    print(row['restaurant']['name'],row['restaurant']['user_rating']['aggregate_rating'],row['restaurant']['id'],row['restaurant']['location']['locality'])\n"
   ]
  },
  {
   "cell_type": "raw",
   "metadata": {},
   "source": [
    "Zomato distance 3.3\n",
    "Send Feedback\n",
    "Fetch the latest review of the restaurant serving cuisine ‘BBQ’ which is most nearest to Coding ninjas?\n",
    "Print the name of user ,user rating and review text.\n",
    "Note :\n",
    "Due to limitation of basic API plan it, can only fetch 5 latest review\n",
    "Output Format:\n",
    "name1 user_rating1 review_text1\n",
    "name2 user_rating2 review_text2\n",
    "name3 user_rating3 review_text3\n",
    "name4 user_rating4 review_text4\n",
    "name5 user_rating5 review_text5"
   ]
  },
  {
   "cell_type": "code",
   "execution_count": 147,
   "metadata": {},
   "outputs": [
    {
     "name": "stdout",
     "output_type": "stream",
     "text": [
      "Ashwani Yadav 5 \n",
      "Mittika Singal 5 \n",
      "Mohit Kumar 5 Hospitality provided by Mr Bhanu was very good. Very nice place for marriage anniversary celebration.\n",
      "Saul Robinson 5 Bhanu was soo nice to us and he even provided us the best service...... Xoxoxox\n",
      "Sam Massey 5 Bhanu was a cherry on top, he was nice and polite really good service. The staff was very responsive and attentive.\n"
     ]
    }
   ],
   "source": [
    "import requests\n",
    "import json\n",
    "\n",
    "head = {'User-agent': 'curl/7.43.0','Accept' : 'application/json', 'user-key':'b0d4fb2c198447ef690d2f98fbc4b07c'}\n",
    "param = {'res_id':18204820}\n",
    "resp = requests.get('https://developers.zomato.com/api/v2.1/reviews',headers=head,params=param)\n",
    "data_rest = resp.json()\n",
    "rev = data_rest['user_reviews']\n",
    "for row in rev:\n",
    "    print(row['review']['user']['name'],row['review']['rating'],row['review']['review_text'])\n"
   ]
  },
  {
   "cell_type": "raw",
   "metadata": {},
   "source": [
    "Zomato distance 3.4\n",
    "Send Feedback\n",
    "Experiment with the radius parameter that is present in ‘GET/search’. Fetch the list of top 10 best-restaurant present in a radius of 4 km of coding ninjas.\n",
    "Print the restaurant name, user rating, restaurant id and locality in which restaurant is present.\n",
    "Output Format:\n",
    "name_1 rating_1 id_1 locality_1\n",
    "name_2 rating_2 id_2 locality_2\n",
    "name_3 rating_3 id_3 locality_3\n",
    ". . .\n",
    ". . ."
   ]
  },
  {
   "cell_type": "code",
   "execution_count": 153,
   "metadata": {},
   "outputs": [
    {
     "name": "stdout",
     "output_type": "stream",
     "text": [
      "Indian Accent 4.9 2004 The Lodhi, Lodhi Road\n",
      "Dana Choga 4.9 549 Sector 14\n",
      "The Yellow Chilli 4.9 1345 Pacific Mall, Sahibabad\n",
      "Rosy's Kitchen 4.9 19190008 Preet Vihar\n",
      "Butter Singh 4.9 19134350 Sector 28\n",
      "Gastronomica Kitchen & Bar 4.8 310776 M Block Market, Greater Kailash 1 (GK1)\n",
      "Hauz Khas Social 4.8 308322 Hauz Khas Village\n",
      "Ah So Yum 4.8 18945610 Golf Course Road\n",
      "SashMicks Bakery 4.8 18596159 Indirapuram Habitat Centre, Indirapuram\n",
      "Chili's Grill & Bar 4.8 7957 Ambience Mall, DLF Phase 3\n"
     ]
    }
   ],
   "source": [
    "import requests\n",
    "import json\n",
    "\n",
    "head = {'User-agent': 'curl/7.43.0','Accept' : 'application/json', 'user-key':'b0d4fb2c198447ef690d2f98fbc4b07c'}\n",
    "param = {'lat': 28.698228,'lon': 77.140493,'sort':'rating','count':10,'radius':4000}\n",
    "resp = requests.get('https://developers.zomato.com/api/v2.1/search',headers=head,params=param)\n",
    "data_rest = resp.json()\n",
    "rest = data_rest['restaurants']\n",
    "\n",
    "for row in rest:\n",
    "    print(row['restaurant']['name'],row['restaurant']['user_rating']['aggregate_rating'],row['restaurant']['id'],row['restaurant']['location']['locality'])\n"
   ]
  },
  {
   "cell_type": "raw",
   "metadata": {},
   "source": [
    "Zomato distance 3.5\n",
    "Send Feedback\n",
    "Compare the location of the restaurant whether really they are in a distance of 4 km to Coding Ninjas. Find out whether these API radius feature is working or not.\n",
    "Print 'yes' if radius feature work else print 'no'.\n",
    "Note :\n",
    "Use google search to find whether restaurant lie in range of 4km or not.\n",
    "Output Format:\n",
    "yes/no"
   ]
  }
 ],
 "metadata": {
  "kernelspec": {
   "display_name": "Python 3",
   "language": "python",
   "name": "python3"
  },
  "language_info": {
   "codemirror_mode": {
    "name": "ipython",
    "version": 3
   },
   "file_extension": ".py",
   "mimetype": "text/x-python",
   "name": "python",
   "nbconvert_exporter": "python",
   "pygments_lexer": "ipython3",
   "version": "3.7.4"
  }
 },
 "nbformat": 4,
 "nbformat_minor": 2
}
