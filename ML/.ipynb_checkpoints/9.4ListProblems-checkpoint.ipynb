{
 "cells": [
  {
   "cell_type": "raw",
   "metadata": {},
   "source": [
    "Given a 2D integer array of size M*N, find and print the sum of ith row elements separated by space.\n",
    "Line 1 : Two integers M and N (separated by space) \n",
    "Line 2 : Matrix elements of each row (separated by space)\n",
    "Sum of every ith row elements (separated by space)\n"
   ]
  },
  {
   "cell_type": "code",
   "execution_count": 3,
   "metadata": {},
   "outputs": [
    {
     "name": "stdout",
     "output_type": "stream",
     "text": [
      "4 3\n",
      "1 2 3 3 4 5 6 7 8 9 10 11\n",
      "6 12 21 30 "
     ]
    }
   ],
   "source": [
    "size = input().split()\n",
    "m = int(size[0])\n",
    "n = int(size[1])\n",
    "\n",
    "l = [int(i) for i in input().split()]\n",
    "\n",
    "ll = []\n",
    "\n",
    "for i in range(m):\n",
    "    strt = n * i\n",
    "    end = (i+1) * n\n",
    "    ll.append(l[strt:end])\n",
    "for i in range(m):\n",
    "    sum = 0\n",
    "    for j in range(n):\n",
    "        sum += ll[i][j]\n",
    "    print(sum,end=' ')\n",
    "\n"
   ]
  },
  {
   "cell_type": "code",
   "execution_count": 5,
   "metadata": {},
   "outputs": [
    {
     "name": "stdout",
     "output_type": "stream",
     "text": [
      "4 3\n",
      "1 2 3 3 4 5 6 7 8 9 10 11\n",
      "6   1 2   2 1   3 0\n"
     ]
    }
   ],
   "source": [
    "## putting above solution using function\n",
    "def rowWiseSum(arr):\n",
    "    m = len(arr)\n",
    "    out =''\n",
    "    if m == 0:\n",
    "        out='0'\n",
    "        return out\n",
    "    n = len(arr[0])\n",
    "    for i in range(m):\n",
    "        sum = 0\n",
    "        if i != 0:\n",
    "            out = out + ' '            \n",
    "        for j in range(n):\n",
    "            sum += ll[i][j]\n",
    "        out = out + str(sum)\n",
    "    return out\n",
    "    \n",
    "\n",
    "#Main\n",
    "m, n=(int(i) for i in input().strip().split(' '))\n",
    "l=[int(i) for i in input().strip().split(' ')]\n",
    "arr = [ [ l[(j*n)+i] for i in range(n)] for j in range(m)]\n",
    "l=rowWiseSum(arr)\n",
    "print(*l)"
   ]
  },
  {
   "cell_type": "raw",
   "metadata": {},
   "source": [
    "Given a two dimensional n*m array, print the array in a sine wave order. i.e. print the first column top to bottom, next column bottom to top and so on.\n",
    "Note : Print the elements separated by space.\n",
    "Input format :\n",
    "n, m, array elements (separated by space)\n",
    "Sample Input :\n",
    "3 4 1  2  3  4 5  6  7  8 9 10 11 12\n",
    "Sample Output :\n",
    "1 5 9 10 6 2 3 7 11 12 8 4"
   ]
  },
  {
   "cell_type": "code",
   "execution_count": 9,
   "metadata": {},
   "outputs": [
    {
     "name": "stdout",
     "output_type": "stream",
     "text": [
      "3 4 1 2 3 4 5 6 7 8 9 10 11 12\n",
      "1 5 9 10 6 2 3 7 11 12 8 4 "
     ]
    }
   ],
   "source": [
    "def wavePrint(arr):\n",
    "    m = len(arr)\n",
    "    if m == 0:\n",
    "        return\n",
    "    n = len(arr[0])\n",
    "    for i in range(n):\n",
    "        if i % 2 == 0:\n",
    "            for j in range(m):\n",
    "                print(arr[j][i],end=' ')\n",
    "        else :\n",
    "            j = m-1\n",
    "            while j >=0:\n",
    "                print(arr[j][i],end=' ')\n",
    "                j -= 1\n",
    "    \n",
    "\n",
    "#Main\n",
    "l=[int(i) for i in input().strip().split(' ')]\n",
    "m, n=l[0], l[1]\n",
    "arr = [ [ l[(j*n)+i+2] for i in range(n)] for j in range(m)]\n",
    "wavePrint(arr)"
   ]
  },
  {
   "cell_type": "code",
   "execution_count": null,
   "metadata": {},
   "outputs": [],
   "source": [
    "l=[int(i) for i in input().strip().split(' ')]\n",
    "m, n=l[0], l[1]\n",
    "arr = [ [ l[(j*n)+i+2] for i in range(n)] for j in range(m)]\n",
    "wavePrint(arr)\n"
   ]
  },
  {
   "cell_type": "raw",
   "metadata": {},
   "source": [
    "Remove Consecutive Duplicates\n",
    "Given a string, remove all the consecutive duplicates that are present in the given string. That means, if 'aaa' is present in the string then it should become 'a' in the output string.\n",
    "Sample Input:\n",
    "aabccbaa\n",
    "Sample Output:\n",
    "abcba\n",
    "\n"
   ]
  },
  {
   "cell_type": "code",
   "execution_count": 16,
   "metadata": {},
   "outputs": [
    {
     "name": "stdout",
     "output_type": "stream",
     "text": [
      "aabccf\n",
      "abcf\n"
     ]
    }
   ],
   "source": [
    "s = input()\n",
    "a = list(s)\n",
    "ind = []\n",
    "fin = a\n",
    "for i in range(1,len(a)):\n",
    "    if a[i] == a[i-1]:\n",
    "        ind.append(i)\n",
    "for k in range(len(ind)-1,-1,-1):\n",
    "    fin.pop(ind[k])\n",
    "\n",
    "s_f = ''\n",
    "s_f = s_f.join(fin)\n",
    "print(s_f)\n",
    "    \n",
    "    "
   ]
  },
  {
   "cell_type": "raw",
   "metadata": {},
   "source": [
    "Given a string S, reverse each word of a string individually. For eg. if a string is \"abc def\", reversed string should be \"cba fed\".\n"
   ]
  },
  {
   "cell_type": "code",
   "execution_count": 19,
   "metadata": {},
   "outputs": [
    {
     "name": "stdout",
     "output_type": "stream",
     "text": [
      "my coding is goof\n",
      "ym gnidoc si foog\n"
     ]
    }
   ],
   "source": [
    "i = input()\n",
    "li = i.split()\n",
    "\n",
    "for j in range(len(li)):\n",
    "    li[j] = li[j][::-1]\n",
    "st = ' '\n",
    "st = st.join(li)\n",
    "print(st)"
   ]
  },
  {
   "cell_type": "code",
   "execution_count": null,
   "metadata": {},
   "outputs": [],
   "source": [
    "## Read input as specified in the question.\n",
    "## Print output as specified in the question.\n",
    "string = input()\n",
    "count = [0] * 256\n",
    "\n",
    "\n",
    "for i in range(len(string)):\n",
    "    a = ord(string[i])\n",
    "    count[a] += 1\n",
    "count_a = 0\n",
    "out = ''\n",
    "for j in range(len(string)):\n",
    "    if count[ord(string[j])] > count_a:\n",
    "        count_a = count[ord(string[j])]\n",
    "        out = string[j]\n",
    "print(out)\n",
    "        \n",
    "    \n",
    "\n"
   ]
  },
  {
   "cell_type": "raw",
   "metadata": {},
   "source": [
    "Arrange Numbers in Array\n",
    "Send Feedback\n",
    "Given a number n, put all elements from 1 to n in an array in order - 1,3,.......4,2.\n",
    "Input Format :\n",
    " Integer n\n",
    "Output Format :\n",
    " Elements of the array separated by space.\n",
    "Sample Input 1 :\n",
    "6\n",
    "Sample Output 1 :\n",
    " 1 3 5 6 4 2"
   ]
  },
  {
   "cell_type": "code",
   "execution_count": null,
   "metadata": {},
   "outputs": [],
   "source": [
    "n = int(input())\n",
    "\n",
    "for i in range(1,n+1,2):\n",
    "    print(i,end=' ')\n",
    "    \n",
    "if n % 2 == 0:\n",
    "    strt = n\n",
    "else :\n",
    "    strt = n-1\n",
    "for j in range(strt,0,-2):\n",
    "    print(j,end=' ')"
   ]
  },
  {
   "cell_type": "raw",
   "metadata": {},
   "source": [
    "Leaders in array\n",
    "Send Feedback\n",
    "Given an integer array A of size n. Find and print all the leaders present in the input array. An array element A[i] is called Leader, if all the elements following it (i.e. present at its right) are less than or equal to A[i].\n",
    "Print all the leader elements separated by space and in the same order they are present in the input array.\n",
    "Input Format :\n",
    "Line 1 : Integer n, size of array\n",
    "Line 2 : Array A elements (separated by space)\n",
    "Output Format :\n",
    " leaders of array (separated by space)\n",
    "Constraints :\n",
    "1 <= n <= 10^6\n",
    "Sample Input 1 :\n",
    "6\n",
    "3 12 34 2 0 -1"
   ]
  },
  {
   "cell_type": "code",
   "execution_count": 1,
   "metadata": {},
   "outputs": [
    {
     "name": "stdout",
     "output_type": "stream",
     "text": [
      "5\n",
      "13 17 5 4 6\n",
      "17 6 "
     ]
    }
   ],
   "source": [
    "size = int(input())\n",
    "li = [int(i) for i in input().split()]\n",
    "\n",
    "maxm = 0\n",
    "li_new = []\n",
    "for j in range(size-1,-1,-1):\n",
    "    if li[j] > maxm:\n",
    "        maxm = li[j]\n",
    "        li_new.append(maxm)\n",
    "li_new = li_new[::-1]\n",
    "for k in li_new:\n",
    "    print(k,end=' ')\n",
    "\n",
    "        "
   ]
  },
  {
   "cell_type": "raw",
   "metadata": {},
   "source": [
    "Maximise the sum\n",
    "Send Feedback\n",
    "Given 2 sorted arrays (in increasing order), find a path through the intersections that produces maximum sum and return the maximum sum.\n",
    "That is, we can switch from one array to another array only at common elements.\n",
    "If no intersection element is present, we need to take sum of all elements from the array with greater sum.\n",
    "Input Format :\n",
    " Line 1 : An integer M i.e. size of first array\n",
    " Line 2 : M integers which are elements of first array, separated by spaces\n",
    " Line 3 : An integer N i.e. size of second array\n",
    " Line 4 : N integers which are elements of second array, separated by spaces\n",
    "Output Format :\n",
    "Maximum sum value\n",
    "Constraints :\n",
    "1 <= M, N <= 10^6\n",
    "Sample Input :\n",
    "6\n",
    "1 5 10 15 20 25\n",
    "5\n",
    "2 4 5 9 15\n",
    "Sample Output :\n",
    "81\n",
    "Sample Output Explanation :\n",
    "We start from array 2 and take sum till 5 (sum = 11). Then we'll switch to array at element 10 and take till 15. So sum = 36. Now, no elements left in array after 15, so we'll continue in array 1. Hence sum is 81"
   ]
  },
  {
   "cell_type": "code",
   "execution_count": 6,
   "metadata": {},
   "outputs": [
    {
     "name": "stdout",
     "output_type": "stream",
     "text": [
      "6\n",
      "1 5 10 15 20 25\n",
      "5\n",
      "2 4 5 9 15\n",
      "81\n"
     ]
    }
   ],
   "source": [
    "size1 = int(input())\n",
    "li1 = [int(i) for i in input().split()]\n",
    "size2 = int(input())\n",
    "li2 = [int(i) for i in input().split()]\n",
    "\n",
    "\n",
    "def maxPathSum(ar1,ar2 , m , n): \n",
    "      \n",
    "    # initialize indexes for ar1[] and ar2[] \n",
    "    i, j = 0, 0\n",
    "      \n",
    "    # Initialize result and current sum through ar1[] and ar2[] \n",
    "    result, sum1, sum2= 0, 0, 0\n",
    "      \n",
    "    # Below 3 loops are similar to merge in merge sort \n",
    "    while (i < m and j < n): \n",
    "        \n",
    "        # Add elements of ar1[] to sum1 \n",
    "        if ar1[i] < ar2[j]: \n",
    "            sum1 += ar1[i] \n",
    "            i+=1\n",
    "          \n",
    "        # Add elements of ar2[] to sum1     \n",
    "        elif ar1[i] > ar2[j]: \n",
    "            sum2 += ar2[j] \n",
    "            j+=1\n",
    "          \n",
    "        else:   # we reached a common point \n",
    "          \n",
    "            # Take the maximum of two sums and add to result \n",
    "            result+= max(sum1,sum2) \n",
    "              \n",
    "            # Update sum1 and sum2 for elements after this intersection point \n",
    "            sum1, sum2 = 0, 0\n",
    "              \n",
    "            # Keep updating result while there are more common elements \n",
    "            while (i < m and j < n and ar1[i]==ar2[j]): \n",
    "                result += ar1[i] \n",
    "                i+=1\n",
    "                j+=1\n",
    "      \n",
    "    # Add remaining elements of ar1[] \n",
    "    while i < m: \n",
    "        sum1 += ar1[i] \n",
    "        i+=1\n",
    "    # Add remaining elements of b[] \n",
    "    while j < n: \n",
    "        sum2 += ar2[j] \n",
    "        j+=1\n",
    "      \n",
    "    # Add maximum of two sums of remaining elements \n",
    "    result += max(sum1,sum2) \n",
    "      \n",
    "    return result \n",
    "print(maxPathSum(li1,li2,size1,size2))"
   ]
  },
  {
   "cell_type": "raw",
   "metadata": {},
   "source": [
    "Largest Row or Column\n",
    "Send Feedback\n",
    "Given an NxM 2D array, you need to find out which row or column has largest sum (sum of its elements) overall amongst all rows and columns.\n",
    "Input Format :\n",
    " Line 1 : 2 integers N and M respectively, separated by space \n",
    " Line 2: Single line having N*M elements entered in row wise manner, each separated by space.\n",
    "Output Format :\n",
    " If row sum is maximum then - \"row\" row_num max_sum\n",
    " If column sum is maximum then - \"column\" col_num max_sum\n",
    "Note : If there are more than one rows/columns with maximum sum consider the row/column that comes first. And if ith row and jth column has same sum (which is largest), consider the ith row as answer.\n",
    "Sample Input 1 :\n",
    "2 2 \n",
    "1 1 1 1\n",
    "Sample Output 1 :\n",
    "row 0 2\n",
    "Sample Input 2 :\n",
    "3 3\n",
    "3 6 9 1 4 7 2 8 9\n",
    "Sample Output 2 :\n",
    "column 2 25"
   ]
  },
  {
   "cell_type": "code",
   "execution_count": 10,
   "metadata": {},
   "outputs": [
    {
     "name": "stdout",
     "output_type": "stream",
     "text": [
      "3 3\n",
      "3 6 9 1 4 7 2 8 9\n",
      "r o w   2   1 9\n"
     ]
    }
   ],
   "source": [
    "def largestRowCol(arr):\n",
    "    row_size = len(arr)\n",
    "    if row_size != 0:\n",
    "        col_size = len(arr[0])\n",
    "    row,col = 0,0\n",
    "    max_sum_r,max_sum_c  = 0,0\n",
    "    for i in range(row_size):\n",
    "        sum1 = 0\n",
    "        for j in range(col_size):\n",
    "            sum1 += arr[i][j]\n",
    "        if sum1 > max_sum_r :\n",
    "            row = i\n",
    "            max_sum_r = sum1\n",
    "    for j in range(col_size):\n",
    "        sum2 = 0\n",
    "        for i in range(row_size):\n",
    "            sum2 += arr[i][j]\n",
    "        if sum2 > max_sum_c :\n",
    "            col = j\n",
    "            max_sum_c = sum2\n",
    "    if max_sum_r >= max_sum_c:\n",
    "        print('row',row,max_sum_r)\n",
    "    else:\n",
    "        print('column',col,max_sum_c)\n",
    "        \n",
    "\n",
    "#Main\n",
    "m, n=(int(i) for i in input().strip().split(' '))\n",
    "l=[int(i) for i in input().strip().split(' ')]\n",
    "arr = [ [ l[(j*n)+i] for i in range(n)] for j in range(m)]\n",
    "largestRowCol(arr)\n",
    "\n"
   ]
  },
  {
   "cell_type": "raw",
   "metadata": {},
   "source": [
    "Print spiral\n",
    "Send Feedback\n",
    "Given an N*M 2D array, print it in spiral form. That is, first you need to print the 1st row, then last column, then last row and then first column and so on.\n",
    "Print every element only once.\n",
    "Input format :\n",
    "Line 1 : N and M, No. of rows & No. of columns (separated by space) followed by N*M  elements in row wise fashion.\n",
    "Sample Input :\n",
    " 4 4 1 2 3 4 5 6 7 8 9 10 11 12 13 14 15 16\n",
    "Sample Output :\n",
    "1 2 3 4 8 12 16 15 14 13 9 5 6 7 11 10 "
   ]
  },
  {
   "cell_type": "code",
   "execution_count": null,
   "metadata": {},
   "outputs": [],
   "source": [
    "def spiralPrint(arr,m,n):\n",
    "    k,i,j = 0,0,0\n",
    "    while k < m*n:\n",
    "        while j < n:\n",
    "            print(arr[i][j])\n",
    "            j += 1\n",
    "        \n",
    "        \n",
    "    \n",
    "\n",
    "#Main\n",
    "l=[int(i) for i in input().strip().split(' ')]\n",
    "m, n=l[0], l[1]\n",
    "arr = [ [ l[(j*n)+i+2] for i in range(n)] for j in range(m)]\n",
    "spiralPrint(arr,m,n)\n"
   ]
  }
 ],
 "metadata": {
  "kernelspec": {
   "display_name": "Python 3",
   "language": "python",
   "name": "python3"
  },
  "language_info": {
   "codemirror_mode": {
    "name": "ipython",
    "version": 3
   },
   "file_extension": ".py",
   "mimetype": "text/x-python",
   "name": "python",
   "nbconvert_exporter": "python",
   "pygments_lexer": "ipython3",
   "version": "3.7.4"
  }
 },
 "nbformat": 4,
 "nbformat_minor": 2
}
