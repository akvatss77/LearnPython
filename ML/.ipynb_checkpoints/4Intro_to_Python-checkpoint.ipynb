{
 "cells": [
  {
   "cell_type": "markdown",
   "metadata": {},
   "source": [
    "## Properties of jupyter Cells\n",
    "\n",
    "1. It allows you to make the cell either for code or for Markdown\n",
    "2. Now this cell is a markdown cell and next cell will be a code cell.\n",
    "3. To run this cell : Ctrl + Enter.\n",
    "4. To run this cell and create new cell below : Alt + Enter.\n"
   ]
  },
  {
   "cell_type": "code",
   "execution_count": 3,
   "metadata": {},
   "outputs": [
    {
     "name": "stdout",
     "output_type": "stream",
     "text": [
      "Hello\n",
      "world\n"
     ]
    },
    {
     "data": {
      "text/plain": [
       "10"
      ]
     },
     "execution_count": 3,
     "metadata": {},
     "output_type": "execute_result"
    }
   ],
   "source": [
    "#Code\n",
    "\n",
    "print ('Hello')\n",
    "print (\"world\")\n",
    "10"
   ]
  },
  {
   "cell_type": "markdown",
   "metadata": {},
   "source": [
    "**you see that in the above cell :**\n",
    "In the above cell something can be printed by 2 ways:\n",
    "- If we use print command to print something.\n",
    "- Or it is the output of the last line.\n",
    "\n",
    "In the below cell we will see how output of the last line is printed when we run it.<br>\n",
    "The symbol \" In [n] \" before every cell: Here n represents the no. of time the code has been executed.\n"
   ]
  },
  {
   "cell_type": "code",
   "execution_count": 5,
   "metadata": {},
   "outputs": [
    {
     "data": {
      "text/plain": [
       "33"
      ]
     },
     "execution_count": 5,
     "metadata": {},
     "output_type": "execute_result"
    }
   ],
   "source": [
    "a = 10\n",
    "b = 23\n",
    "a + b"
   ]
  },
  {
   "cell_type": "code",
   "execution_count": 10,
   "metadata": {},
   "outputs": [
    {
     "name": "stdout",
     "output_type": "stream",
     "text": [
      "sum\n",
      "40\n"
     ]
    }
   ],
   "source": [
    "sum = a + 30\n",
    "print ('sum')\n",
    "print (sum)"
   ]
  },
  {
   "cell_type": "markdown",
   "metadata": {},
   "source": [
    "In the above cell you can see that we have defined a new variable sum which stores a + 30<br>now to print it we can use print(sum) without using single or double quotes , but if we want to print the string \"sum\" we need to give single or double quotes."
   ]
  },
  {
   "cell_type": "markdown",
   "metadata": {},
   "source": [
    "### Naming the varaibles :\n",
    "- It can have lowercase alphabets\n",
    "- It can have uppercase alphabets\n",
    "- It can have numbers in the name.\n",
    "- It can have underscore \"_\".\n",
    "- It can't start with numbers though it can start with underscore."
   ]
  },
  {
   "cell_type": "code",
   "execution_count": 2,
   "metadata": {},
   "outputs": [],
   "source": [
    "abc=20\n",
    "_abc=2\n",
    "# 9abc = 45    -- this variable name is not allowed in python\n",
    "# \"#\" is used to comment in python -- the code which you don't want python to interpret\n"
   ]
  },
  {
   "cell_type": "markdown",
   "metadata": {},
   "source": [
    "## How storage works in Python vs Java\n",
    "\n",
    "In Java/C++ we need to define data type i.e. int , float, char etc.\n",
    "The moment we define the datatype the fixed storage is designated to the variable and it doesn't changes till the lifetime of the variable.\n",
    "\n",
    "**Assigning different type of data to a variable**\n",
    "\n",
    "In Python when we write \"a = 10\"\n",
    "\"a\" only stores the address and it doesn't really stores 10.<br>\n",
    "if we in next line say \"a = 20\" ,\"a\" will now store the address of 20.<br>\n",
    "So \"a\" basically stores address therefore we can say a='excel' and it will be correct as it just stores the address of 'excel'\n"
   ]
  },
  {
   "cell_type": "code",
   "execution_count": 7,
   "metadata": {},
   "outputs": [
    {
     "name": "stdout",
     "output_type": "stream",
     "text": [
      "kites\n"
     ]
    }
   ],
   "source": [
    "j=20\n",
    "j=34\n",
    "j='kites'\n",
    "print (j) \n"
   ]
  },
  {
   "cell_type": "code",
   "execution_count": 10,
   "metadata": {},
   "outputs": [
    {
     "name": "stdout",
     "output_type": "stream",
     "text": [
      "<class 'int'>\n",
      "<class 'str'>\n"
     ]
    }
   ],
   "source": [
    "#we can use type function to check the type of data stored by the variable\n",
    "type(j)\n",
    "\n",
    "j = 10\n",
    "print(type(j))\n",
    "j='akiban'\n",
    "print(type(j))"
   ]
  },
  {
   "cell_type": "markdown",
   "metadata": {},
   "source": [
    "## Python Numbers\n",
    "\n",
    "We can store integers, decimals and complex numbers as well"
   ]
  },
  {
   "cell_type": "code",
   "execution_count": 15,
   "metadata": {},
   "outputs": [
    {
     "name": "stdout",
     "output_type": "stream",
     "text": [
      "10\n",
      "12.87\n",
      "(5+6j)\n",
      "<class 'int'>\n",
      "<class 'float'>\n",
      "<class 'complex'>\n"
     ]
    }
   ],
   "source": [
    "num1=10\n",
    "num2=12.87\n",
    "num3=5+6j\n",
    "print(num1)\n",
    "print(num2)\n",
    "print(num3)\n",
    "\n",
    "print(type(num1))\n",
    "print(type(num2))\n",
    "print(type(num3))"
   ]
  },
  {
   "cell_type": "markdown",
   "metadata": {},
   "source": [
    "### what happens when we do some operation on a python variable"
   ]
  },
  {
   "cell_type": "code",
   "execution_count": 19,
   "metadata": {},
   "outputs": [
    {
     "data": {
      "text/plain": [
       "13"
      ]
     },
     "execution_count": 19,
     "metadata": {},
     "output_type": "execute_result"
    }
   ],
   "source": [
    "k = 10\n",
    "k = k + 3\n",
    "k"
   ]
  },
  {
   "cell_type": "markdown",
   "metadata": {},
   "source": [
    "In the above cell : first  K stores the address of storage which contains two things the metadata info and the value\n",
    "lets say the address is 51<br>\n",
    "When we do this operation a new storage address will be provided to k in which new value with metadata info will be stored<br>\n",
    "Lets say the new address value will be 92<br>\n",
    "Now how can we check this:"
   ]
  },
  {
   "cell_type": "code",
   "execution_count": 21,
   "metadata": {},
   "outputs": [
    {
     "name": "stdout",
     "output_type": "stream",
     "text": [
      "140723349224160\n",
      "140723349224320\n"
     ]
    }
   ],
   "source": [
    "m = 96\n",
    "print(id(m))\n",
    "\n",
    "m = m +5\n",
    "print(id(m))"
   ]
  },
  {
   "cell_type": "markdown",
   "metadata": {},
   "source": [
    "We can see both the address ids are different which means the operation doesn't happen at the same storage.\n",
    "Now below we will look how python optimizes its space.\n"
   ]
  },
  {
   "cell_type": "code",
   "execution_count": 23,
   "metadata": {},
   "outputs": [
    {
     "name": "stdout",
     "output_type": "stream",
     "text": [
      "140723349222496\n",
      "140723349222496\n"
     ]
    }
   ],
   "source": [
    "t=44\n",
    "n=44\n",
    "print(id(t))\n",
    "print(id(n))\n",
    "\n",
    "# Now you can see both has same address as Python optimizes it internally"
   ]
  },
  {
   "cell_type": "markdown",
   "metadata": {},
   "source": [
    "**But python does this optimization only for values between -5 and 256** <br>\n",
    " *The reason is pretty much simple : the numbers between range -5 and 256 are very common*"
   ]
  },
  {
   "cell_type": "code",
   "execution_count": 26,
   "metadata": {},
   "outputs": [
    {
     "name": "stdout",
     "output_type": "stream",
     "text": [
      "2596472757104\n",
      "2596472756432\n"
     ]
    }
   ],
   "source": [
    "t=877\n",
    "n=877\n",
    "print(id(t))\n",
    "print(id(n))\n",
    "\n",
    "#These two will be having different values as optimization is only done for values between -5 and 256"
   ]
  },
  {
   "cell_type": "markdown",
   "metadata": {},
   "source": [
    "## Limit of integers in Python\n",
    "\n",
    "- If we see in other languages like Java/C++ we need to define data type at the start of variable introduction\n",
    "- Integers in Java have 4 bytes of space\n",
    "- Long will be having 8 bytes of space allocated\n",
    "- short will be having 2 bytes of storage\n",
    "- so if you trying storing a number with size more than 4 bytes in integer variabe, System won't allow you to do so in Java.\n",
    "- In python there is no such limit for size , It mostly depends on memory size you have which limits the size.\n",
    "- Also in python you don't have to worry about defining the data type at the time of variable introduction."
   ]
  },
  {
   "cell_type": "markdown",
   "metadata": {},
   "source": [
    "## Arithmetic operators in Python\n",
    "\n",
    "**Addition and subtraction operators**"
   ]
  },
  {
   "cell_type": "code",
   "execution_count": 31,
   "metadata": {},
   "outputs": [
    {
     "name": "stdout",
     "output_type": "stream",
     "text": [
      "2.7\n",
      "7.3\n"
     ]
    }
   ],
   "source": [
    "a = 5\n",
    "b = 2.3\n",
    "print(a-b)\n",
    "print(a+b)"
   ]
  },
  {
   "cell_type": "markdown",
   "metadata": {},
   "source": [
    "**Multiplication,Division & Integer Division Operators**\n"
   ]
  },
  {
   "cell_type": "code",
   "execution_count": 37,
   "metadata": {},
   "outputs": [
    {
     "name": "stdout",
     "output_type": "stream",
     "text": [
      "105\n",
      "2.142857142857143\n",
      "2\n"
     ]
    }
   ],
   "source": [
    "a=15\n",
    "b=7\n",
    "print(a*b)\n",
    "print(a/b) # This gives the actual division result -- also called as foating point division operator\n",
    "print(a//b) # this is integer division so It will only give integer value in result.\n"
   ]
  },
  {
   "cell_type": "markdown",
   "metadata": {},
   "source": [
    "**Exponent & Modulus Operator**"
   ]
  },
  {
   "cell_type": "code",
   "execution_count": 1,
   "metadata": {},
   "outputs": [
    {
     "name": "stdout",
     "output_type": "stream",
     "text": [
      "10000\n",
      "2\n"
     ]
    }
   ],
   "source": [
    "b=10\n",
    "k=4\n",
    "print(b**k) #exponentiation\n",
    "\n",
    "print(b%k) #modulus operator"
   ]
  },
  {
   "cell_type": "markdown",
   "metadata": {},
   "source": [
    "## Order of operation does matter\n",
    "\n",
    "- the order of precedence : exponents >> division/multiplication >> add/subtract/integer division\n",
    "- so there are many rules associated to it which can be read online.\n",
    "- Best practice is to use paranthesis to avoid any confusion.\n"
   ]
  },
  {
   "cell_type": "code",
   "execution_count": 5,
   "metadata": {},
   "outputs": [
    {
     "name": "stdout",
     "output_type": "stream",
     "text": [
      "14\n",
      "1.5\n",
      "1\n"
     ]
    }
   ],
   "source": [
    "print(2 + 3 * 4)  # 14 or 20\n",
    "\n",
    "print(2 * 3 / 4) # Here order doesn't matter\n",
    "\n",
    "print(2 * 3 // 4) # multiply has precedence over integer division"
   ]
  },
  {
   "cell_type": "markdown",
   "metadata": {},
   "source": [
    "## Calculating the simple interest\n"
   ]
  },
  {
   "cell_type": "code",
   "execution_count": 16,
   "metadata": {},
   "outputs": [
    {
     "data": {
      "text/plain": [
       "24"
      ]
     },
     "execution_count": 16,
     "metadata": {},
     "output_type": "execute_result"
    }
   ],
   "source": [
    "p = 100\n",
    "r = 12\n",
    "t = 2\n",
    "si = p * r * t //100\n",
    "# si = p * r * t //100  -- 24\n",
    "si = t // 100 * r * p\n",
    "# si = t // 100 * r * p -- 0   \n",
    "\n",
    "si = (p * r * t)//100\n",
    "si"
   ]
  },
  {
   "cell_type": "markdown",
   "metadata": {},
   "source": [
    "**The way python works on these operator is it resolves it from left.** <br> **So if we somehow replaces p with t the result will be different , So it's always recommended to use parantheses**"
   ]
  },
  {
   "cell_type": "code",
   "execution_count": 21,
   "metadata": {},
   "outputs": [
    {
     "name": "stdout",
     "output_type": "stream",
     "text": [
      "82.22222222222223\n",
      "37.77777777777778\n",
      "37\n"
     ]
    }
   ],
   "source": [
    "#Farenheit to Celsius\n",
    "f = 100\n",
    "c = f - 32 * 5/9  #This will give incorrect results\n",
    "print (c)\n",
    "c1 = (f - 32) * 5/9\n",
    "print(c1)\n",
    "\n",
    "# if we need integer value\n",
    "c2 = (f - 32) * 5 // 9\n",
    "print(c2)"
   ]
  },
  {
   "cell_type": "markdown",
   "metadata": {},
   "source": [
    "## Taking inputs from the user"
   ]
  },
  {
   "cell_type": "code",
   "execution_count": 24,
   "metadata": {},
   "outputs": [
    {
     "name": "stdout",
     "output_type": "stream",
     "text": [
      "23\n"
     ]
    },
    {
     "data": {
      "text/plain": [
       "'23'"
      ]
     },
     "execution_count": 24,
     "metadata": {},
     "output_type": "execute_result"
    }
   ],
   "source": [
    "a = input()\n",
    "a"
   ]
  }
 ],
 "metadata": {
  "kernelspec": {
   "display_name": "Python 3",
   "language": "python",
   "name": "python3"
  },
  "language_info": {
   "codemirror_mode": {
    "name": "ipython",
    "version": 3
   },
   "file_extension": ".py",
   "mimetype": "text/x-python",
   "name": "python",
   "nbconvert_exporter": "python",
   "pygments_lexer": "ipython3",
   "version": "3.7.0"
  }
 },
 "nbformat": 4,
 "nbformat_minor": 2
}
