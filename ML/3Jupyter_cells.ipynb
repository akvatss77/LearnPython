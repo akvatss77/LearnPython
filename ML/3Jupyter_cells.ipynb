{
 "cells": [
  {
   "cell_type": "markdown",
   "metadata": {},
   "source": [
    "## Properties of jupyter Cells\n",
    "\n",
    "1. It allows you to make the cell either for code or for Markdown\n",
    "2. Now this cell is a markdown cell and next cell will be a code cell.\n",
    "3. To run this cell : Ctrl + Enter.\n",
    "4. To run this cell and create new cell below : Alt + Enter.\n"
   ]
  },
  {
   "cell_type": "code",
   "execution_count": 3,
   "metadata": {},
   "outputs": [
    {
     "name": "stdout",
     "output_type": "stream",
     "text": [
      "Hello\n",
      "world\n"
     ]
    },
    {
     "data": {
      "text/plain": [
       "10"
      ]
     },
     "execution_count": 3,
     "metadata": {},
     "output_type": "execute_result"
    }
   ],
   "source": [
    "#Code\n",
    "\n",
    "print ('Hello')\n",
    "print (\"world\")\n",
    "10"
   ]
  },
  {
   "cell_type": "markdown",
   "metadata": {},
   "source": [
    "**you see that in the above cell :**\n",
    "In the above cell something can be printed by 2 ways:\n",
    "- If we use print command to print something.\n",
    "- Or it is the output of the last line.\n",
    "\n",
    "In the below cell we will see how output of the last line is printed when we run it.<br>\n",
    "The symbol \" In [n] \" before every cell: Here n represents the no. of time the code has been executed.\n"
   ]
  },
  {
   "cell_type": "code",
   "execution_count": 5,
   "metadata": {},
   "outputs": [
    {
     "data": {
      "text/plain": [
       "33"
      ]
     },
     "execution_count": 5,
     "metadata": {},
     "output_type": "execute_result"
    }
   ],
   "source": [
    "a = 10\n",
    "b = 23\n",
    "a + b"
   ]
  },
  {
   "cell_type": "code",
   "execution_count": 10,
   "metadata": {},
   "outputs": [
    {
     "name": "stdout",
     "output_type": "stream",
     "text": [
      "sum\n",
      "40\n"
     ]
    }
   ],
   "source": [
    "sum = a + 30\n",
    "print ('sum')\n",
    "print (sum)"
   ]
  },
  {
   "cell_type": "markdown",
   "metadata": {},
   "source": [
    "In the above cell you can see that we have defined a new variable sum which stores a + 30<br>now to print it we can use print(sum) without using single or double quotes , but if we want to print the string \"sum\" we need to give single or double quotes."
   ]
  },
  {
   "cell_type": "markdown",
   "metadata": {},
   "source": [
    "### Naming the varaibles :\n",
    "- It can have lowercase alphabets\n",
    "- It can have uppercase alphabets\n",
    "- It can have numbers in the name.\n",
    "- It can have underscore \"_\".\n",
    "- It can't start with numbers though it can start with underscore."
   ]
  },
  {
   "cell_type": "code",
   "execution_count": 12,
   "metadata": {},
   "outputs": [],
   "source": [
    "abc=20\n",
    "_abc=2\n"
   ]
  }
 ],
 "metadata": {
  "kernelspec": {
   "display_name": "Python 3",
   "language": "python",
   "name": "python3"
  },
  "language_info": {
   "codemirror_mode": {
    "name": "ipython",
    "version": 3
   },
   "file_extension": ".py",
   "mimetype": "text/x-python",
   "name": "python",
   "nbconvert_exporter": "python",
   "pygments_lexer": "ipython3",
   "version": "3.7.4"
  }
 },
 "nbformat": 4,
 "nbformat_minor": 2
}
