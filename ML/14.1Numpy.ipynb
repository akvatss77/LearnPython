{
 "cells": [
  {
   "cell_type": "markdown",
   "metadata": {},
   "source": [
    "# Numpy : Numerical Python"
   ]
  },
  {
   "cell_type": "markdown",
   "metadata": {},
   "source": [
    "**Lot of mathematical operations over large amount of data can be performed using this library**<br>\n",
    "**Gives us multidimensional arrays**"
   ]
  },
  {
   "cell_type": "markdown",
   "metadata": {},
   "source": [
    "**Why we need Numpy if we can perform the same using python inbuilt functions**"
   ]
  },
  {
   "cell_type": "markdown",
   "metadata": {},
   "source": [
    "**1.First Advantage is Numpy takes less memory,Lets see this below**"
   ]
  },
  {
   "cell_type": "code",
   "execution_count": null,
   "metadata": {},
   "outputs": [],
   "source": []
  },
  {
   "cell_type": "code",
   "execution_count": 1,
   "metadata": {},
   "outputs": [
    {
     "name": "stdout",
     "output_type": "stream",
     "text": [
      "[0, 1, 2, 3, 4, 5, 6, 7, 8, 9, 10, 11, 12, 13, 14, 15, 16, 17, 18, 19, 20, 21, 22, 23, 24, 25, 26, 27, 28, 29, 30, 31, 32, 33, 34, 35, 36, 37, 38, 39, 40, 41, 42, 43, 44, 45, 46, 47, 48, 49, 50, 51, 52, 53, 54, 55, 56, 57, 58, 59, 60, 61, 62, 63, 64, 65, 66, 67, 68, 69, 70, 71, 72, 73, 74, 75, 76, 77, 78, 79, 80, 81, 82, 83, 84, 85, 86, 87, 88, 89, 90, 91, 92, 93, 94, 95, 96, 97, 98, 99]\n",
      "[ 0  1  2  3  4  5  6  7  8  9 10 11 12 13 14 15 16 17 18 19 20 21 22 23\n",
      " 24 25 26 27 28 29 30 31 32 33 34 35 36 37 38 39 40 41 42 43 44 45 46 47\n",
      " 48 49 50 51 52 53 54 55 56 57 58 59 60 61 62 63 64 65 66 67 68 69 70 71\n",
      " 72 73 74 75 76 77 78 79 80 81 82 83 84 85 86 87 88 89 90 91 92 93 94 95\n",
      " 96 97 98 99]\n"
     ]
    }
   ],
   "source": [
    "import numpy as np\n",
    "li_arr = [i for i in range(100)]\n",
    "np_arr = np.arange(100)\n",
    "\n",
    "print(li_arr)\n",
    "print(np_arr)"
   ]
  },
  {
   "cell_type": "code",
   "execution_count": 5,
   "metadata": {},
   "outputs": [
    {
     "name": "stdout",
     "output_type": "stream",
     "text": [
      "4\n",
      "400\n"
     ]
    }
   ],
   "source": [
    "#Size of an element in numpy array\n",
    "print(np_arr.itemsize)\n",
    "\n",
    "#Size of 100 elements in numpy array\n",
    "print(np_arr.itemsize * np_arr.size)"
   ]
  },
  {
   "cell_type": "code",
   "execution_count": 7,
   "metadata": {},
   "outputs": [
    {
     "name": "stdout",
     "output_type": "stream",
     "text": [
      "28\n",
      "2800\n"
     ]
    }
   ],
   "source": [
    "import sys\n",
    "\n",
    "#Size of one element in the list\n",
    "a = 10\n",
    "print(sys.getsizeof(a))\n",
    "\n",
    "#Size of 100 element in the list\n",
    "print(sys.getsizeof(a) * len(li_arr))"
   ]
  },
  {
   "cell_type": "markdown",
   "metadata": {},
   "source": [
    "**2800 is comparitively very large in comparison with 400**"
   ]
  },
  {
   "cell_type": "markdown",
   "metadata": {},
   "source": [
    "**2.Time execution of numpy arrays are less compared to normal array**"
   ]
  },
  {
   "cell_type": "code",
   "execution_count": 21,
   "metadata": {},
   "outputs": [
    {
     "name": "stdout",
     "output_type": "stream",
     "text": [
      "list= 24.0328311920166\n",
      "numpy= 0.0\n"
     ]
    }
   ],
   "source": [
    "import time\n",
    "import numpy as np\n",
    "\n",
    "size = 100000\n",
    "def addition_using_list():\n",
    "    t1 = time.time() ## this gives second passed till epoch\n",
    "    a = range(size)\n",
    "    b = range(size)\n",
    "    c = [a[i] + b[i] for i in range(size)]\n",
    "    t2 = time.time()\n",
    "    return t2 - t1\n",
    "\n",
    "def addition_using_numpy():\n",
    "    t1 = time.time()\n",
    "    a = np.arange(size)\n",
    "    b = np.arange(size)\n",
    "    c = a + b\n",
    "    t2 = time.time()\n",
    "    return t2 - t1\n",
    "\n",
    "t_list = addition_using_list()\n",
    "t_numpy = addition_using_numpy()\n",
    "\n",
    "print('list=', t_list * 1000) ## Milliseconds\n",
    "print('numpy=', t_numpy * 1000) ## Milliseconds"
   ]
  },
  {
   "cell_type": "markdown",
   "metadata": {},
   "source": [
    "**3.Numpy is convinient compared to List, if you see above to add to list arrays how much code we have written compared to numpy arrays**"
   ]
  },
  {
   "cell_type": "markdown",
   "metadata": {},
   "source": [
    "**4.Numpy provides a lot of functionalities compared to normal list**"
   ]
  },
  {
   "cell_type": "markdown",
   "metadata": {},
   "source": [
    "## How numpy is faster compared to normal list"
   ]
  },
  {
   "cell_type": "markdown",
   "metadata": {},
   "source": [
    "**In compare to normal list numpy does the operations using chunks which takes less iteration compared to normal list**<br>\n",
    "**This process is also known as vectorization**"
   ]
  },
  {
   "cell_type": "markdown",
   "metadata": {},
   "source": [
    "## Creating Numpy arrays"
   ]
  },
  {
   "cell_type": "raw",
   "metadata": {},
   "source": [
    "import numpy as np     ## np as alias here for ease of use\n",
    "\n",
    "np.array(some_array_like_element,)"
   ]
  },
  {
   "cell_type": "code",
   "execution_count": 22,
   "metadata": {},
   "outputs": [
    {
     "name": "stdout",
     "output_type": "stream",
     "text": [
      "[1 2 3]\n",
      "<class 'numpy.ndarray'>\n"
     ]
    }
   ],
   "source": [
    "import numpy as np\n",
    "\n",
    "a = [1,2,3]\n",
    "b = np.array(a)\n",
    "\n",
    "print(b)\n",
    "print(type(b))"
   ]
  },
  {
   "cell_type": "markdown",
   "metadata": {},
   "source": [
    "**lets look at default behaviour of numpy array**"
   ]
  },
  {
   "cell_type": "code",
   "execution_count": null,
   "metadata": {},
   "outputs": [],
   "source": [
    "a = [1,2,3,'5','bf']\n",
    "b = np.array(a)\n",
    "print(b)\n",
    "print(type(b))"
   ]
  },
  {
   "cell_type": "markdown",
   "metadata": {},
   "source": [
    "**you can see above that all the elements are converted into string, that means numpy array doesn't allow elements of different types, It requires homogeneous element , if want all the elements in int we can do that as well by setting up a property of numpy array finction**"
   ]
  },
  {
   "cell_type": "code",
   "execution_count": 25,
   "metadata": {},
   "outputs": [
    {
     "ename": "ValueError",
     "evalue": "invalid literal for int() with base 10: 'bf'",
     "output_type": "error",
     "traceback": [
      "\u001b[1;31m---------------------------------------------------------------------------\u001b[0m",
      "\u001b[1;31mValueError\u001b[0m                                Traceback (most recent call last)",
      "\u001b[1;32m<ipython-input-25-64f16475739b>\u001b[0m in \u001b[0;36m<module>\u001b[1;34m\u001b[0m\n\u001b[0;32m      1\u001b[0m \u001b[0ma\u001b[0m \u001b[1;33m=\u001b[0m \u001b[1;33m[\u001b[0m\u001b[1;36m1\u001b[0m\u001b[1;33m,\u001b[0m\u001b[1;36m2\u001b[0m\u001b[1;33m,\u001b[0m\u001b[1;36m3\u001b[0m\u001b[1;33m,\u001b[0m\u001b[1;34m'5'\u001b[0m\u001b[1;33m,\u001b[0m\u001b[1;34m'bf'\u001b[0m\u001b[1;33m]\u001b[0m\u001b[1;33m\u001b[0m\u001b[1;33m\u001b[0m\u001b[0m\n\u001b[1;32m----> 2\u001b[1;33m \u001b[0mb\u001b[0m \u001b[1;33m=\u001b[0m \u001b[0mnp\u001b[0m\u001b[1;33m.\u001b[0m\u001b[0marray\u001b[0m\u001b[1;33m(\u001b[0m\u001b[0ma\u001b[0m\u001b[1;33m,\u001b[0m\u001b[0mdtype\u001b[0m \u001b[1;33m=\u001b[0m \u001b[0mint\u001b[0m\u001b[1;33m)\u001b[0m\u001b[1;33m\u001b[0m\u001b[1;33m\u001b[0m\u001b[0m\n\u001b[0m\u001b[0;32m      3\u001b[0m \u001b[0mprint\u001b[0m\u001b[1;33m(\u001b[0m\u001b[0mb\u001b[0m\u001b[1;33m)\u001b[0m\u001b[1;33m\u001b[0m\u001b[1;33m\u001b[0m\u001b[0m\n\u001b[0;32m      4\u001b[0m \u001b[0mprint\u001b[0m\u001b[1;33m(\u001b[0m\u001b[0mtype\u001b[0m\u001b[1;33m(\u001b[0m\u001b[0mb\u001b[0m\u001b[1;33m)\u001b[0m\u001b[1;33m)\u001b[0m\u001b[1;33m\u001b[0m\u001b[1;33m\u001b[0m\u001b[0m\n",
      "\u001b[1;31mValueError\u001b[0m: invalid literal for int() with base 10: 'bf'"
     ]
    }
   ],
   "source": [
    "a = [1,2,3,'5','bf']\n",
    "b = np.array(a,dtype = int)\n",
    "print(b)\n",
    "print(type(b))"
   ]
  },
  {
   "cell_type": "markdown",
   "metadata": {},
   "source": [
    "**we can see above that by setting dtype = int, we can enforce the item of numpy array to be integer ,but 'ab' can't be converted to integer thats why we are getting this error** "
   ]
  },
  {
   "cell_type": "code",
   "execution_count": 26,
   "metadata": {},
   "outputs": [
    {
     "name": "stdout",
     "output_type": "stream",
     "text": [
      "[ 1  2  3  5 25]\n",
      "<class 'numpy.ndarray'>\n"
     ]
    }
   ],
   "source": [
    "a = [1,2,3,'5','25']\n",
    "b = np.array(a,dtype = int)\n",
    "print(b)\n",
    "print(type(b))"
   ]
  },
  {
   "cell_type": "code",
   "execution_count": 27,
   "metadata": {},
   "outputs": [
    {
     "name": "stdout",
     "output_type": "stream",
     "text": [
      "['1' '2' '3' '5' '25']\n",
      "<class 'numpy.ndarray'>\n"
     ]
    }
   ],
   "source": [
    "a = [1,2,3,'5','25']\n",
    "b = np.array(a,dtype = str) ## now elements will be changed to string\n",
    "print(b)\n",
    "print(type(b))"
   ]
  },
  {
   "cell_type": "markdown",
   "metadata": {},
   "source": [
    "**Repeating the numpy array**"
   ]
  },
  {
   "cell_type": "code",
   "execution_count": 29,
   "metadata": {},
   "outputs": [
    {
     "name": "stdout",
     "output_type": "stream",
     "text": [
      "['1' '2' '3' '5' '4.5' '1' '2' '3' '5' '4.5' '1' '2' '3' '5' '4.5']\n"
     ]
    }
   ],
   "source": [
    "a = [1,2,3,'5',4.5]\n",
    "b = np.array(a*3)\n",
    "print(b)"
   ]
  },
  {
   "cell_type": "markdown",
   "metadata": {},
   "source": [
    "## Function np.zeroes()"
   ]
  },
  {
   "cell_type": "code",
   "execution_count": 32,
   "metadata": {},
   "outputs": [
    {
     "name": "stdout",
     "output_type": "stream",
     "text": [
      "[0. 0. 0.]\n"
     ]
    }
   ],
   "source": [
    "b = np.zeros(3)\n",
    "print(b)"
   ]
  },
  {
   "cell_type": "markdown",
   "metadata": {},
   "source": [
    "## Function np.ones()"
   ]
  },
  {
   "cell_type": "code",
   "execution_count": 34,
   "metadata": {},
   "outputs": [
    {
     "name": "stdout",
     "output_type": "stream",
     "text": [
      "[1. 1. 1. 1. 1.]\n",
      "[1 1 1 1 1]\n"
     ]
    }
   ],
   "source": [
    "c = np.ones(5)\n",
    "print(c)  ## this will print in float format\n",
    "\n",
    "d = np.ones(5,dtype = int)\n",
    "print(d) #This will print in integer format"
   ]
  },
  {
   "cell_type": "markdown",
   "metadata": {},
   "source": [
    "**2 d arrays can also be created**"
   ]
  },
  {
   "cell_type": "code",
   "execution_count": 36,
   "metadata": {},
   "outputs": [
    {
     "name": "stdout",
     "output_type": "stream",
     "text": [
      "[[1 1 1 1]\n",
      " [1 1 1 1]]\n"
     ]
    }
   ],
   "source": [
    "g = np.ones((2,4),dtype = int)\n",
    "print(g)"
   ]
  },
  {
   "cell_type": "markdown",
   "metadata": {},
   "source": [
    "## Function np.full()"
   ]
  },
  {
   "cell_type": "code",
   "execution_count": 38,
   "metadata": {},
   "outputs": [
    {
     "ename": "TypeError",
     "evalue": "full() missing 1 required positional argument: 'fill_value'",
     "output_type": "error",
     "traceback": [
      "\u001b[1;31m---------------------------------------------------------------------------\u001b[0m",
      "\u001b[1;31mTypeError\u001b[0m                                 Traceback (most recent call last)",
      "\u001b[1;32m<ipython-input-38-c78b91081d05>\u001b[0m in \u001b[0;36m<module>\u001b[1;34m\u001b[0m\n\u001b[1;32m----> 1\u001b[1;33m \u001b[0mb\u001b[0m \u001b[1;33m=\u001b[0m \u001b[0mnp\u001b[0m\u001b[1;33m.\u001b[0m\u001b[0mfull\u001b[0m\u001b[1;33m(\u001b[0m\u001b[1;36m3\u001b[0m\u001b[1;33m)\u001b[0m\u001b[1;33m\u001b[0m\u001b[1;33m\u001b[0m\u001b[0m\n\u001b[0m\u001b[0;32m      2\u001b[0m \u001b[0mprint\u001b[0m\u001b[1;33m(\u001b[0m\u001b[0mb\u001b[0m\u001b[1;33m)\u001b[0m\u001b[1;33m\u001b[0m\u001b[1;33m\u001b[0m\u001b[0m\n",
      "\u001b[1;31mTypeError\u001b[0m: full() missing 1 required positional argument: 'fill_value'"
     ]
    }
   ],
   "source": [
    "b = np.full(3)\n",
    "print(b)"
   ]
  },
  {
   "cell_type": "markdown",
   "metadata": {},
   "source": [
    "**Above code failed because this full() function requires two variables , dimension and fill value**"
   ]
  },
  {
   "cell_type": "code",
   "execution_count": 40,
   "metadata": {},
   "outputs": [
    {
     "name": "stdout",
     "output_type": "stream",
     "text": [
      "[3 3 3 3 3]\n"
     ]
    }
   ],
   "source": [
    "g = np.full(5,3)\n",
    "print(g)"
   ]
  },
  {
   "cell_type": "code",
   "execution_count": 43,
   "metadata": {},
   "outputs": [
    {
     "name": "stdout",
     "output_type": "stream",
     "text": [
      "[[7 7 7 7 7]\n",
      " [7 7 7 7 7]]\n"
     ]
    }
   ],
   "source": [
    "g = np.full((2,5),7)\n",
    "print(g)\n",
    "\n",
    "## here default datatype is int"
   ]
  },
  {
   "cell_type": "code",
   "execution_count": 44,
   "metadata": {},
   "outputs": [
    {
     "name": "stdout",
     "output_type": "stream",
     "text": [
      "[[7. 7. 7. 7. 7.]\n",
      " [7. 7. 7. 7. 7.]]\n"
     ]
    }
   ],
   "source": [
    "g = np.full((2,5),7,dtype = float)\n",
    "print(g)\n"
   ]
  },
  {
   "cell_type": "markdown",
   "metadata": {},
   "source": [
    "## Function np.empty()"
   ]
  },
  {
   "cell_type": "raw",
   "metadata": {},
   "source": [
    "empty, unlike zeros, does not set the array values to zero, and may therefore be marginally faster. On the other hand, it requires the user to manually set all the values in the array, and should be used with caution.\n",
    "\n",
    "numpy.empty(shape, dtype=float, order='C')"
   ]
  },
  {
   "cell_type": "raw",
   "metadata": {},
   "source": [
    "What will be output\n",
    "Send Feedback\n",
    "a = np.empty(4, dtype = int)\n",
    "print(a)"
   ]
  },
  {
   "cell_type": "raw",
   "metadata": {},
   "source": [
    "Options\n",
    "\n",
    "Error\n",
    "\n",
    "Integer array of size 4 with all 0s\n",
    "\n",
    "Integer array of size 4 with all random integers \n",
    "\n",
    "Integer array of size 4 with all 4s\n",
    "\n",
    "None of the above\n"
   ]
  },
  {
   "cell_type": "raw",
   "metadata": {},
   "source": [
    "Answer : Integer array of size 4 with all random integers "
   ]
  },
  {
   "cell_type": "raw",
   "metadata": {},
   "source": [
    "NumPy 2D array\n",
    "Send Feedback\n",
    "Problem Statement:\n",
    "GIven a 2D list, create a numpy 2D array using it.\n",
    "Note: Given 2D list is [[1, 2, 3], [4, 5, 6], [7, 8, 9]]\n",
    "Print the Numpy array.\n",
    "Output Format :\n",
    "numpyArray"
   ]
  },
  {
   "cell_type": "code",
   "execution_count": 45,
   "metadata": {},
   "outputs": [
    {
     "name": "stdout",
     "output_type": "stream",
     "text": [
      "[[1 2 3]\n",
      " [4 5 6]\n",
      " [7 8 9]]\n"
     ]
    }
   ],
   "source": [
    "import numpy as np\n",
    "a = [[1, b2, 3], [4, 5, 6], [7, 8, 9]]\n",
    "b = np.array(a)\n",
    "print(b)"
   ]
  },
  {
   "cell_type": "raw",
   "metadata": {},
   "source": [
    "NumPy 0s and 1s\n",
    "Send Feedback\n",
    "Problem Statement:\n",
    "Create an integer array of size 10, where all the values should be 0 but the fifth value should be 1.\n",
    "Print the elements of array.\n",
    "Output Format :\n",
    "element1 element2 element3 ... "
   ]
  },
  {
   "cell_type": "code",
   "execution_count": 52,
   "metadata": {},
   "outputs": [
    {
     "name": "stdout",
     "output_type": "stream",
     "text": [
      "0 0 0 0 1 0 0 0 0 0 "
     ]
    }
   ],
   "source": [
    "import numpy as np\n",
    "\n",
    "b = np.zeros(10,dtype = int)\n",
    "b[4] = 1\n",
    "for i in b:\n",
    "    print(i,end = ' ')"
   ]
  },
  {
   "cell_type": "markdown",
   "metadata": {},
   "source": [
    "## np.arange() Function"
   ]
  },
  {
   "cell_type": "raw",
   "metadata": {},
   "source": [
    "numpy.arange([start, ]stop, [step, ]dtype=None)\n"
   ]
  },
  {
   "cell_type": "markdown",
   "metadata": {},
   "source": [
    "Parameters:\t\n",
    "start : number, optional\n",
    "Start of interval. The interval includes this value. The default start value is 0.\n",
    "\n",
    "stop : number\n",
    "End of interval. The interval does not include this value, except in some cases where step is not an integer and floating point round-off affects the length of out.\n",
    "\n",
    "step : number, optional\n",
    "Spacing between values. For any output out, this is the distance between two adjacent values, out[i+1] - out[i]. The default step size is 1. If step is specified as a position argument, start must also be given.\n",
    "\n",
    "dtype : dtype\n",
    "The type of the output array. If dtype is not given, infer the data type from the other input arguments."
   ]
  },
  {
   "cell_type": "code",
   "execution_count": 55,
   "metadata": {},
   "outputs": [
    {
     "data": {
      "text/plain": [
       "array([0, 1, 2, 3, 4, 5, 6, 7, 8, 9])"
      ]
     },
     "execution_count": 55,
     "metadata": {},
     "output_type": "execute_result"
    }
   ],
   "source": [
    "import numpy as np\n",
    "\n",
    "b = np.arange(10) ## == np.arange(0,10,1)\n",
    "b"
   ]
  },
  {
   "cell_type": "code",
   "execution_count": 56,
   "metadata": {},
   "outputs": [
    {
     "data": {
      "text/plain": [
       "array([3, 4, 5, 6, 7, 8, 9])"
      ]
     },
     "execution_count": 56,
     "metadata": {},
     "output_type": "execute_result"
    }
   ],
   "source": [
    "b = np.arange(3,10)\n",
    "b"
   ]
  },
  {
   "cell_type": "code",
   "execution_count": 57,
   "metadata": {},
   "outputs": [
    {
     "data": {
      "text/plain": [
       "array([ 2,  4,  6,  8, 10, 12, 14, 16, 18])"
      ]
     },
     "execution_count": 57,
     "metadata": {},
     "output_type": "execute_result"
    }
   ],
   "source": [
    "b = np.arange(2,20,2)\n",
    "b"
   ]
  },
  {
   "cell_type": "markdown",
   "metadata": {},
   "source": [
    "## Function np.linspace()"
   ]
  },
  {
   "cell_type": "raw",
   "metadata": {},
   "source": [
    "numpy.linspace(start, stop, num=50, endpoint=True, retstep=False, dtype=None, axis=0)[source]"
   ]
  },
  {
   "cell_type": "raw",
   "metadata": {},
   "source": [
    "Return evenly spaced numbers over a specified interval.\n",
    "\n",
    "Returns num evenly spaced samples, calculated over the interval [start, stop].\n",
    "\n",
    "The endpoint of the interval can optionally be excluded.\n",
    "\n",
    "Changed in version 1.16.0: Non-scalar start and stop are now supported."
   ]
  },
  {
   "cell_type": "raw",
   "metadata": {},
   "source": [
    "bParameters:\t\n",
    "start : array_like\n",
    "The starting value of the sequence.\n",
    "retstep : bool, optional\n",
    "If True, return (samples, step), where step is the spacing between samples.\n",
    "\n",
    "dtype : dtype, optional\n",
    "The type of the output array. If dtype is not given, infer the data type from the other input arguments.\n",
    "\n",
    "New in version 1.9.0.\n",
    "\n",
    "axis : int, optional\n",
    "The axis in the result to store the samples. Relevant only if start or stop are array-like. By default (0), the samples will be along a new axis inserted at the beginning. Use -1 to get an axis at the end.\n",
    "\n",
    "New in version 1.16.0."
   ]
  },
  {
   "cell_type": "code",
   "execution_count": 59,
   "metadata": {},
   "outputs": [
    {
     "data": {
      "text/plain": [
       "array([ 2.        ,  2.16326531,  2.32653061,  2.48979592,  2.65306122,\n",
       "        2.81632653,  2.97959184,  3.14285714,  3.30612245,  3.46938776,\n",
       "        3.63265306,  3.79591837,  3.95918367,  4.12244898,  4.28571429,\n",
       "        4.44897959,  4.6122449 ,  4.7755102 ,  4.93877551,  5.10204082,\n",
       "        5.26530612,  5.42857143,  5.59183673,  5.75510204,  5.91836735,\n",
       "        6.08163265,  6.24489796,  6.40816327,  6.57142857,  6.73469388,\n",
       "        6.89795918,  7.06122449,  7.2244898 ,  7.3877551 ,  7.55102041,\n",
       "        7.71428571,  7.87755102,  8.04081633,  8.20408163,  8.36734694,\n",
       "        8.53061224,  8.69387755,  8.85714286,  9.02040816,  9.18367347,\n",
       "        9.34693878,  9.51020408,  9.67346939,  9.83673469, 10.        ])"
      ]
     },
     "execution_count": 59,
     "metadata": {},
     "output_type": "execute_result"
    }
   ],
   "source": [
    "import numpy as np\n",
    "\n",
    "b = np.linspace(2,10)\n",
    "b"
   ]
  },
  {
   "cell_type": "markdown",
   "metadata": {},
   "source": [
    "**So above command created 50 elements by its own and step size will be same**"
   ]
  },
  {
   "cell_type": "code",
   "execution_count": 61,
   "metadata": {},
   "outputs": [
    {
     "data": {
      "text/plain": [
       "array([ 2.,  4.,  6.,  8., 10.])"
      ]
     },
     "execution_count": 61,
     "metadata": {},
     "output_type": "execute_result"
    }
   ],
   "source": [
    "b = np.linspace(2,10,5)\n",
    "b"
   ]
  },
  {
   "cell_type": "code",
   "execution_count": 62,
   "metadata": {},
   "outputs": [
    {
     "data": {
      "text/plain": [
       "array([ 2,  4,  6,  8, 10])"
      ]
     },
     "execution_count": 62,
     "metadata": {},
     "output_type": "execute_result"
    }
   ],
   "source": [
    "b = np.linspace(2,10,5,dtype=int)\n",
    "b"
   ]
  },
  {
   "cell_type": "markdown",
   "metadata": {},
   "source": [
    "**We can see in above example both 2 and 10 are inclusive**<br>**To remove 10 we can use the arguemnt endpoint which is bydefault True**"
   ]
  },
  {
   "cell_type": "code",
   "execution_count": 63,
   "metadata": {},
   "outputs": [
    {
     "data": {
      "text/plain": [
       "array([2, 3, 5, 6, 8])"
      ]
     },
     "execution_count": 63,
     "metadata": {},
     "output_type": "execute_result"
    }
   ],
   "source": [
    "b = np.linspace(2,10,5,dtype=int,endpoint = False) ## now 10 won't be included into the output\n",
    "b"
   ]
  },
  {
   "cell_type": "markdown",
   "metadata": {},
   "source": [
    "**Difference between np.linspace and np.arange is , we have control on no of samples in linspace whereas we have control on steps in np.arange**"
   ]
  },
  {
   "cell_type": "markdown",
   "metadata": {},
   "source": [
    "## np.identity() function"
   ]
  },
  {
   "cell_type": "markdown",
   "metadata": {},
   "source": [
    "**This will basically print identity matrix**"
   ]
  },
  {
   "cell_type": "code",
   "execution_count": 64,
   "metadata": {},
   "outputs": [
    {
     "name": "stdout",
     "output_type": "stream",
     "text": [
      "[[1. 0. 0. 0. 0.]\n",
      " [0. 1. 0. 0. 0.]\n",
      " [0. 0. 1. 0. 0.]\n",
      " [0. 0. 0. 1. 0.]\n",
      " [0. 0. 0. 0. 1.]]\n"
     ]
    }
   ],
   "source": [
    "b = np.identity(5)\n",
    "print(b)"
   ]
  },
  {
   "cell_type": "code",
   "execution_count": 65,
   "metadata": {},
   "outputs": [
    {
     "name": "stdout",
     "output_type": "stream",
     "text": [
      "[[1 0 0 0 0]\n",
      " [0 1 0 0 0]\n",
      " [0 0 1 0 0]\n",
      " [0 0 0 1 0]\n",
      " [0 0 0 0 1]]\n"
     ]
    }
   ],
   "source": [
    "b = np.identity(5,dtype = int)\n",
    "print(b)"
   ]
  },
  {
   "cell_type": "markdown",
   "metadata": {},
   "source": [
    "## np.eye() function"
   ]
  },
  {
   "cell_type": "markdown",
   "metadata": {},
   "source": [
    "**It is very similar to np.identity() function , only difference is it can also print m*n matrix whereas identity is only for n*n matrix**"
   ]
  },
  {
   "cell_type": "code",
   "execution_count": 66,
   "metadata": {},
   "outputs": [
    {
     "data": {
      "text/plain": [
       "array([[1., 0., 0.],\n",
       "       [0., 1., 0.],\n",
       "       [0., 0., 1.]])"
      ]
     },
     "execution_count": 66,
     "metadata": {},
     "output_type": "execute_result"
    }
   ],
   "source": [
    "b = np.eye(3)\n",
    "b"
   ]
  },
  {
   "cell_type": "code",
   "execution_count": 67,
   "metadata": {},
   "outputs": [
    {
     "data": {
      "text/plain": [
       "array([[1., 0., 0., 0.],\n",
       "       [0., 1., 0., 0.],\n",
       "       [0., 0., 1., 0.]])"
      ]
     },
     "execution_count": 67,
     "metadata": {},
     "output_type": "execute_result"
    }
   ],
   "source": [
    "b = np.eye(3,4)\n",
    "b"
   ]
  },
  {
   "cell_type": "markdown",
   "metadata": {},
   "source": [
    "## Function np.random.rand()"
   ]
  },
  {
   "cell_type": "markdown",
   "metadata": {},
   "source": [
    "**this will create matric with random values between 0 to 1**"
   ]
  },
  {
   "cell_type": "code",
   "execution_count": 69,
   "metadata": {},
   "outputs": [
    {
     "data": {
      "text/plain": [
       "array([0.36109944, 0.16487222, 0.23571637])"
      ]
     },
     "execution_count": 69,
     "metadata": {},
     "output_type": "execute_result"
    }
   ],
   "source": [
    "b = np.random.rand(3)\n",
    "b"
   ]
  },
  {
   "cell_type": "code",
   "execution_count": 70,
   "metadata": {},
   "outputs": [
    {
     "data": {
      "text/plain": [
       "array([[0.18152108, 0.30508579, 0.75192468, 0.10576118, 0.23734833],\n",
       "       [0.21313454, 0.11963392, 0.3661409 , 0.5988582 , 0.22261409]])"
      ]
     },
     "execution_count": 70,
     "metadata": {},
     "output_type": "execute_result"
    }
   ],
   "source": [
    "b = np.random.rand(2,5)\n",
    "b\n"
   ]
  },
  {
   "cell_type": "markdown",
   "metadata": {},
   "source": [
    "**Now lets say I want an array of 10 elements with elements from range 1 to 10**"
   ]
  },
  {
   "cell_type": "code",
   "execution_count": 71,
   "metadata": {},
   "outputs": [
    {
     "data": {
      "text/plain": [
       "array([9.95948511, 3.71151154, 0.30469697, 3.17870064, 9.32114642,\n",
       "       6.58000281, 3.61293401, 7.96099963, 4.94982922, 6.35078158])"
      ]
     },
     "execution_count": 71,
     "metadata": {},
     "output_type": "execute_result"
    }
   ],
   "source": [
    "b = np.random.rand(10)*10\n",
    "b"
   ]
  },
  {
   "cell_type": "markdown",
   "metadata": {},
   "source": [
    "## Function np.random.randint()"
   ]
  },
  {
   "cell_type": "markdown",
   "metadata": {},
   "source": [
    "numpy.random.randint\n",
    "numpy.random.randint(low, high=None, size=None, dtype='l')\n",
    "Return random integers from low (inclusive) to high (exclusive).\n",
    "\n",
    "Return random integers from the “discrete uniform” distribution of the specified dtype in the “half-open” interval [low, high). If high is None (the default), then results are from [0, low)."
   ]
  },
  {
   "cell_type": "raw",
   "metadata": {},
   "source": [
    "Parameters:\t\n",
    "low : int\n",
    "Lowest (signed) integer to be drawn from the distribution (unless high=None, in which case this parameter is one above the highest such integer).\n",
    "\n",
    "high : int, optional\n",
    "If provided, one above the largest (signed) integer to be drawn from the distribution (see above for behavior if high=None).\n",
    "\n",
    "size : int or tuple of ints, optional\n",
    "Output shape. If the given shape is, e.g., (m, n, k), then m * n * k samples are drawn. Default is None, in which case a single value is returned.\n",
    "\n",
    "dtype : dtype, optional\n",
    "Desired dtype of the result. All dtypes are determined by their name, i.e., ‘int64’, ‘int’, etc, so byteorder is not available and a specific precision may have different C types depending on the platform. The default value is ‘np.int’.\n",
    "\n",
    "New in version 1.11.0.\n",
    "\n",
    "Returns:\t\n",
    "out : int or ndarray of ints\n",
    "size-shaped array of random integers from the appropriate distribution, or a single such random int if size not provided."
   ]
  },
  {
   "cell_type": "code",
   "execution_count": 79,
   "metadata": {},
   "outputs": [
    {
     "data": {
      "text/plain": [
       "array([[7, 9, 3, 8],\n",
       "       [5, 9, 4, 9],\n",
       "       [6, 9, 6, 6]])"
      ]
     },
     "execution_count": 79,
     "metadata": {},
     "output_type": "execute_result"
    }
   ],
   "source": [
    "b = np.random.randint(2,10,(3,4))\n",
    "b"
   ]
  },
  {
   "cell_type": "raw",
   "metadata": {},
   "source": [
    "What will be the output ?\n",
    "  np.arange(10)"
   ]
  },
  {
   "cell_type": "markdown",
   "metadata": {},
   "source": [
    "Options\n",
    "\n",
    "array([0, 1, 2, 3, 4, 5, 6, 7, 8, 9]) \n",
    "\n",
    "Any random array having all values between 0 till 9\n",
    "\n",
    "array([10, 10, 10, 10, 10, 10, 10, 10, 10, 10])\n",
    "\n",
    "array([0, 0, 0, 0, 0, 0, 0, 0, 0, 0])"
   ]
  },
  {
   "cell_type": "raw",
   "metadata": {},
   "source": [
    "Answer\n",
    "array([0, 1, 2, 3, 4, 5, 6, 7, 8, 9]) "
   ]
  },
  {
   "cell_type": "raw",
   "metadata": {},
   "source": [
    "Output Question\n",
    "Send Feedback\n",
    "What will be the output on executing following code ?\n",
    "a = np.array([0, 1, 2, 3])\n",
    "a.shape"
   ]
  },
  {
   "cell_type": "raw",
   "metadata": {},
   "source": [
    "Options\n",
    "\n",
    "(4)\n",
    "\n",
    "(4,)\n",
    "\n",
    "(4,0)\n",
    "\n",
    "(4,1)"
   ]
  },
  {
   "cell_type": "raw",
   "metadata": {},
   "source": [
    "Answer\n",
    "(4,)"
   ]
  },
  {
   "cell_type": "raw",
   "metadata": {},
   "source": [
    "What is the output\n",
    "Send Feedback\n",
    "np.random.rand()"
   ]
  },
  {
   "cell_type": "raw",
   "metadata": {},
   "source": [
    "Options\n",
    "\n",
    "Error\n",
    "\n",
    "One random value \n",
    "\n",
    "2 random values\n",
    "\n",
    "None of the above"
   ]
  },
  {
   "cell_type": "raw",
   "metadata": {},
   "source": [
    "one random value"
   ]
  },
  {
   "cell_type": "raw",
   "metadata": {},
   "source": [
    "What is the output\n",
    "Send Feedback\n",
    "np.random.randint(10, 4)"
   ]
  },
  {
   "cell_type": "raw",
   "metadata": {},
   "source": [
    "Options\n",
    "\n",
    "Error \n",
    "\n",
    "One random integer value\n",
    "\n",
    "4 random integer values\n",
    "\n",
    "Random integer array of size(10, 4)\n",
    "\n",
    "None of the above"
   ]
  },
  {
   "cell_type": "raw",
   "metadata": {},
   "source": [
    "Error"
   ]
  },
  {
   "cell_type": "code",
   "execution_count": 81,
   "metadata": {},
   "outputs": [
    {
     "ename": "ValueError",
     "evalue": "Range cannot be empty (low >= high) unless no samples are taken",
     "output_type": "error",
     "traceback": [
      "\u001b[1;31m---------------------------------------------------------------------------\u001b[0m",
      "\u001b[1;31mValueError\u001b[0m                                Traceback (most recent call last)",
      "\u001b[1;32m<ipython-input-81-bc8d121e5f85>\u001b[0m in \u001b[0;36m<module>\u001b[1;34m\u001b[0m\n\u001b[1;32m----> 1\u001b[1;33m \u001b[0mnp\u001b[0m\u001b[1;33m.\u001b[0m\u001b[0mrandom\u001b[0m\u001b[1;33m.\u001b[0m\u001b[0mrandint\u001b[0m\u001b[1;33m(\u001b[0m\u001b[1;36m10\u001b[0m\u001b[1;33m,\u001b[0m \u001b[1;36m4\u001b[0m\u001b[1;33m)\u001b[0m\u001b[1;33m\u001b[0m\u001b[1;33m\u001b[0m\u001b[0m\n\u001b[0m",
      "\u001b[1;32mmtrand.pyx\u001b[0m in \u001b[0;36mmtrand.RandomState.randint\u001b[1;34m()\u001b[0m\n",
      "\u001b[1;31mValueError\u001b[0m: Range cannot be empty (low >= high) unless no samples are taken"
     ]
    }
   ],
   "source": [
    "np.random.randint(10, 4)"
   ]
  },
  {
   "cell_type": "raw",
   "metadata": {},
   "source": [
    "Random Integer array\n",
    "Send Feedback\n",
    "Syntax for creating a random integer array ranging from 0 to 10 of size (4, 4)"
   ]
  },
  {
   "cell_type": "raw",
   "metadata": {},
   "source": [
    "Options\n",
    "\n",
    "np.random.randint(10, 4)\n",
    "\n",
    "np.random.rand(4, dtype=int)\n",
    "\n",
    "np.random.randint(10, size = (4, 4))\n",
    "\n",
    "None of the above"
   ]
  },
  {
   "cell_type": "raw",
   "metadata": {},
   "source": [
    "np.random.randint(10, size = (4, 4))"
   ]
  },
  {
   "cell_type": "raw",
   "metadata": {},
   "source": [
    "NumPy Inclusive\n",
    "Send Feedback\n",
    "Problem Statement:\n",
    "Create an array with values ranging consecutively from 9 to 49 (both inclusive).\n",
    "Print the Numpy array.\n",
    "Output Format :\n",
    "element1 element2 element3 ..."
   ]
  },
  {
   "cell_type": "code",
   "execution_count": 82,
   "metadata": {},
   "outputs": [
    {
     "data": {
      "text/plain": [
       "array([ 9, 10, 11, 12, 13, 14, 15, 16, 17, 18, 19, 20, 21, 22, 23, 24, 25,\n",
       "       26, 27, 28, 29, 30, 31, 32, 33, 34, 35, 36, 37, 38, 39, 40, 41, 42,\n",
       "       43, 44, 45, 46, 47, 48, 49])"
      ]
     },
     "execution_count": 82,
     "metadata": {},
     "output_type": "execute_result"
    }
   ],
   "source": [
    "import numpy as np\n",
    "\n",
    "b = np.arange(9,50)\n",
    "for i in b:\n",
    "    print(i,end = ' ')"
   ]
  },
  {
   "cell_type": "raw",
   "metadata": {},
   "source": [
    "Identity Matrix\n",
    "Send Feedback\n",
    "Problem Statement:\n",
    "Create an integer identity matrix of size (5, 6).\n",
    "Print the Numpy array.\n",
    "Output Format :\n",
    "numpyArray"
   ]
  },
  {
   "cell_type": "code",
   "execution_count": 84,
   "metadata": {},
   "outputs": [
    {
     "name": "stdout",
     "output_type": "stream",
     "text": [
      "[[1 0 0 0 0 0]\n",
      " [0 1 0 0 0 0]\n",
      " [0 0 1 0 0 0]\n",
      " [0 0 0 1 0 0]\n",
      " [0 0 0 0 1 0]]\n"
     ]
    }
   ],
   "source": [
    "import numpy as np\n",
    "\n",
    "b = np.eye(5,6,dtype= int)\n",
    "print(b)"
   ]
  },
  {
   "cell_type": "raw",
   "metadata": {},
   "source": [
    "Cut the Rope\n",
    "Send Feedback\n",
    "Problem Statement:\n",
    "You are given a rope of length 5m. Cut the rope into 9 parts such that each part is of equal length.\n",
    "Note:Array elements are the points where cut is to be made and round upto 2 decimal place.\n",
    "Print the array element.\n",
    "Output Format :\n",
    "element1 \n",
    "element2 \n",
    "element3\n",
    "."
   ]
  },
  {
   "cell_type": "code",
   "execution_count": 91,
   "metadata": {},
   "outputs": [
    {
     "name": "stdout",
     "output_type": "stream",
     "text": [
      "0.56\n",
      "1.11\n",
      "1.67\n",
      "2.22\n",
      "2.78\n",
      "3.33\n",
      "3.89\n",
      "4.44\n"
     ]
    }
   ],
   "source": [
    "import numpy as np\n",
    "b = np.linspace(0,5,9,endpoint = False)\n",
    "for i in b[1:]:\n",
    "    print(round(i,2))"
   ]
  }
 ],
 "metadata": {
  "kernelspec": {
   "display_name": "Python 3",
   "language": "python",
   "name": "python3"
  },
  "language_info": {
   "codemirror_mode": {
    "name": "ipython",
    "version": 3
   },
   "file_extension": ".py",
   "mimetype": "text/x-python",
   "name": "python",
   "nbconvert_exporter": "python",
   "pygments_lexer": "ipython3",
   "version": "3.7.4"
  }
 },
 "nbformat": 4,
 "nbformat_minor": 2
}
