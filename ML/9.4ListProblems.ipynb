{
 "cells": [
  {
   "cell_type": "raw",
   "metadata": {},
   "source": [
    "Given a 2D integer array of size M*N, find and print the sum of ith row elements separated by space.\n",
    "Line 1 : Two integers M and N (separated by space) \n",
    "Line 2 : Matrix elements of each row (separated by space)\n",
    "Sum of every ith row elements (separated by space)\n"
   ]
  },
  {
   "cell_type": "code",
   "execution_count": 3,
   "metadata": {},
   "outputs": [
    {
     "name": "stdout",
     "output_type": "stream",
     "text": [
      "4 3\n",
      "1 2 3 3 4 5 6 7 8 9 10 11\n",
      "6 12 21 30 "
     ]
    }
   ],
   "source": [
    "size = input().split()\n",
    "m = int(size[0])\n",
    "n = int(size[1])\n",
    "\n",
    "l = [int(i) for i in input().split()]\n",
    "\n",
    "ll = []\n",
    "\n",
    "for i in range(m):\n",
    "    strt = n * i\n",
    "    end = (i+1) * n\n",
    "    ll.append(l[strt:end])\n",
    "for i in range(m):\n",
    "    sum = 0\n",
    "    for j in range(n):\n",
    "        sum += ll[i][j]\n",
    "    print(sum,end=' ')\n",
    "\n"
   ]
  },
  {
   "cell_type": "code",
   "execution_count": 5,
   "metadata": {},
   "outputs": [
    {
     "name": "stdout",
     "output_type": "stream",
     "text": [
      "4 3\n",
      "1 2 3 3 4 5 6 7 8 9 10 11\n",
      "6   1 2   2 1   3 0\n"
     ]
    }
   ],
   "source": [
    "## putting above solution using function\n",
    "def rowWiseSum(arr):\n",
    "    m = len(arr)\n",
    "    out =''\n",
    "    if m == 0:\n",
    "        out='0'\n",
    "        return out\n",
    "    n = len(arr[0])\n",
    "    for i in range(m):\n",
    "        sum = 0\n",
    "        if i != 0:\n",
    "            out = out + ' '            \n",
    "        for j in range(n):\n",
    "            sum += ll[i][j]\n",
    "        out = out + str(sum)\n",
    "    return out\n",
    "    \n",
    "\n",
    "#Main\n",
    "m, n=(int(i) for i in input().strip().split(' '))\n",
    "l=[int(i) for i in input().strip().split(' ')]\n",
    "arr = [ [ l[(j*n)+i] for i in range(n)] for j in range(m)]\n",
    "l=rowWiseSum(arr)\n",
    "print(*l)"
   ]
  },
  {
   "cell_type": "raw",
   "metadata": {},
   "source": [
    "Given a two dimensional n*m array, print the array in a sine wave order. i.e. print the first column top to bottom, next column bottom to top and so on.\n",
    "Note : Print the elements separated by space.\n",
    "Input format :\n",
    "n, m, array elements (separated by space)\n",
    "Sample Input :\n",
    "3 4 1  2  3  4 5  6  7  8 9 10 11 12\n",
    "Sample Output :\n",
    "1 5 9 10 6 2 3 7 11 12 8 4"
   ]
  },
  {
   "cell_type": "code",
   "execution_count": 9,
   "metadata": {},
   "outputs": [
    {
     "name": "stdout",
     "output_type": "stream",
     "text": [
      "3 4 1 2 3 4 5 6 7 8 9 10 11 12\n",
      "1 5 9 10 6 2 3 7 11 12 8 4 "
     ]
    }
   ],
   "source": [
    "def wavePrint(arr):\n",
    "    m = len(arr)\n",
    "    if m == 0:\n",
    "        return\n",
    "    n = len(arr[0])\n",
    "    for i in range(n):\n",
    "        if i % 2 == 0:\n",
    "            for j in range(m):\n",
    "                print(arr[j][i],end=' ')\n",
    "        else :\n",
    "            j = m-1\n",
    "            while j >=0:\n",
    "                print(arr[j][i],end=' ')\n",
    "                j -= 1\n",
    "    \n",
    "\n",
    "#Main\n",
    "l=[int(i) for i in input().strip().split(' ')]\n",
    "m, n=l[0], l[1]\n",
    "arr = [ [ l[(j*n)+i+2] for i in range(n)] for j in range(m)]\n",
    "wavePrint(arr)"
   ]
  },
  {
   "cell_type": "code",
   "execution_count": null,
   "metadata": {},
   "outputs": [],
   "source": [
    "l=[int(i) for i in input().strip().split(' ')]\n",
    "m, n=l[0], l[1]\n",
    "arr = [ [ l[(j*n)+i+2] for i in range(n)] for j in range(m)]\n",
    "wavePrint(arr)\n"
   ]
  }
 ],
 "metadata": {
  "kernelspec": {
   "display_name": "Python 3",
   "language": "python",
   "name": "python3"
  },
  "language_info": {
   "codemirror_mode": {
    "name": "ipython",
    "version": 3
   },
   "file_extension": ".py",
   "mimetype": "text/x-python",
   "name": "python",
   "nbconvert_exporter": "python",
   "pygments_lexer": "ipython3",
   "version": "3.7.4"
  }
 },
 "nbformat": 4,
 "nbformat_minor": 2
}
