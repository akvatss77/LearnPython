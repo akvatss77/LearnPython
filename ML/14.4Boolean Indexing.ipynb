{
 "cells": [
  {
   "cell_type": "code",
   "execution_count": 21,
   "metadata": {},
   "outputs": [
    {
     "name": "stdout",
     "output_type": "stream",
     "text": [
      "[21  3 14 10 14 16]\n"
     ]
    }
   ],
   "source": [
    "import numpy as np\n",
    "\n",
    "arr = np.random.randint(2,25,6)\n",
    "print(arr)"
   ]
  },
  {
   "cell_type": "markdown",
   "metadata": {},
   "source": [
    "**Now lets say I want an array of elements which are in arr and greater than 10**"
   ]
  },
  {
   "cell_type": "code",
   "execution_count": 22,
   "metadata": {},
   "outputs": [
    {
     "name": "stdout",
     "output_type": "stream",
     "text": [
      "bool_arr  [ True False  True False  True  True]\n",
      "new array  [21 14 14 16]\n"
     ]
    }
   ],
   "source": [
    "bool_arr = arr > 10\n",
    "print('bool_arr ',bool_arr)\n",
    "new_arr  = arr[bool_arr]\n",
    "print('new array ',new_arr)"
   ]
  },
  {
   "cell_type": "markdown",
   "metadata": {},
   "source": [
    "**what you have seen above is beauty of bool indexing and we can do the same in a single line**"
   ]
  },
  {
   "cell_type": "code",
   "execution_count": 23,
   "metadata": {},
   "outputs": [
    {
     "name": "stdout",
     "output_type": "stream",
     "text": [
      "[21  3 14 10 14 16]\n",
      "[21 14 14 16]\n"
     ]
    }
   ],
   "source": [
    "print(arr)\n",
    "new_arr = arr[arr > 10] ## this is the single line step\n",
    "print(new_arr)"
   ]
  },
  {
   "cell_type": "markdown",
   "metadata": {},
   "source": [
    "**We can also club multiple conditions together**"
   ]
  },
  {
   "cell_type": "code",
   "execution_count": 24,
   "metadata": {},
   "outputs": [
    {
     "name": "stdout",
     "output_type": "stream",
     "text": [
      "[21  3 14 10 14 16]\n",
      "[14 14 16]\n"
     ]
    }
   ],
   "source": [
    "new_arr = arr[(arr > 10) & (arr < 18)]\n",
    "print(arr)\n",
    "print(new_arr)"
   ]
  },
  {
   "cell_type": "markdown",
   "metadata": {},
   "source": [
    "**We can also update multiple elements together in case of numpy arrays**"
   ]
  },
  {
   "cell_type": "code",
   "execution_count": 25,
   "metadata": {},
   "outputs": [
    {
     "name": "stdout",
     "output_type": "stream",
     "text": [
      "arr : [21  3 14 10 14 16]\n",
      "[15 15 14 10 14 16]\n",
      "[123 123 123  10 123 123]\n"
     ]
    }
   ],
   "source": [
    "print('arr :',arr)\n",
    "c = arr\n",
    "c[:2] = 15\n",
    "print(c)\n",
    "c[c>11] = 123\n",
    "print(c)"
   ]
  },
  {
   "cell_type": "markdown",
   "metadata": {},
   "source": [
    "**Very important function is where(condition): this function returns the indices of all the elements of array which satisfies the condition**"
   ]
  },
  {
   "cell_type": "code",
   "execution_count": 27,
   "metadata": {},
   "outputs": [
    {
     "name": "stdout",
     "output_type": "stream",
     "text": [
      "[123 123 123  10 123 123]\n",
      "(array([0, 1, 2, 4, 5], dtype=int64),)\n"
     ]
    }
   ],
   "source": [
    "print(arr)\n",
    "b = np.array(['a','b','c','d','e','f'])\n",
    "ind_arr = np.where(arr == 123)\n",
    "print(ind_arr)\n"
   ]
  },
  {
   "cell_type": "code",
   "execution_count": 29,
   "metadata": {},
   "outputs": [
    {
     "name": "stdout",
     "output_type": "stream",
     "text": [
      "['a' 'b' 'c' 'd' 'e' 'f']\n",
      "[123 123 123  10 123 123]\n",
      "['a' 'b' 'c' 'e' 'f']\n"
     ]
    }
   ],
   "source": [
    "print(b)\n",
    "print(arr)\n",
    "out_arr = b[ind_arr]\n",
    "print(out_arr)"
   ]
  },
  {
   "cell_type": "raw",
   "metadata": {},
   "source": [
    "Problem Statemnt:\n",
    "Find indices of non-zero elements from the array [1,2,0,0,4,0] ?\n",
    "Print the index of non-zero elements.\n",
    "Output Format :\n",
    "index1 index2 index3 ... "
   ]
  },
  {
   "cell_type": "code",
   "execution_count": 84,
   "metadata": {},
   "outputs": [
    {
     "ename": "AttributeError",
     "evalue": "'numpy.ndarray' object has no attribute 'strip'",
     "output_type": "error",
     "traceback": [
      "\u001b[1;31m---------------------------------------------------------------------------\u001b[0m",
      "\u001b[1;31mAttributeError\u001b[0m                            Traceback (most recent call last)",
      "\u001b[1;32m<ipython-input-84-433f8b8219d8>\u001b[0m in \u001b[0;36m<module>\u001b[1;34m\u001b[0m\n\u001b[0;32m      3\u001b[0m \u001b[0mind\u001b[0m \u001b[1;33m=\u001b[0m \u001b[0mnp\u001b[0m\u001b[1;33m.\u001b[0m\u001b[0mwhere\u001b[0m\u001b[1;33m(\u001b[0m\u001b[0marr\u001b[0m \u001b[1;33m!=\u001b[0m \u001b[1;36m0\u001b[0m\u001b[1;33m)\u001b[0m\u001b[1;33m\u001b[0m\u001b[1;33m\u001b[0m\u001b[0m\n\u001b[0;32m      4\u001b[0m \u001b[1;31m#s = str(ind[0])\u001b[0m\u001b[1;33m\u001b[0m\u001b[1;33m\u001b[0m\u001b[1;33m\u001b[0m\u001b[0m\n\u001b[1;32m----> 5\u001b[1;33m \u001b[0mprint\u001b[0m\u001b[1;33m(\u001b[0m\u001b[0mind\u001b[0m\u001b[1;33m[\u001b[0m\u001b[1;36m0\u001b[0m\u001b[1;33m]\u001b[0m\u001b[1;33m.\u001b[0m\u001b[0mstrip\u001b[0m\u001b[1;33m(\u001b[0m\u001b[1;34m'['\u001b[0m\u001b[1;33m)\u001b[0m\u001b[1;33m.\u001b[0m\u001b[0mstrip\u001b[0m\u001b[1;33m(\u001b[0m\u001b[1;34m']'\u001b[0m\u001b[1;33m)\u001b[0m\u001b[1;33m)\u001b[0m\u001b[1;33m\u001b[0m\u001b[1;33m\u001b[0m\u001b[0m\n\u001b[0m\u001b[0;32m      6\u001b[0m \u001b[1;33m\u001b[0m\u001b[0m\n",
      "\u001b[1;31mAttributeError\u001b[0m: 'numpy.ndarray' object has no attribute 'strip'"
     ]
    }
   ],
   "source": [
    "import numpy as np\n",
    "arr = np.array([1,2,0,0,4,0])\n",
    "ind = np.where(arr != 0)\n",
    "s = str(ind[0])\n",
    "print(s.strip('[').strip(']'))\n",
    "\n"
   ]
  },
  {
   "cell_type": "raw",
   "metadata": {},
   "source": [
    "Multiples of 3\n",
    "Send Feedback\n",
    "Problem Statement:\n",
    "Given an integer array of size 10. Print the index of elements which are multiple of 3.\n",
    "Note: Generate the following array\n",
    "array([ 1,  3,  5,  7,  9, 11, 13, 15, 17, 19])\n",
    "Print the index of elements.\n",
    "Output Format :\n",
    "index1 index2 index3 ... "
   ]
  },
  {
   "cell_type": "code",
   "execution_count": 85,
   "metadata": {},
   "outputs": [
    {
     "name": "stdout",
     "output_type": "stream",
     "text": [
      "1 4 7\n"
     ]
    }
   ],
   "source": [
    "import numpy as np\n",
    "\n",
    "a = np.array([1,3,5,7,9,11,13,15,17,19])\n",
    "ind = np.where(a % 3 == 0)\n",
    "s = str(ind[0])\n",
    "print(s.strip('[').strip(']'))\n",
    "\n"
   ]
  },
  {
   "cell_type": "raw",
   "metadata": {},
   "source": [
    "Odd elements\n",
    "Send Feedback\n",
    "Problem Statemnt:\n",
    "Given an integer array of size 10. Replace the odd number in numpy array with -1 ?\n",
    "Note: Generate the following array\n",
    "array([1, 2, 3, 4, 5, 6, 7, 8, 9, 10])\n",
    "Print the Numpy array.\n",
    "Output Format :\n",
    "firstElement secondElement  ... "
   ]
  },
  {
   "cell_type": "code",
   "execution_count": 89,
   "metadata": {},
   "outputs": [
    {
     "name": "stdout",
     "output_type": "stream",
     "text": [
      "-1 2 -1 4 -1 6 -1 8 -1 10 "
     ]
    }
   ],
   "source": [
    "import numpy as np\n",
    "a = np.array([1,2,3,4,5,6,7,8,9,10])\n",
    "a[a%2 != 0] = -1\n",
    "for i in a:\n",
    "    print(i , end = ' ')\n"
   ]
  },
  {
   "cell_type": "raw",
   "metadata": {},
   "source": [
    "Replace Max\n",
    "Send Feedback\n",
    "Problem Statemnt:\n",
    "Given an integer array of size 10 and replace the first occurrence of maximum value by 0?\n",
    "Note: Generate the following array\n",
    "array([11, 2, 13, 4, 15, 6, 27, 8, 19])\n",
    "Print the Numpy array.\n",
    "Output Format :\n",
    "firstElement\n",
    "secondElement \n",
    "... "
   ]
  },
  {
   "cell_type": "code",
   "execution_count": 91,
   "metadata": {},
   "outputs": [
    {
     "name": "stdout",
     "output_type": "stream",
     "text": [
      "11\n",
      "2\n",
      "13\n",
      "4\n",
      "15\n",
      "6\n",
      "0\n",
      "8\n",
      "19\n"
     ]
    }
   ],
   "source": [
    "import numpy as np\n",
    "a = np.array([11, 2, 13, 4, 15, 6, 27, 8, 19])\n",
    "a[a.argmax()] = 0\n",
    "for i in a:\n",
    "    print(i)"
   ]
  },
  {
   "cell_type": "raw",
   "metadata": {},
   "source": [
    "Negate Elements\n",
    "Send Feedback\n",
    "Problem Statemnt:\n",
    "Given a 1D array, negate all elements which are between 3 and 8 (both inclusive)?\n",
    "Note: Generate the following array\n",
    "array([1, 2, 3, 4, 5, 6, 7, 8, 9, 10])\n",
    "Print the Numpy array.\n",
    "Output Format :\n",
    "firstElement \n",
    "secondElement  \n",
    "... "
   ]
  },
  {
   "cell_type": "code",
   "execution_count": 107,
   "metadata": {},
   "outputs": [
    {
     "name": "stdout",
     "output_type": "stream",
     "text": [
      "1\n",
      "2\n",
      "-3\n",
      "-4\n",
      "-5\n",
      "-6\n",
      "-7\n",
      "-8\n",
      "9\n",
      "10\n"
     ]
    }
   ],
   "source": [
    "import numpy as np\n",
    "\n",
    "a = np.array([1, 2, 3, 4, 5, 6, 7, 8, 9, 10])\n",
    "b = np.array([1, 2, 3, 4, 5, 6, 7, 8, 9, 10])\n",
    "ind = np.where((a <= 8) & (a >= 3))\n",
    "b[ind] = 0\n",
    "c = b - a\n",
    "d = c+b\n",
    "for i in d:\n",
    "    print(i)"
   ]
  },
  {
   "cell_type": "raw",
   "metadata": {},
   "source": [
    "Height\n",
    "Send Feedback\n",
    "Problem Statemnt:\n",
    "Given age and height of 20 students in two different numpy arrays with name age and height (in cms). Print the age of those students whose height is above 155 cm.\n",
    "Print the Numpy array.\n",
    "Output Format :\n",
    "age1 height1 \n",
    "age2 height2 \n",
    "... "
   ]
  },
  {
   "cell_type": "code",
   "execution_count": 109,
   "metadata": {},
   "outputs": [
    {
     "name": "stdout",
     "output_type": "stream",
     "text": [
      "15 156\n",
      "19 180\n",
      "20 162\n",
      "21 157\n",
      "22 158\n",
      "23 179\n",
      "16 182\n",
      "18 183\n",
      "20 159\n",
      "15 160\n",
      "17 172\n"
     ]
    }
   ],
   "source": [
    "import numpy as np\n",
    "age=np.array([15,17,19,20,14,21,16,19,13,20,22,23,21,16,18,19,20,15,17,18])\n",
    "height=np.array([156,144,180,162,152,157,154,155,151,150,158,179,126,182,183,154,159,160,172,149])\n",
    "\n",
    "ind = np.where(height > 155)\n",
    "age_p = age[ind]\n",
    "height_p = height[ind]\n",
    "\n",
    "for i in range(age_p.size):\n",
    "    print(age_p[i],height_p[i])"
   ]
  }
 ],
 "metadata": {
  "kernelspec": {
   "display_name": "Python 3",
   "language": "python",
   "name": "python3"
  },
  "language_info": {
   "codemirror_mode": {
    "name": "ipython",
    "version": 3
   },
   "file_extension": ".py",
   "mimetype": "text/x-python",
   "name": "python",
   "nbconvert_exporter": "python",
   "pygments_lexer": "ipython3",
   "version": "3.7.4"
  }
 },
 "nbformat": 4,
 "nbformat_minor": 2
}
