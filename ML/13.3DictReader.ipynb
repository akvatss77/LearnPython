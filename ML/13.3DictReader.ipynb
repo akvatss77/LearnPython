{
 "cells": [
  {
   "cell_type": "markdown",
   "metadata": {},
   "source": [
    "# DictReader() Function"
   ]
  },
  {
   "cell_type": "markdown",
   "metadata": {},
   "source": [
    "**This will return the data in dictionary format**"
   ]
  },
  {
   "cell_type": "code",
   "execution_count": 9,
   "metadata": {},
   "outputs": [
    {
     "name": "stdout",
     "output_type": "stream",
     "text": [
      "OrderedDict([('Year', '2017'), ('Month', '1'), ('Day', '2'), ('Country', 'Afghanistan'), ('Region', 'South Asia'), ('city', 'Takhta Pul'), ('latitude', '31.320556'), ('longitude', '65.961111'), ('AttackType', 'Hostage Taking (Kidnapping)'), ('Killed', '0.0'), ('Wounded', '0.0'), ('Target', 'Construction Workers'), ('Group', 'Taliban'), ('Target_type', 'Business'), ('Weapon_type', 'Firearms'), ('casualities', '0.0')])\n",
      "OrderedDict([('Year', '2017'), ('Month', '1'), ('Day', '3'), ('Country', 'Sudan'), ('Region', 'Sub-Saharan Africa'), ('city', 'Fantaga'), ('latitude', '12.921007000000001'), ('longitude', '24.318324'), ('AttackType', 'Armed Assault'), ('Killed', '2.0'), ('Wounded', '0.0'), ('Target', 'Civilians: Haroun Yousif, Hamid Ibrahim'), ('Group', 'Unknown'), ('Target_type', 'Private Citizens & Property'), ('Weapon_type', 'Firearms'), ('casualities', '2.0')])\n",
      "OrderedDict([('Year', '2017'), ('Month', '1'), ('Day', '1'), ('Country', 'Democratic Republic of the Congo'), ('Region', 'Sub-Saharan Africa'), ('city', 'Saboko'), ('latitude', '1.452372'), ('longitude', '29.875162'), ('AttackType', 'Armed Assault'), ('Killed', '7.0'), ('Wounded', '0.0'), ('Target', 'Village'), ('Group', 'Allied Democratic Forces (ADF)'), ('Target_type', 'Private Citizens & Property'), ('Weapon_type', 'Melee'), ('casualities', '7.0')])\n"
     ]
    }
   ],
   "source": [
    "import csv\n",
    "\n",
    "with open('Dataset/year2017.csv','r') as file_obj:\n",
    "    file_data = csv.DictReader(file_obj,skipinitialspace = True)\n",
    "    \n",
    "    i = 0\n",
    "    for row in file_data:\n",
    "        print(row)\n",
    "        i += 1\n",
    "        if i== 3:\n",
    "            break\n",
    "        #just printed 2 rows for better readability"
   ]
  },
  {
   "cell_type": "markdown",
   "metadata": {},
   "source": [
    "**As we can see its giving the list of dictionary : key is column name and value is the row value for that column** "
   ]
  },
  {
   "cell_type": "markdown",
   "metadata": {},
   "source": [
    "**This DictReader function assigns key name from the first row, if we want custom names that also can be given**"
   ]
  },
  {
   "cell_type": "code",
   "execution_count": 11,
   "metadata": {},
   "outputs": [
    {
     "name": "stdout",
     "output_type": "stream",
     "text": [
      "OrderedDict([('a', 'Year'), ('b', 'Month'), ('c', 'Day'), (None, ['Country', 'Region', 'city', 'latitude', 'longitude', 'AttackType', 'Killed', 'Wounded', 'Target', 'Group', 'Target_type', 'Weapon_type', 'casualities'])])\n",
      "OrderedDict([('a', '2017'), ('b', '1'), ('c', '2'), (None, ['Afghanistan', 'South Asia', 'Takhta Pul', '31.320556', '65.961111', 'Hostage Taking (Kidnapping)', '0.0', '0.0', 'Construction Workers', 'Taliban', 'Business', 'Firearms', '0.0'])])\n",
      "OrderedDict([('a', '2017'), ('b', '1'), ('c', '3'), (None, ['Sudan', 'Sub-Saharan Africa', 'Fantaga', '12.921007000000001', '24.318324', 'Armed Assault', '2.0', '0.0', 'Civilians: Haroun Yousif, Hamid Ibrahim', 'Unknown', 'Private Citizens & Property', 'Firearms', '2.0'])])\n"
     ]
    }
   ],
   "source": [
    "import csv\n",
    "\n",
    "with open('Dataset/year2017.csv','r') as file_obj:\n",
    "    file_data = csv.DictReader(file_obj,skipinitialspace = True,fieldnames= ('a','b','c'))\n",
    "    \n",
    "    i = 0\n",
    "    for row in file_data:\n",
    "        print(row)\n",
    "        i += 1\n",
    "        if i== 3:\n",
    "            break"
   ]
  },
  {
   "cell_type": "markdown",
   "metadata": {},
   "source": [
    "**As we have given less columns so it has merged rest of the columns under column name none**"
   ]
  },
  {
   "cell_type": "markdown",
   "metadata": {},
   "source": [
    "**now as in last question we were saying row[9] to refer killed column now we can say row['killed']**"
   ]
  },
  {
   "cell_type": "raw",
   "metadata": {},
   "source": [
    "Casualties from Explosives\n",
    "Send Feedback\n",
    "Given file \"year2017.csv\"\n",
    "It is an open-source database including information on terrorist attacks around the world in 2017. This dataset includes systematic data on domestic as well as international terrorist incidents that have occurred during this time period\n",
    "Problem Statement :\n",
    "Find and print total number of casualties with “Explosives” Weapon_type.\n",
    "Print the count as integer value.\n",
    "Note : There can be missing values in \"casualties\" column and there are some initial spaces present in every value. You should try to print the values and observe.\n",
    "Output Format :\n",
    "Count\n"
   ]
  },
  {
   "cell_type": "code",
   "execution_count": 15,
   "metadata": {},
   "outputs": [
    {
     "name": "stdout",
     "output_type": "stream",
     "text": [
      "29280\n"
     ]
    }
   ],
   "source": [
    "import csv\n",
    "with open('Dataset/year2017.csv','r') as file_ob:\n",
    "    data_file = csv.DictReader(file_ob,skipinitialspace= True)\n",
    "    \n",
    "    cas = []\n",
    "    for row in data_file:\n",
    "        if row[\"Weapon_type\"] == \"Explosives\" and row[\"casualities\"] != '':\n",
    "            cas.append(float(row[\"casualities\"]))\n",
    "    \n",
    "print(int(sum(cas)))\n",
    "            \n",
    "            "
   ]
  },
  {
   "cell_type": "markdown",
   "metadata": {},
   "source": [
    "**Creating a dictionary of country wise killed**"
   ]
  },
  {
   "cell_type": "code",
   "execution_count": 18,
   "metadata": {},
   "outputs": [
    {
     "name": "stdout",
     "output_type": "stream",
     "text": [
      "{'Afghanistan': 6092, 'Sudan': 82, 'Democratic Republic of the Congo': 596, 'Turkey': 222, 'Syria': 2026, 'Pakistan': 1076, 'Italy': 0, 'Somalia': 1912, 'Yemen': 762, 'Bahrain': 6, 'Myanmar': 218, 'Burundi': 20, 'Iraq': 6476, 'Egypt': 877, 'Burkina Faso': 53, 'India': 465, 'Algeria': 12, 'United States': 95, 'Philippines': 496, 'Greece': 0, 'Mali': 361, 'Libya': 289, 'Central African Republic': 601, 'Nigeria': 1805, 'Lebanon': 17, 'Mexico': 23, 'Cameroon': 228, 'Ethiopia': 67, 'Kyrgyzstan': 0, 'Serbia': 0, 'Sweden': 5, 'Thailand': 72, 'Iran': 39, 'France': 7, 'United Kingdom': 42, 'West Bank and Gaza Strip': 50, 'Ukraine': 40, 'Paraguay': 4, 'Colombia': 84, 'Malaysia': 4, 'Russia': 61, 'Kosovo': 0, 'South Africa': 21, 'Chile': 0, 'Kenya': 126, 'Israel': 3, 'Saudi Arabia': 31, 'China': 16, 'Nepal': 4, 'Ecuador': 0, 'Niger': 148, 'Venezuela': 5, 'South Sudan': 581, 'Canada': 6, 'Bangladesh': 25, 'Tajikistan': 1, 'Angola': 7, 'Ireland': 0, 'Peru': 8, 'Dominican Republic': 2, 'Poland': 0, 'Jordan': 4, 'Azerbaijan': 5, 'Mozambique': 22, 'Indonesia': 20, 'Germany': 1, 'Brazil': 0, 'Macedonia': 0, 'Tunisia': 5, 'Uganda': 7, 'Chad': 62, 'Finland': 2, 'Australia': 4, 'Norway': 0, 'Vietnam': 0, 'Tanzania': 8, 'Sierra Leone': 0, 'Sri Lanka': 1, 'Maldives': 1, 'Belgium': 2, 'Rwanda': 2, 'Honduras': 2, 'Czech Republic': 0, 'Malta': 1, 'Gabon': 0, 'Laos': 1, 'Djibouti': 0, 'Austria': 2, 'Zambia': 0, 'Argentina': 0, 'Papua New Guinea': 0, 'Zimbabwe': 0, 'Ivory Coast': 3, 'Spain': 21, 'Taiwan': 0, 'Jamaica': 0, 'Albania': 0, 'Liberia': 0, 'Georgia': 0, 'Malawi': 0, 'Netherlands': 0, 'Latvia': 0}\n"
     ]
    }
   ],
   "source": [
    "import csv\n",
    "with open('Dataset/year2017.csv','r') as file_ob:\n",
    "    data_file = csv.DictReader(file_ob,skipinitialspace= True)\n",
    "    data_list = list(data_file)\n",
    "    \n",
    "    killed_dict = {}\n",
    "    for row in data_list:\n",
    "        key = row[\"Country\"]\n",
    "        value = row[\"Killed\"]\n",
    "        \n",
    "        if value != '':\n",
    "            value = int(float(value))\n",
    "        else:\n",
    "            value = 0\n",
    "        \n",
    "        if key in killed_dict:\n",
    "            killed_dict[key] += value\n",
    "        else:\n",
    "            killed_dict[key] = value\n",
    "print(killed_dict)\n",
    "    "
   ]
  },
  {
   "cell_type": "raw",
   "metadata": {},
   "source": [
    "Month vs Killed\n",
    "Send Feedback\n",
    "Given file \"year2017.csv\"\n",
    "It is an open-source database including information on terrorist attacks around the world in 2017. This dataset includes systematic data on domestic as well as international terrorist incidents that have occurred during this time period\n",
    "Problem Statement :\n",
    "Find the total number people killed in each month.\n",
    "Print the month and count of killed people as integer value.\n",
    "Output Format :\n",
    "Month_1 Count_1\n",
    "Month_2 Count_2\n",
    "Month_3 Count_3\n",
    "and so on"
   ]
  },
  {
   "cell_type": "code",
   "execution_count": 22,
   "metadata": {},
   "outputs": [
    {
     "name": "stdout",
     "output_type": "stream",
     "text": [
      "1 2275\n",
      "2 2027\n",
      "3 2463\n",
      "4 2142\n",
      "5 2936\n",
      "6 2506\n",
      "7 2228\n",
      "8 2145\n",
      "9 1764\n",
      "10 2580\n",
      "11 2014\n",
      "12 1365\n"
     ]
    }
   ],
   "source": [
    "import csv\n",
    "with open('Dataset/year2017.csv','r') as file_ob:\n",
    "    data_file = csv.DictReader(file_ob,skipinitialspace= True)\n",
    "    data_list = list(data_file)\n",
    "    \n",
    "    killed_dict = {}\n",
    "    for row in data_list:\n",
    "        key = row[\"Month\"]\n",
    "        value = row[\"Killed\"]\n",
    "        \n",
    "        if value != '':\n",
    "            value = int(float(value))\n",
    "        else:\n",
    "            value = 0\n",
    "        \n",
    "        if key in killed_dict:\n",
    "            killed_dict[key] += value\n",
    "        else:\n",
    "            killed_dict[key] = value\n",
    "\n",
    "for i in killed_dict:\n",
    "    print(i,killed_dict[i])"
   ]
  },
  {
   "cell_type": "raw",
   "metadata": {},
   "source": [
    "Country vs Casualties\n",
    "Send Feedback\n",
    "Given file \"year2017.csv\"\n",
    "It is an open-source database including information on terrorist attacks around the world in 2017. This dataset includes systematic data on domestic as well as international terrorist incidents that have occurred during this time period\n",
    "Problem Statement :\n",
    "Find total number of casualties in each country.\n",
    "Print number of casualties as integer value.\n",
    "Note : For any missing value of casualty column, take 0 as value\n",
    "Output Format :\n",
    "country_1 casualties_1\n",
    "country_2 casualties_2\n",
    "country_3 casualties_3\n",
    "and so on"
   ]
  },
  {
   "cell_type": "code",
   "execution_count": 25,
   "metadata": {},
   "outputs": [
    {
     "name": "stdout",
     "output_type": "stream",
     "text": [
      "Afghanistan 11698\n",
      "Sudan 255\n",
      "Democratic Republic of the Congo 636\n",
      "Turkey 548\n",
      "Syria 2731\n",
      "Pakistan 3153\n",
      "Italy 8\n",
      "Somalia 3038\n",
      "Yemen 1446\n",
      "Bahrain 32\n",
      "Myanmar 85\n",
      "Burundi 147\n",
      "Iraq 10999\n",
      "Egypt 1499\n",
      "Burkina Faso 98\n",
      "India 1157\n",
      "Algeria 31\n",
      "United States 1027\n",
      "Philippines 1148\n",
      "Greece 7\n",
      "Mali 657\n",
      "Libya 316\n",
      "Central African Republic 569\n",
      "Nigeria 2300\n",
      "Lebanon 66\n",
      "Mexico 29\n",
      "Cameroon 448\n",
      "Ethiopia 80\n",
      "Kyrgyzstan 0\n",
      "Serbia 1\n",
      "Sweden 37\n",
      "Thailand 342\n",
      "Iran 106\n",
      "France 35\n",
      "United Kingdom 343\n",
      "West Bank and Gaza Strip 125\n",
      "Ukraine 104\n",
      "Paraguay 5\n",
      "Colombia 188\n",
      "Malaysia 6\n",
      "Russia 175\n",
      "Kosovo 4\n",
      "South Africa 28\n",
      "Chile 2\n",
      "Kenya 204\n",
      "Israel 18\n",
      "Saudi Arabia 100\n",
      "China 92\n",
      "Nepal 97\n",
      "Ecuador 0\n",
      "Niger 210\n",
      "Venezuela 37\n",
      "South Sudan 836\n",
      "Canada 31\n",
      "Bangladesh 97\n",
      "Tajikistan 1\n",
      "Angola 416\n",
      "Ireland 0\n",
      "Peru 12\n",
      "Dominican Republic 3\n",
      "Poland 0\n",
      "Jordan 5\n",
      "Azerbaijan 7\n",
      "Mozambique 33\n",
      "Indonesia 47\n",
      "Germany 11\n",
      "Brazil 0\n",
      "Macedonia 0\n",
      "Tunisia 10\n",
      "Uganda 9\n",
      "Chad 2\n",
      "Finland 12\n",
      "Australia 25\n",
      "Norway 0\n",
      "Vietnam 0\n",
      "Tanzania 10\n",
      "Sierra Leone 0\n",
      "Sri Lanka 4\n",
      "Maldives 1\n",
      "Belgium 4\n",
      "Rwanda 10\n",
      "Honduras 2\n",
      "Czech Republic 0\n",
      "Malta 1\n",
      "Gabon 2\n",
      "Laos 1\n",
      "Djibouti 0\n",
      "Austria 2\n",
      "Zambia 0\n",
      "Argentina 0\n",
      "Papua New Guinea 3\n",
      "Zimbabwe 1\n",
      "Ivory Coast 5\n",
      "Spain 132\n",
      "Taiwan 1\n",
      "Jamaica 0\n",
      "Albania 0\n",
      "Liberia 0\n",
      "Georgia 5\n",
      "Malawi 0\n",
      "Netherlands 0\n",
      "Latvia 0\n"
     ]
    }
   ],
   "source": [
    "import csv\n",
    "with open('Dataset/year2017.csv','r') as file_ob:\n",
    "    data_file = csv.DictReader(file_ob,skipinitialspace= True)\n",
    "    data_list = list(data_file)\n",
    "    \n",
    "    killed_dict = {}\n",
    "    for row in data_list:\n",
    "        key = row[\"Country\"]\n",
    "        value = row[\"casualities\"]\n",
    "        \n",
    "        if value != '':\n",
    "            value = int(float(value))\n",
    "        else:\n",
    "            value = 0\n",
    "        \n",
    "        if key in killed_dict:\n",
    "            killed_dict[key] += value\n",
    "        else:\n",
    "            killed_dict[key] = value\n",
    "\n",
    "for i in killed_dict:\n",
    "    print(i,killed_dict[i])"
   ]
  },
  {
   "cell_type": "code",
   "execution_count": null,
   "metadata": {},
   "outputs": [],
   "source": []
  }
 ],
 "metadata": {
  "kernelspec": {
   "display_name": "Python 3",
   "language": "python",
   "name": "python3"
  },
  "language_info": {
   "codemirror_mode": {
    "name": "ipython",
    "version": 3
   },
   "file_extension": ".py",
   "mimetype": "text/x-python",
   "name": "python",
   "nbconvert_exporter": "python",
   "pygments_lexer": "ipython3",
   "version": "3.7.4"
  }
 },
 "nbformat": 4,
 "nbformat_minor": 2
}
