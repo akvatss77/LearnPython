{
 "cells": [
  {
   "cell_type": "markdown",
   "metadata": {},
   "source": [
    "## Statistics"
   ]
  },
  {
   "cell_type": "raw",
   "metadata": {},
   "source": [
    "Problem Statement :\n",
    "We want to find out the average amount of funding given to startups which are in either Bangalore or in New Delhi.\n",
    "For this - rather than considering all the startups, take a sample of size 50 (without replacement). Then find the average amount of funding from this sample and calculate the Sampling Error.\n",
    "\n",
    "Sampling Error = Average(Population) - Average(Sample)\n",
    "\n",
    "Note:\n",
    "Take city name \"Delhi\" as \"New Delhi\".\n",
    "Check the case-sensitiveness of cities also. That means - at some place, instead of \"Bangalore\", \"bangalore\" is given. Take city name as \"Bangalore\"\n",
    "\n",
    "\n",
    "Output :\n",
    " Print Sampling Error\n"
   ]
  },
  {
   "cell_type": "code",
   "execution_count": 36,
   "metadata": {},
   "outputs": [
    {
     "name": "stdout",
     "output_type": "stream",
     "text": [
      "18017834.317152105 11824040.0\n",
      "sample error is  6193794.317152105\n"
     ]
    }
   ],
   "source": [
    "import pandas as pd\n",
    "\n",
    "df = pd.read_csv('Dataset/startup_funding.csv')\n",
    "#Here replacing all the occurances starting with Delhi\n",
    "df['CityLocation'] = df.CityLocation.str.replace('^Delhi','New Delhi')\n",
    "df['CityLocation'] = df.CityLocation.str.replace('bangalore','Bangalore')\n",
    "\n",
    "#Creating an array which will be used to slice the data frame based on city\n",
    "arr = ['New Delhi','Bangalore']\n",
    "\n",
    "#This function is used to select only rows which have city location equals to element of arr\n",
    "df_pop = df.loc[df['CityLocation'].isin(arr)].copy()\n",
    "df_pop.dropna(subset=['AmountInUSD'],inplace=True)\n",
    "\n",
    "Investment_complete = df_pop['AmountInUSD']\n",
    "Investment_complete = Investment_complete.str.replace(',','')\n",
    "\n",
    "Investment_complete = pd.to_numeric(Investment_complete)\n",
    "pop_avg = Investment_complete.mean()\n",
    "\n",
    "sample = Investment_complete.sample(50,random_state = 1)\n",
    "sample_avg = sample.mean()\n",
    "print(pop_avg,sample_avg)\n",
    "\n",
    "print('sample error is ',pop_avg - sample_avg)\n"
   ]
  },
  {
   "cell_type": "raw",
   "metadata": {},
   "source": [
    "Problem Statement :\n",
    "We want to find out the average amount of funding given to startups which are in either Bangalore or in New Delhi.\n",
    "For this - rather than considering all the startups, take a sample of size 75 (with replacement). Then find the average amount of funding from this sample and calculate the Sampling Error.\n",
    "Sampling Error = Average(Population) - Average(Sample)\n",
    "\n",
    "Note:\n",
    "Take city name \"Delhi\" as \"New Delhi\".\n",
    "Check the case-sensitiveness of cities also. That means - at some place, instead of \"Bangalore\", \"bangalore\" is given. Take city name as \"Bangalore\""
   ]
  },
  {
   "cell_type": "code",
   "execution_count": 38,
   "metadata": {},
   "outputs": [
    {
     "name": "stdout",
     "output_type": "stream",
     "text": [
      "6917686.666666667\n",
      "sample error is  11100147.650485437\n"
     ]
    },
    {
     "data": {
      "text/plain": [
       "119     104500000\n",
       "822       2000000\n",
       "249        750000\n",
       "477       1000000\n",
       "437         22500\n",
       "          ...    \n",
       "863       5000000\n",
       "1252      1000000\n",
       "2114     16000000\n",
       "655       1000000\n",
       "1085        40000\n",
       "Name: AmountInUSD, Length: 75, dtype: int64"
      ]
     },
     "execution_count": 38,
     "metadata": {},
     "output_type": "execute_result"
    }
   ],
   "source": [
    "sample2 = Investment_complete.sample(75,replace = True,random_state = 1)\n",
    "sample_avg2 = sample2.mean()\n",
    "print(sample_avg2)\n",
    "print('sample error is ',pop_avg - sample_avg2)\n",
    "sample2"
   ]
  },
  {
   "cell_type": "raw",
   "metadata": {},
   "source": [
    "Problem Statement :\n",
    "We want to find out the maximum amount of funding given to any startup in following regions -\n",
    "Bangalore \n",
    "NCR (which includes New Delhi, Gurgaon and Noida)\n",
    "Mumbai \n",
    "Pune \n",
    "Hydreabad \n",
    "\n",
    "So create your population data first by extracting those startups which are in given cities.\n",
    "Then rather than using SRS for extracting sample, create 5 different stratas based on 5 regions and then apply stratified sampling on these 5 stratas to extract a sample of size 100 startups (taking 20 values from each strata)\n",
    "Find and print Sampling error.\n",
    "Note:\n",
    "Take city name \"Delhi\" as \"New Delhi\".\n",
    "Check the case-sensitiveness of cities also. That means - at some place, instead of \"Bangalore\", \"bangalore\" is given. Take city name as \"Bangalore\""
   ]
  },
  {
   "cell_type": "code",
   "execution_count": 61,
   "metadata": {},
   "outputs": [
    {
     "name": "stdout",
     "output_type": "stream",
     "text": [
      "all max =  1400000000\n",
      "sample max =  680000000\n",
      "sampling error =  720000000\n"
     ]
    }
   ],
   "source": [
    "import pandas as pd\n",
    "\n",
    "df1 = pd.read_csv('Dataset/startup_funding.csv')\n",
    "df1.CityLocation.str.replace('^Delhi','New Delhi')\n",
    "df1.CityLocation.str.replace('bangalore','Bangalore')\n",
    "\n",
    "df1.dropna(subset=['AmountInUSD'],inplace = True)\n",
    "\n",
    "all_city = ['Bangalore','Mumbai','Pune','Hyderabad','New Delhi','Gurgaon','Noida']\n",
    "all_data = df1.loc[df1['CityLocation'].isin(all_city)].copy()\n",
    "\n",
    "all_data.AmountInUSD = all_data.AmountInUSD.str.replace(',','')\n",
    "all_data.AmountInUSD = pd.to_numeric(all_data.AmountInUSD)\n",
    "\n",
    "bangalore_data = all_data.loc[all_data['CityLocation'] == 'Bangalore']\n",
    "Mumbai_data = all_data.loc[all_data['CityLocation'] == 'Mumbai']\n",
    "Pune_data = all_data.loc[all_data['CityLocation'] == 'Pune']\n",
    "Hyderabad_data = all_data.loc[all_data['CityLocation'] == 'Hyderabad']\n",
    "Ncr_data = all_data.loc[all_data['CityLocation'].isin(['New Delhi','Gurgaon','Noida'])]\n",
    "\n",
    "\n",
    "\n",
    "blr_sam = bangalore_data.sample(20,random_state = 1)\n",
    "mum_sam = Mumbai_data.sample(20,random_state = 1)\n",
    "pun_sam = Pune_data.sample(20,random_state = 1)\n",
    "hyd_sam = Hyderabad_data.sample(20,random_state = 1)\n",
    "ncr_sam = Ncr_data.sample(20,random_state = 1)\n",
    "\n",
    "strat_sample = pd.concat([blr_sam,mum_sam,pun_sam,hyd_sam,ncr_sam])\n",
    "strat_sample\n",
    "\n",
    "all_maximum = all_data.AmountInUSD.max()\n",
    "sample_max = strat_sample.AmountInUSD.max()\n",
    "\n",
    "print('all max = ',all_maximum)\n",
    "print('sample max = ',sample_max)\n",
    "print('sampling error = ',all_maximum - sample_max)\n"
   ]
  },
  {
   "cell_type": "raw",
   "metadata": {},
   "source": [
    "Problem Statement :\n",
    "We want to find out the maximum amount of funding given to any startup in following regions -\n",
    "Bangalore \n",
    "NCR (which includes New Delhi, Gurgaon and Noida)\n",
    "Mumbai \n",
    "Pune \n",
    "Hydreabad \n",
    "So create your population data first by extracting those startups which are in given cities.\n",
    "In the last question, we have used “Stratified Sampling” to sample our data. But you must have realized that our data is having different proportions of startups which are in given cities. So randomly selecting 20 values from each strata is not a good idea. Size of different stratas is quite different.\n",
    "Ideally we should take number of samples from each stratum depending on their proportion in complete dataset.\n",
    "So here we’ll apply “Proportional Stratified sampling”. To use this, first you need to calculate the number of data points that we need to take from each stratus and that can be calculated as -\n",
    "(No_of_values_ith Strata / population_size ) * Sample_Size\n",
    "Then take respective number of values from each strata based on its proportion (using SRS) and create your sample.\n",
    "Find and print Sampling error.\n",
    "Note:\n",
    "Take city name \"Delhi\" as \"New Delhi\".\n",
    "Check the case-sensitiveness of cities also. That means - at some place, instead of \"Bangalore\", \"bangalore\" is given. Take city name as \"Bangalore\""
   ]
  },
  {
   "cell_type": "code",
   "execution_count": 84,
   "metadata": {},
   "outputs": [
    {
     "name": "stdout",
     "output_type": "stream",
     "text": [
      "all max =  1400000000\n",
      "sample max =  680000000\n",
      "sampling error =  720000000\n"
     ]
    }
   ],
   "source": [
    "total = all_data.size\n",
    "blr_size = bangalore_data.size\n",
    "mum_size = Mumbai_data.size\n",
    "pun_size= Pune_data.size\n",
    "hyd_size = Hyderabad_data.size\n",
    "ncr_size = Ncr_data.size\n",
    "\n",
    "blr_ssize = int(round((blr_size / total)*100)) #33\n",
    "mum_ssize = int(round((mum_size / total)*100)+ 1) #24\n",
    "pun_ssize = int(round((pun_size / total)*100)) #4\n",
    "hyd_ssize = int(round((hyd_size / total)*100)) #4\n",
    "ncr_ssize = int(round((ncr_size / total)*100)) #34\n",
    "\n",
    "blr_sam2 = bangalore_data.sample(blr_ssize,random_state = 1)\n",
    "mum_sam2 = Mumbai_data.sample(mum_ssize,random_state = 1)\n",
    "pun_sam2 = Pune_data.sample(pun_ssize,random_state = 1)\n",
    "hyd_sam2 = Hyderabad_data.sample(hyd_ssize,random_state = 1)\n",
    "ncr_sam2 = Ncr_data.sample(ncr_ssize,random_state = 1)\n",
    "\n",
    "strat_sample2 = pd.concat([blr_sam2,mum_sam2,pun_sam2,hyd_sam2,ncr_sam2])\n",
    "\n",
    "\n",
    "all_maximum2 = all_data.AmountInUSD.max()\n",
    "sample_max2 = strat_sample2.AmountInUSD.max()\n",
    "\n",
    "print('all max = ',all_maximum2)\n",
    "print('sample max = ',sample_max2)\n",
    "print('sampling error = ',all_maximum2 - sample_max2)\n",
    "\n",
    "\n",
    "\n"
   ]
  }
 ],
 "metadata": {
  "kernelspec": {
   "display_name": "Python 3",
   "language": "python",
   "name": "python3"
  },
  "language_info": {
   "codemirror_mode": {
    "name": "ipython",
    "version": 3
   },
   "file_extension": ".py",
   "mimetype": "text/x-python",
   "name": "python",
   "nbconvert_exporter": "python",
   "pygments_lexer": "ipython3",
   "version": "3.7.4"
  }
 },
 "nbformat": 4,
 "nbformat_minor": 2
}
