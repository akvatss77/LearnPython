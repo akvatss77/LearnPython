{
 "cells": [
  {
   "cell_type": "markdown",
   "metadata": {},
   "source": [
    "## Starting Jupyter Notebook :\n",
    "\n",
    "Two ways :\n",
    "\n",
    "1.) Go to Anaconda prompt from start menu and enter command : jupyter notebook\n",
    "\n",
    "2.) Or we can directly start from start menu by clicking on Jupyter notebook app.\n",
    "\n",
    "Jupyter Notebook runs on server: http://localhost:8888/tree\n",
    "\n",
    "Python notebook extention is : filename.ipynb\n",
    "\n",
    "We can also make notes apart from writing code : By selecting \"markdown\" instead of code"
   ]
  }
 ],
 "metadata": {
  "kernelspec": {
   "display_name": "Python 3",
   "language": "python",
   "name": "python3"
  },
  "language_info": {
   "codemirror_mode": {
    "name": "ipython",
    "version": 3
   },
   "file_extension": ".py",
   "mimetype": "text/x-python",
   "name": "python",
   "nbconvert_exporter": "python",
   "pygments_lexer": "ipython3",
   "version": "3.7.4"
  }
 },
 "nbformat": 4,
 "nbformat_minor": 2
}
