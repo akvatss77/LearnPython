{
 "cells": [
  {
   "cell_type": "raw",
   "metadata": {},
   "source": [
    "Number of Fundings\n",
    "Send Feedback\n",
    "Given File 'startup_funding.csv'\n",
    "Problem Statement :\n",
    "Check the trend of investments over the years. To check the trend, find -\n",
    "Total number of fundings done in each year.\n",
    "Plot a line graph between year and number of fundings. Take year on x-axis and number of fundings on y-axis.\n",
    "Print year-wise total number of fundings also. Print years in ascending order.\n",
    "Note :\n",
    "There is some error in the 'Date' feature. Make sure to handle that.\n",
    "Output Format :\n",
    "year1 TotalFunding1\n",
    "year2 TotalFunding2\n",
    ". . . "
   ]
  },
  {
   "cell_type": "code",
   "execution_count": null,
   "metadata": {},
   "outputs": [],
   "source": []
  }
 ],
 "metadata": {
  "kernelspec": {
   "display_name": "Python 3",
   "language": "python",
   "name": "python3"
  },
  "language_info": {
   "codemirror_mode": {
    "name": "ipython",
    "version": 3
   },
   "file_extension": ".py",
   "mimetype": "text/x-python",
   "name": "python",
   "nbconvert_exporter": "python",
   "pygments_lexer": "ipython3",
   "version": "3.7.4"
  }
 },
 "nbformat": 4,
 "nbformat_minor": 2
}
