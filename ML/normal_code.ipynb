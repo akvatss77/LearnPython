{
 "cells": [
  {
   "cell_type": "code",
   "execution_count": 46,
   "metadata": {},
   "outputs": [],
   "source": [
    "import pandas as pd\n",
    "\n",
    "from datetime import datetime\n",
    "\n",
    "data_file = pd.read_csv('Dataset/NXGEXT_MED_00_PD20192101.dat',sep=\"|\",header = None)\n",
    "data_file\n",
    "\n",
    "df = data_file.iloc[:,0:5]\n",
    "#df.drop(df[1],inplace = True)\n",
    "del(df[1])\n",
    "del(df[2])\n",
    "df.columns=['IndvId','AdmissDate','DischDate']\n",
    "datemask = \"%Y-%m-%d\"\n",
    "#datetime_object = datetime.strptime(date1, datemask)\n",
    "df['AdmissDate'] =  pd.to_datetime(df['AdmissDate'], format='%Y-%m-%d')\n",
    "df['DischDate'] =  pd.to_datetime(df['DischDate'], format='%Y-%m-%d')\n",
    "k = df[df['AdmissDate'] > df['DischDate']]\n",
    "\n",
    "j = k.sort_values(by=['IndvId'])\n",
    "j.to_csv('Dataset/Outputwithdates.dat', sep='|', encoding='utf-8',index=False)\n",
    "\n",
    "                                                          \n",
    "                                                \n",
    "                                                                   "
   ]
  }
 ],
 "metadata": {
  "kernelspec": {
   "display_name": "Python 3",
   "language": "python",
   "name": "python3"
  },
  "language_info": {
   "codemirror_mode": {
    "name": "ipython",
    "version": 3
   },
   "file_extension": ".py",
   "mimetype": "text/x-python",
   "name": "python",
   "nbconvert_exporter": "python",
   "pygments_lexer": "ipython3",
   "version": "3.7.4"
  }
 },
 "nbformat": 4,
 "nbformat_minor": 2
}
