{
 "cells": [
  {
   "cell_type": "markdown",
   "metadata": {},
   "source": [
    "# More on Loops"
   ]
  },
  {
   "cell_type": "markdown",
   "metadata": {},
   "source": [
    "## For loop"
   ]
  },
  {
   "cell_type": "raw",
   "metadata": {},
   "source": [
    "for i in x:\n",
    "    ##Here x must be a sequence or collection"
   ]
  },
  {
   "cell_type": "code",
   "execution_count": 1,
   "metadata": {},
   "outputs": [
    {
     "name": "stdout",
     "output_type": "stream",
     "text": [
      "a\n",
      "b\n",
      "c\n",
      "d\n"
     ]
    }
   ],
   "source": [
    "s = \"abcd\"\n",
    "for i in s:\n",
    "    print(i)"
   ]
  },
  {
   "cell_type": "markdown",
   "metadata": {},
   "source": [
    "## Range Function\n",
    "\n",
    "range(start,stop,stride) # this function takes three arguments :you can think of it as AP where start = a, stop = n(nth term)<br> stride = common difference\n"
   ]
  },
  {
   "cell_type": "code",
   "execution_count": 4,
   "metadata": {},
   "outputs": [
    {
     "name": "stdout",
     "output_type": "stream",
     "text": [
      "5\n",
      "0\n",
      "1\n",
      "2\n",
      "3\n",
      "4\n"
     ]
    }
   ],
   "source": [
    "#Print numbers from 0 to n using range function\n",
    "n = int(input())\n",
    "for i in range(0,n,1):\n",
    "    print(i)\n",
    "## We can see that range function doesn't go till n , it stops till n-1"
   ]
  },
  {
   "cell_type": "code",
   "execution_count": 5,
   "metadata": {},
   "outputs": [
    {
     "name": "stdout",
     "output_type": "stream",
     "text": [
      "5\n",
      "1\n",
      "2\n",
      "3\n",
      "4\n",
      "5\n"
     ]
    }
   ],
   "source": [
    "#Print numbers from 1 to n\n",
    "n = int(input())\n",
    "for i in range(1,n+1,1):\n",
    "    print(i)\n"
   ]
  },
  {
   "cell_type": "code",
   "execution_count": 7,
   "metadata": {},
   "outputs": [
    {
     "name": "stdout",
     "output_type": "stream",
     "text": [
      "5\n",
      "0\n",
      "1\n",
      "2\n",
      "3\n",
      "4\n",
      "5\n"
     ]
    }
   ],
   "source": [
    "# In range function we can see that :bydefault start = 0 and stride =1 \n",
    "n = int(input())\n",
    "for i in range(n+1):\n",
    "    print(i)\n"
   ]
  },
  {
   "cell_type": "code",
   "execution_count": 8,
   "metadata": {},
   "outputs": [
    {
     "name": "stdout",
     "output_type": "stream",
     "text": [
      "5\n",
      "1\n",
      "2\n",
      "3\n",
      "4\n",
      "5\n"
     ]
    }
   ],
   "source": [
    "##Range function if given 2 arguments it takes first to be start and second to be stop and by default it takes stride to be 1\n",
    "n = int(input())\n",
    "for i in range(1,n+1):\n",
    "    print(i)"
   ]
  },
  {
   "cell_type": "code",
   "execution_count": 9,
   "metadata": {},
   "outputs": [
    {
     "name": "stdout",
     "output_type": "stream",
     "text": [
      "4\n",
      "4\n",
      "3\n",
      "2\n",
      "1\n"
     ]
    }
   ],
   "source": [
    "#print from n to 1\n",
    "n = int(input())\n",
    "\n",
    "for i in range(n,0,-1):\n",
    "    print(i)"
   ]
  },
  {
   "cell_type": "code",
   "execution_count": 10,
   "metadata": {},
   "outputs": [
    {
     "name": "stdout",
     "output_type": "stream",
     "text": [
      "1\n",
      "9\n",
      "3\n",
      "6\n",
      "9\n"
     ]
    }
   ],
   "source": [
    "#Printing multiples of 3 between a and b\n",
    "a = int(input())\n",
    "b = int(input())\n",
    "\n",
    "for i in range(a,b+1):\n",
    "    if i%3 == 0:\n",
    "        print(i)\n",
    "        \n",
    "        \n",
    "#But this loops do iteration for complete range which is not efficient"
   ]
  },
  {
   "cell_type": "code",
   "execution_count": 11,
   "metadata": {},
   "outputs": [
    {
     "name": "stdout",
     "output_type": "stream",
     "text": [
      "4\n",
      "20\n",
      "6\n",
      "9\n",
      "12\n",
      "15\n",
      "18\n"
     ]
    }
   ],
   "source": [
    "a = int(input())\n",
    "b = int(input())\n",
    "\n",
    "start = a\n",
    "if a %3==1:\n",
    "    start = a + 2\n",
    "elif a % 3 == 2:\n",
    "    start = a + 1\n",
    "\n",
    "for i in range(start,b+1,3):\n",
    "    print(i)\n",
    "    "
   ]
  },
  {
   "cell_type": "markdown",
   "metadata": {},
   "source": [
    "**Write a program to print first x terms of the series 3N + 2 which are not multiples of 4**"
   ]
  },
  {
   "cell_type": "code",
   "execution_count": 12,
   "metadata": {},
   "outputs": [
    {
     "name": "stdout",
     "output_type": "stream",
     "text": [
      "10\n",
      "5 11 14 17 23 26 29 35 38 41 "
     ]
    }
   ],
   "source": [
    "x = int(input())\n",
    "\n",
    "i = 1\n",
    "k = 5\n",
    "\n",
    "while i <= x :\n",
    "    if (k % 4 ) != 0:\n",
    "        print(k,end=\" \")\n",
    "        i += 1\n",
    "    k += 3\n",
    "        \n",
    "        \n",
    "        "
   ]
  },
  {
   "cell_type": "markdown",
   "metadata": {},
   "source": [
    "**Check if a number is prime using for loop**"
   ]
  },
  {
   "cell_type": "code",
   "execution_count": 17,
   "metadata": {},
   "outputs": [
    {
     "name": "stdout",
     "output_type": "stream",
     "text": [
      "9\n",
      "not prime\n"
     ]
    }
   ],
   "source": [
    "n = int(input())\n",
    "flag = False\n",
    "for i in range(2,n,1):\n",
    "    if (n%i == 0):\n",
    "        flag = True\n",
    "if flag:\n",
    "    print(\"not prime\")\n",
    "else:\n",
    "    print(\"prime\")\n",
    "    "
   ]
  },
  {
   "cell_type": "raw",
   "metadata": {},
   "source": [
    "   1\n",
    "  232\n",
    " 34543\n",
    "4567654\n",
    "\n",
    "Print above pattern using for loop"
   ]
  },
  {
   "cell_type": "code",
   "execution_count": 21,
   "metadata": {},
   "outputs": [
    {
     "name": "stdout",
     "output_type": "stream",
     "text": [
      "4\n",
      "   1\n",
      "  232\n",
      " 34543\n",
      "4567654\n"
     ]
    }
   ],
   "source": [
    "n = int(input())\n",
    "\n",
    "for i in range(1,n+1,1):\n",
    "    for space in range(n-i):  #this will start from 0 and increase by 1\n",
    "        print(\" \",end = \"\")\n",
    "    for j in range(i,2*i,1):\n",
    "        print(j,end=\"\")\n",
    "    for j in range(2*i-2,i-1,-1):\n",
    "        print(j,end=\"\")\n",
    "    print()\n",
    "\n"
   ]
  },
  {
   "cell_type": "raw",
   "metadata": {},
   "source": [
    "Write a program that asks the user for a number N and a choice C. And then give him the possibility to choose between computing the sum and computing the product of 1 ,..., N.\n",
    "If user enters C is equal to -\n",
    " 1 : Print sum of 1 to N numbers\n",
    " 2 : Print product of 1 to N numbers\n",
    " Any other number : print -1\n"
   ]
  },
  {
   "cell_type": "code",
   "execution_count": 23,
   "metadata": {},
   "outputs": [
    {
     "name": "stdout",
     "output_type": "stream",
     "text": [
      "7\n",
      "1\n",
      "10\n"
     ]
    }
   ],
   "source": [
    "n = int(input())\n",
    "\n",
    "c = int(input())\n",
    "\n",
    "if c != 1 and c != 2:\n",
    "    print(-1)\n",
    "    exit()\n",
    "\n",
    "sum=0\n",
    "prod=1\n",
    "for i in range(1,n+1,1):\n",
    "    sum += i\n",
    "    prod *= i\n",
    "    \n",
    "if c == 1:\n",
    "    print(sum)\n",
    "elif c == 2:\n",
    "    print(prod)"
   ]
  },
  {
   "cell_type": "markdown",
   "metadata": {},
   "source": [
    "## Break in loops"
   ]
  },
  {
   "cell_type": "code",
   "execution_count": 2,
   "metadata": {},
   "outputs": [
    {
     "name": "stdout",
     "output_type": "stream",
     "text": [
      "1\n",
      "2\n",
      "3\n",
      "4\n",
      "5\n"
     ]
    }
   ],
   "source": [
    "for i in range(1,11,1):\n",
    "    print(i)\n",
    "    if i == 5:\n",
    "        break"
   ]
  },
  {
   "cell_type": "markdown",
   "metadata": {},
   "source": [
    "**Optimizing the prime check code using break**\n"
   ]
  },
  {
   "cell_type": "code",
   "execution_count": 5,
   "metadata": {},
   "outputs": [
    {
     "name": "stdout",
     "output_type": "stream",
     "text": [
      "43\n",
      "prime\n"
     ]
    }
   ],
   "source": [
    "n = int(input())\n",
    "\n",
    "flag = False\n",
    "for i in range(2,n,1):\n",
    "    if n % i == 0:\n",
    "        flag = True\n",
    "        break\n",
    "if flag :\n",
    "    print(\"not prime\")\n",
    "else:\n",
    "    print(\"prime\")"
   ]
  },
  {
   "cell_type": "markdown",
   "metadata": {},
   "source": [
    "**Print all the prime numbers between 1 to n**"
   ]
  },
  {
   "cell_type": "code",
   "execution_count": 8,
   "metadata": {},
   "outputs": [
    {
     "name": "stdout",
     "output_type": "stream",
     "text": [
      "20\n",
      "2\n",
      "3\n",
      "5\n",
      "7\n",
      "11\n",
      "13\n",
      "17\n",
      "19\n"
     ]
    }
   ],
   "source": [
    "n = int(input())\n",
    "\n",
    "for i in range(2,n+1):\n",
    "    flag = False\n",
    "    for k in range(2,i):\n",
    "        if i % k == 0:\n",
    "            flag = True\n",
    "            break\n",
    "    if not(flag):\n",
    "        print(i)"
   ]
  },
  {
   "cell_type": "markdown",
   "metadata": {},
   "source": [
    "**Printing square root for a number**"
   ]
  },
  {
   "cell_type": "code",
   "execution_count": 53,
   "metadata": {},
   "outputs": [
    {
     "name": "stdout",
     "output_type": "stream",
     "text": [
      "4\n",
      "2\n"
     ]
    }
   ],
   "source": [
    "\n",
    "def squareRoot(n):\n",
    "#Implement Your Code Here\n",
    "    if(n == 1):\n",
    "        return 1\n",
    "\n",
    "    for i in range(1,n):\n",
    "        sqr = i*i\n",
    "        if sqr == n:\n",
    "            return i\n",
    "            break\n",
    "        elif sqr > n:\n",
    "            return i -1\n",
    "            break\n",
    "\n",
    "\n",
    "n=int(input())\n",
    "ans = squareRoot(n)\n",
    "print(ans)"
   ]
  },
  {
   "cell_type": "markdown",
   "metadata": {},
   "source": [
    "## Else with loops\n"
   ]
  },
  {
   "cell_type": "code",
   "execution_count": 54,
   "metadata": {},
   "outputs": [
    {
     "name": "stdout",
     "output_type": "stream",
     "text": [
      "1\n",
      "2\n",
      "3\n",
      "4\n",
      "5\n",
      "6\n",
      "7\n",
      "8\n",
      "9\n",
      "printed once loop condition not satisfied anymore\n"
     ]
    }
   ],
   "source": [
    "i = 1\n",
    "while i<10:\n",
    "    print(i)\n",
    "    i += 1\n",
    "else:\n",
    "    print(\"printed once loop condition not satisfied anymore\")"
   ]
  },
  {
   "cell_type": "markdown",
   "metadata": {},
   "source": [
    "## What is the use of else with loop\n",
    "<br> Because even if we don't put the print command in else it's eventually going to print in the end<br>\n",
    "So here is the explaination , The else block will only be printed when loop completes without break<br>\n",
    "if somehow due to some break condition loop ends, the else block will not run :)"
   ]
  },
  {
   "cell_type": "markdown",
   "metadata": {},
   "source": [
    "**Optimizing the prime check code now**"
   ]
  },
  {
   "cell_type": "code",
   "execution_count": 61,
   "metadata": {},
   "outputs": [
    {
     "name": "stdout",
     "output_type": "stream",
     "text": [
      "3\n",
      "prime no\n"
     ]
    }
   ],
   "source": [
    "n = int(input())\n",
    "\n",
    "for i in range(2,n):\n",
    "    if n % i == 0:\n",
    "        break\n",
    "else:\n",
    "    print(\"prime no\")\n"
   ]
  },
  {
   "cell_type": "markdown",
   "metadata": {},
   "source": [
    "## Continue keyword<br>\n",
    "**break is used to break the loop**<br>\n",
    "**contiue is used the skip the iteration**"
   ]
  },
  {
   "cell_type": "raw",
   "metadata": {},
   "source": [
    "Printing multiples of 2 leaving multiples of 7 till n\n"
   ]
  },
  {
   "cell_type": "code",
   "execution_count": 64,
   "metadata": {},
   "outputs": [
    {
     "name": "stdout",
     "output_type": "stream",
     "text": [
      "20\n",
      "2\n",
      "4\n",
      "6\n",
      "8\n",
      "10\n",
      "12\n",
      "16\n",
      "18\n",
      "20\n"
     ]
    }
   ],
   "source": [
    "n = int(input())\n",
    "\n",
    "for i in range(2,n+1,2):\n",
    "    if i % 7 == 0:\n",
    "        continue\n",
    "    print(i)"
   ]
  },
  {
   "cell_type": "markdown",
   "metadata": {},
   "source": [
    "# pass keyword<br>\n",
    "**If you don't want to do aything , then you can leave the block empty in python**<br>\n",
    "**you can instead say pass so as to avoid it**"
   ]
  },
  {
   "cell_type": "code",
   "execution_count": 66,
   "metadata": {},
   "outputs": [
    {
     "name": "stdout",
     "output_type": "stream",
     "text": [
      "1\n",
      "2\n",
      "4\n",
      "5\n",
      "7\n",
      "8\n"
     ]
    }
   ],
   "source": [
    "for i in range(10):\n",
    "    if (i % 3 == 0):\n",
    "        pass\n",
    "    else:\n",
    "        print(i)"
   ]
  },
  {
   "cell_type": "raw",
   "metadata": {},
   "source": [
    "Converting a decimal number to binary"
   ]
  },
  {
   "cell_type": "code",
   "execution_count": 75,
   "metadata": {},
   "outputs": [
    {
     "name": "stdout",
     "output_type": "stream",
     "text": [
      "5\n",
      "101\n"
     ]
    }
   ],
   "source": [
    "n = int(input())\n",
    "\n",
    "rev=''\n",
    "if n == 0:\n",
    "    print(n)\n",
    "    exit()\n",
    "    \n",
    "while n >= 1:\n",
    "    dig = str(n%2)\n",
    "    n = n//2    \n",
    "    rev = dig + rev\n",
    "print(int(rev))"
   ]
  },
  {
   "cell_type": "raw",
   "metadata": {},
   "source": [
    "Given a binary number as an integer N, convert it into decimal and print."
   ]
  },
  {
   "cell_type": "code",
   "execution_count": 78,
   "metadata": {},
   "outputs": [
    {
     "name": "stdout",
     "output_type": "stream",
     "text": [
      "1100\n",
      "12\n"
     ]
    }
   ],
   "source": [
    "n = int(input())\n",
    "\n",
    "p = 0\n",
    "d_num = 0\n",
    "if n == 0:\n",
    "    print(0)\n",
    "    exit()\n",
    "    \n",
    "while n >= 1:\n",
    "    d_num = d_num + (n % 10)*(2**p)\n",
    "    n = n//10\n",
    "    p += 1\n",
    "print(d_num)"
   ]
  },
  {
   "cell_type": "raw",
   "metadata": {},
   "source": [
    "Given a number N find the sum of all the even valued terms in the fibonacci sequence less than or equal to N. Try generating only even fibonacci numbers instead of iterating over all Fibonacci numbers."
   ]
  },
  {
   "cell_type": "code",
   "execution_count": null,
   "metadata": {},
   "outputs": [],
   "source": [
    "n = int(input())\n",
    "\n",
    "a = 1\n",
    "b = 1\n",
    "swp = 0\n",
    "summ = 0\n",
    "\n",
    "while a+b < n:\n",
    "    swp = b\n",
    "    b = a + b\n",
    "    if b % 2 == 0:\n",
    "        summ += b\n",
    "    a = swp\n",
    "print(summ)\n",
    "    \n"
   ]
  },
  {
   "cell_type": "raw",
   "metadata": {},
   "source": [
    "Find and return number of trailing 0s in n factorial without calculating n factorial."
   ]
  },
  {
   "cell_type": "code",
   "execution_count": 3,
   "metadata": {},
   "outputs": [
    {
     "name": "stdout",
     "output_type": "stream",
     "text": [
      "50\n",
      "12\n"
     ]
    }
   ],
   "source": [
    "n = int(input())\n",
    "\n",
    "zeroes = 0\n",
    "while n >= 1:\n",
    "    zeroes = zeroes + (n//5)\n",
    "    n = n // 5\n",
    "print(zeroes)\n",
    "    \n",
    "    "
   ]
  }
 ],
 "metadata": {
  "kernelspec": {
   "display_name": "Python 3",
   "language": "python",
   "name": "python3"
  },
  "language_info": {
   "codemirror_mode": {
    "name": "ipython",
    "version": 3
   },
   "file_extension": ".py",
   "mimetype": "text/x-python",
   "name": "python",
   "nbconvert_exporter": "python",
   "pygments_lexer": "ipython3",
   "version": "3.7.4"
  }
 },
 "nbformat": 4,
 "nbformat_minor": 2
}
